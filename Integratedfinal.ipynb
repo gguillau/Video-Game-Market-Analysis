{
 "cells": [
  {
   "cell_type": "markdown",
   "metadata": {},
   "source": [
    "## Project Description\n",
    "\n",
    "### Objective\n",
    "You work for the online store Ice, which sells video games all over the world. User and expert reviews, genres, platforms (e.g. Xbox or PlayStation), and historical data on game sales are available from open sources. You need to identify patterns that determine whether a game succeeds or not. This will allow you to spot potential big winners and plan advertising campaigns.\n",
    "\n",
    "### Outline\n",
    "- Initialize and preview data\n",
    "- Data Preprocessing\n",
    "    - Replace the column names (make them lowercase).\n",
    "    - Convert the data to the required types.\n",
    "    - If necessary, decide how to deal with missing values:\n",
    "\n",
    "    - Calculate the total sales (the sum of sales in all regions) for each game and put these values in a separate column.\n",
    "- Analyze the data\n",
    "- Create a user profile for each region\n",
    "    - For each region (NA, EU, JP), determine:\n",
    "     - The top five platforms. Describe variations in their market shares from region to region.\n",
    "     - The top five genres. Explain the difference.\n",
    "     - Do ESRB ratings affect sales in individual regions?\n",
    "- Test the following hypotheses:\n",
    "    - Average user ratings of the Xbox One and PC platforms are the same.\n",
    "    - Average user ratings for the Action and Sports genres are different.\n",
    "    - Set the alpha threshold value yourself.\n",
    "    - Explain:\n",
    "        — How you formulated the null and alternative hypotheses\n",
    "        — What significance level you chose to test the hypotheses, and why\n",
    "\n",
    "\n",
    "### Description of data\n",
    "Data description\n",
    "- Name\n",
    "- Platform\n",
    "- Year_of_Release\n",
    "- Genre\n",
    "- NA_sales (North American sales in USD million)\n",
    "- EU_sales (sales in Europe in USD million)\n",
    "- JP_sales (sales in Japan in USD million)\n",
    "- Other_sales (sales in other countries in USD million)\n",
    "- Critic_Score (maximum of 100)\n",
    "- User_Score (maximum of 10)\n",
    "- Rating (ESRB)\n",
    "- Data for 2016 may be incomplete."
   ]
  },
  {
   "cell_type": "markdown",
   "metadata": {},
   "source": [
    "## Initialize and preview data"
   ]
  },
  {
   "cell_type": "code",
   "execution_count": 2,
   "metadata": {},
   "outputs": [],
   "source": [
    "import pandas as pd\n",
    "import numpy as np\n",
    "import seaborn as sns\n",
    "import matplotlib.pyplot as plt\n",
    "from scipy import stats as st\n",
    "\n",
    "df = pd.read_csv('/datasets/games.csv')\n"
   ]
  },
  {
   "cell_type": "code",
   "execution_count": 3,
   "metadata": {
    "scrolled": true
   },
   "outputs": [
    {
     "name": "stdout",
     "output_type": "stream",
     "text": [
      "<class 'pandas.core.frame.DataFrame'>\n",
      "RangeIndex: 16715 entries, 0 to 16714\n",
      "Data columns (total 11 columns):\n",
      "Name               16713 non-null object\n",
      "Platform           16715 non-null object\n",
      "Year_of_Release    16446 non-null float64\n",
      "Genre              16713 non-null object\n",
      "NA_sales           16715 non-null float64\n",
      "EU_sales           16715 non-null float64\n",
      "JP_sales           16715 non-null float64\n",
      "Other_sales        16715 non-null float64\n",
      "Critic_Score       8137 non-null float64\n",
      "User_Score         10014 non-null object\n",
      "Rating             9949 non-null object\n",
      "dtypes: float64(6), object(5)\n",
      "memory usage: 1.4+ MB\n",
      "None\n",
      "\n"
     ]
    },
    {
     "data": {
      "text/html": [
       "<div>\n",
       "<style scoped>\n",
       "    .dataframe tbody tr th:only-of-type {\n",
       "        vertical-align: middle;\n",
       "    }\n",
       "\n",
       "    .dataframe tbody tr th {\n",
       "        vertical-align: top;\n",
       "    }\n",
       "\n",
       "    .dataframe thead th {\n",
       "        text-align: right;\n",
       "    }\n",
       "</style>\n",
       "<table border=\"1\" class=\"dataframe\">\n",
       "  <thead>\n",
       "    <tr style=\"text-align: right;\">\n",
       "      <th></th>\n",
       "      <th>Name</th>\n",
       "      <th>Platform</th>\n",
       "      <th>Year_of_Release</th>\n",
       "      <th>Genre</th>\n",
       "      <th>NA_sales</th>\n",
       "      <th>EU_sales</th>\n",
       "      <th>JP_sales</th>\n",
       "      <th>Other_sales</th>\n",
       "      <th>Critic_Score</th>\n",
       "      <th>User_Score</th>\n",
       "      <th>Rating</th>\n",
       "    </tr>\n",
       "  </thead>\n",
       "  <tbody>\n",
       "    <tr>\n",
       "      <td>0</td>\n",
       "      <td>Wii Sports</td>\n",
       "      <td>Wii</td>\n",
       "      <td>2006.0</td>\n",
       "      <td>Sports</td>\n",
       "      <td>41.36</td>\n",
       "      <td>28.96</td>\n",
       "      <td>3.77</td>\n",
       "      <td>8.45</td>\n",
       "      <td>76.0</td>\n",
       "      <td>8</td>\n",
       "      <td>E</td>\n",
       "    </tr>\n",
       "    <tr>\n",
       "      <td>1</td>\n",
       "      <td>Super Mario Bros.</td>\n",
       "      <td>NES</td>\n",
       "      <td>1985.0</td>\n",
       "      <td>Platform</td>\n",
       "      <td>29.08</td>\n",
       "      <td>3.58</td>\n",
       "      <td>6.81</td>\n",
       "      <td>0.77</td>\n",
       "      <td>NaN</td>\n",
       "      <td>NaN</td>\n",
       "      <td>NaN</td>\n",
       "    </tr>\n",
       "    <tr>\n",
       "      <td>2</td>\n",
       "      <td>Mario Kart Wii</td>\n",
       "      <td>Wii</td>\n",
       "      <td>2008.0</td>\n",
       "      <td>Racing</td>\n",
       "      <td>15.68</td>\n",
       "      <td>12.76</td>\n",
       "      <td>3.79</td>\n",
       "      <td>3.29</td>\n",
       "      <td>82.0</td>\n",
       "      <td>8.3</td>\n",
       "      <td>E</td>\n",
       "    </tr>\n",
       "    <tr>\n",
       "      <td>3</td>\n",
       "      <td>Wii Sports Resort</td>\n",
       "      <td>Wii</td>\n",
       "      <td>2009.0</td>\n",
       "      <td>Sports</td>\n",
       "      <td>15.61</td>\n",
       "      <td>10.93</td>\n",
       "      <td>3.28</td>\n",
       "      <td>2.95</td>\n",
       "      <td>80.0</td>\n",
       "      <td>8</td>\n",
       "      <td>E</td>\n",
       "    </tr>\n",
       "    <tr>\n",
       "      <td>4</td>\n",
       "      <td>Pokemon Red/Pokemon Blue</td>\n",
       "      <td>GB</td>\n",
       "      <td>1996.0</td>\n",
       "      <td>Role-Playing</td>\n",
       "      <td>11.27</td>\n",
       "      <td>8.89</td>\n",
       "      <td>10.22</td>\n",
       "      <td>1.00</td>\n",
       "      <td>NaN</td>\n",
       "      <td>NaN</td>\n",
       "      <td>NaN</td>\n",
       "    </tr>\n",
       "  </tbody>\n",
       "</table>\n",
       "</div>"
      ],
      "text/plain": [
       "                       Name Platform  Year_of_Release         Genre  NA_sales  \\\n",
       "0                Wii Sports      Wii           2006.0        Sports     41.36   \n",
       "1         Super Mario Bros.      NES           1985.0      Platform     29.08   \n",
       "2            Mario Kart Wii      Wii           2008.0        Racing     15.68   \n",
       "3         Wii Sports Resort      Wii           2009.0        Sports     15.61   \n",
       "4  Pokemon Red/Pokemon Blue       GB           1996.0  Role-Playing     11.27   \n",
       "\n",
       "   EU_sales  JP_sales  Other_sales  Critic_Score User_Score Rating  \n",
       "0     28.96      3.77         8.45          76.0          8      E  \n",
       "1      3.58      6.81         0.77           NaN        NaN    NaN  \n",
       "2     12.76      3.79         3.29          82.0        8.3      E  \n",
       "3     10.93      3.28         2.95          80.0          8      E  \n",
       "4      8.89     10.22         1.00           NaN        NaN    NaN  "
      ]
     },
     "execution_count": 3,
     "metadata": {},
     "output_type": "execute_result"
    }
   ],
   "source": [
    "# Print general/summary info of dataset\n",
    "print(df.info())\n",
    "print()\n",
    "df.head()"
   ]
  },
  {
   "cell_type": "code",
   "execution_count": 4,
   "metadata": {
    "scrolled": true
   },
   "outputs": [
    {
     "data": {
      "text/html": [
       "<div>\n",
       "<style scoped>\n",
       "    .dataframe tbody tr th:only-of-type {\n",
       "        vertical-align: middle;\n",
       "    }\n",
       "\n",
       "    .dataframe tbody tr th {\n",
       "        vertical-align: top;\n",
       "    }\n",
       "\n",
       "    .dataframe thead th {\n",
       "        text-align: right;\n",
       "    }\n",
       "</style>\n",
       "<table border=\"1\" class=\"dataframe\">\n",
       "  <thead>\n",
       "    <tr style=\"text-align: right;\">\n",
       "      <th></th>\n",
       "      <th>Year_of_Release</th>\n",
       "      <th>NA_sales</th>\n",
       "      <th>EU_sales</th>\n",
       "      <th>JP_sales</th>\n",
       "      <th>Other_sales</th>\n",
       "      <th>Critic_Score</th>\n",
       "    </tr>\n",
       "  </thead>\n",
       "  <tbody>\n",
       "    <tr>\n",
       "      <td>count</td>\n",
       "      <td>16446.000000</td>\n",
       "      <td>16715.000000</td>\n",
       "      <td>16715.000000</td>\n",
       "      <td>16715.000000</td>\n",
       "      <td>16715.000000</td>\n",
       "      <td>8137.000000</td>\n",
       "    </tr>\n",
       "    <tr>\n",
       "      <td>mean</td>\n",
       "      <td>2006.484616</td>\n",
       "      <td>0.263377</td>\n",
       "      <td>0.145060</td>\n",
       "      <td>0.077617</td>\n",
       "      <td>0.047342</td>\n",
       "      <td>68.967679</td>\n",
       "    </tr>\n",
       "    <tr>\n",
       "      <td>std</td>\n",
       "      <td>5.877050</td>\n",
       "      <td>0.813604</td>\n",
       "      <td>0.503339</td>\n",
       "      <td>0.308853</td>\n",
       "      <td>0.186731</td>\n",
       "      <td>13.938165</td>\n",
       "    </tr>\n",
       "    <tr>\n",
       "      <td>min</td>\n",
       "      <td>1980.000000</td>\n",
       "      <td>0.000000</td>\n",
       "      <td>0.000000</td>\n",
       "      <td>0.000000</td>\n",
       "      <td>0.000000</td>\n",
       "      <td>13.000000</td>\n",
       "    </tr>\n",
       "    <tr>\n",
       "      <td>25%</td>\n",
       "      <td>2003.000000</td>\n",
       "      <td>0.000000</td>\n",
       "      <td>0.000000</td>\n",
       "      <td>0.000000</td>\n",
       "      <td>0.000000</td>\n",
       "      <td>60.000000</td>\n",
       "    </tr>\n",
       "    <tr>\n",
       "      <td>50%</td>\n",
       "      <td>2007.000000</td>\n",
       "      <td>0.080000</td>\n",
       "      <td>0.020000</td>\n",
       "      <td>0.000000</td>\n",
       "      <td>0.010000</td>\n",
       "      <td>71.000000</td>\n",
       "    </tr>\n",
       "    <tr>\n",
       "      <td>75%</td>\n",
       "      <td>2010.000000</td>\n",
       "      <td>0.240000</td>\n",
       "      <td>0.110000</td>\n",
       "      <td>0.040000</td>\n",
       "      <td>0.030000</td>\n",
       "      <td>79.000000</td>\n",
       "    </tr>\n",
       "    <tr>\n",
       "      <td>max</td>\n",
       "      <td>2016.000000</td>\n",
       "      <td>41.360000</td>\n",
       "      <td>28.960000</td>\n",
       "      <td>10.220000</td>\n",
       "      <td>10.570000</td>\n",
       "      <td>98.000000</td>\n",
       "    </tr>\n",
       "  </tbody>\n",
       "</table>\n",
       "</div>"
      ],
      "text/plain": [
       "       Year_of_Release      NA_sales      EU_sales      JP_sales  \\\n",
       "count     16446.000000  16715.000000  16715.000000  16715.000000   \n",
       "mean       2006.484616      0.263377      0.145060      0.077617   \n",
       "std           5.877050      0.813604      0.503339      0.308853   \n",
       "min        1980.000000      0.000000      0.000000      0.000000   \n",
       "25%        2003.000000      0.000000      0.000000      0.000000   \n",
       "50%        2007.000000      0.080000      0.020000      0.000000   \n",
       "75%        2010.000000      0.240000      0.110000      0.040000   \n",
       "max        2016.000000     41.360000     28.960000     10.220000   \n",
       "\n",
       "        Other_sales  Critic_Score  \n",
       "count  16715.000000   8137.000000  \n",
       "mean       0.047342     68.967679  \n",
       "std        0.186731     13.938165  \n",
       "min        0.000000     13.000000  \n",
       "25%        0.000000     60.000000  \n",
       "50%        0.010000     71.000000  \n",
       "75%        0.030000     79.000000  \n",
       "max       10.570000     98.000000  "
      ]
     },
     "execution_count": 4,
     "metadata": {},
     "output_type": "execute_result"
    }
   ],
   "source": [
    "# Descriptive statistics of the data\n",
    "df.describe()\n"
   ]
  },
  {
   "cell_type": "markdown",
   "metadata": {},
   "source": [
    "The max values for each colummn indicates that there are outliers (games that sold way more than compared to the majority of games in that region). Distributions should be looked at per region as stdev indicates different spreads and possibly different distributions.\n",
    "\n"
   ]
  },
  {
   "cell_type": "code",
   "execution_count": 5,
   "metadata": {
    "scrolled": true
   },
   "outputs": [
    {
     "data": {
      "text/plain": [
       "0"
      ]
     },
     "execution_count": 5,
     "metadata": {},
     "output_type": "execute_result"
    }
   ],
   "source": [
    "# Number of exact duplicates\n",
    "df.duplicated().sum()\n"
   ]
  },
  {
   "cell_type": "code",
   "execution_count": 6,
   "metadata": {},
   "outputs": [
    {
     "name": "stdout",
     "output_type": "stream",
     "text": [
      "Name                  2\n",
      "Platform              0\n",
      "Year_of_Release     269\n",
      "Genre                 2\n",
      "NA_sales              0\n",
      "EU_sales              0\n",
      "JP_sales              0\n",
      "Other_sales           0\n",
      "Critic_Score       8578\n",
      "User_Score         6701\n",
      "Rating             6766\n",
      "dtype: int64\n"
     ]
    },
    {
     "data": {
      "text/plain": [
       "Name               0.000120\n",
       "Platform           0.000000\n",
       "Year_of_Release    0.016093\n",
       "Genre              0.000120\n",
       "NA_sales           0.000000\n",
       "EU_sales           0.000000\n",
       "JP_sales           0.000000\n",
       "Other_sales        0.000000\n",
       "Critic_Score       0.513192\n",
       "User_Score         0.400897\n",
       "Rating             0.404786\n",
       "dtype: float64"
      ]
     },
     "execution_count": 6,
     "metadata": {},
     "output_type": "execute_result"
    }
   ],
   "source": [
    "# Missing values\n",
    "print(df.isna().sum())\n",
    "df.isna().mean()"
   ]
  },
  {
   "cell_type": "markdown",
   "metadata": {},
   "source": [
    "The Name, Year of Release, Critic_Score, User_Score, and Rating columns contain null values. The percentage of null values in name and year_of_release are insignificant and will be dropped. The other 3 columns with over 40% null values need to be analyzed further."
   ]
  },
  {
   "cell_type": "markdown",
   "metadata": {},
   "source": [
    "## Data preprocessing"
   ]
  },
  {
   "cell_type": "code",
   "execution_count": 7,
   "metadata": {
    "scrolled": true
   },
   "outputs": [
    {
     "data": {
      "text/html": [
       "<div>\n",
       "<style scoped>\n",
       "    .dataframe tbody tr th:only-of-type {\n",
       "        vertical-align: middle;\n",
       "    }\n",
       "\n",
       "    .dataframe tbody tr th {\n",
       "        vertical-align: top;\n",
       "    }\n",
       "\n",
       "    .dataframe thead th {\n",
       "        text-align: right;\n",
       "    }\n",
       "</style>\n",
       "<table border=\"1\" class=\"dataframe\">\n",
       "  <thead>\n",
       "    <tr style=\"text-align: right;\">\n",
       "      <th></th>\n",
       "      <th>name</th>\n",
       "      <th>platform</th>\n",
       "      <th>year_of_release</th>\n",
       "      <th>genre</th>\n",
       "      <th>na_sales</th>\n",
       "      <th>eu_sales</th>\n",
       "      <th>jp_sales</th>\n",
       "      <th>other_sales</th>\n",
       "      <th>critic_score</th>\n",
       "      <th>user_score</th>\n",
       "      <th>rating</th>\n",
       "    </tr>\n",
       "  </thead>\n",
       "  <tbody>\n",
       "    <tr>\n",
       "      <td>0</td>\n",
       "      <td>Wii Sports</td>\n",
       "      <td>Wii</td>\n",
       "      <td>2006.0</td>\n",
       "      <td>Sports</td>\n",
       "      <td>41.36</td>\n",
       "      <td>28.96</td>\n",
       "      <td>3.77</td>\n",
       "      <td>8.45</td>\n",
       "      <td>76.0</td>\n",
       "      <td>8</td>\n",
       "      <td>E</td>\n",
       "    </tr>\n",
       "    <tr>\n",
       "      <td>1</td>\n",
       "      <td>Super Mario Bros.</td>\n",
       "      <td>NES</td>\n",
       "      <td>1985.0</td>\n",
       "      <td>Platform</td>\n",
       "      <td>29.08</td>\n",
       "      <td>3.58</td>\n",
       "      <td>6.81</td>\n",
       "      <td>0.77</td>\n",
       "      <td>NaN</td>\n",
       "      <td>NaN</td>\n",
       "      <td>NaN</td>\n",
       "    </tr>\n",
       "    <tr>\n",
       "      <td>2</td>\n",
       "      <td>Mario Kart Wii</td>\n",
       "      <td>Wii</td>\n",
       "      <td>2008.0</td>\n",
       "      <td>Racing</td>\n",
       "      <td>15.68</td>\n",
       "      <td>12.76</td>\n",
       "      <td>3.79</td>\n",
       "      <td>3.29</td>\n",
       "      <td>82.0</td>\n",
       "      <td>8.3</td>\n",
       "      <td>E</td>\n",
       "    </tr>\n",
       "    <tr>\n",
       "      <td>3</td>\n",
       "      <td>Wii Sports Resort</td>\n",
       "      <td>Wii</td>\n",
       "      <td>2009.0</td>\n",
       "      <td>Sports</td>\n",
       "      <td>15.61</td>\n",
       "      <td>10.93</td>\n",
       "      <td>3.28</td>\n",
       "      <td>2.95</td>\n",
       "      <td>80.0</td>\n",
       "      <td>8</td>\n",
       "      <td>E</td>\n",
       "    </tr>\n",
       "    <tr>\n",
       "      <td>4</td>\n",
       "      <td>Pokemon Red/Pokemon Blue</td>\n",
       "      <td>GB</td>\n",
       "      <td>1996.0</td>\n",
       "      <td>Role-Playing</td>\n",
       "      <td>11.27</td>\n",
       "      <td>8.89</td>\n",
       "      <td>10.22</td>\n",
       "      <td>1.00</td>\n",
       "      <td>NaN</td>\n",
       "      <td>NaN</td>\n",
       "      <td>NaN</td>\n",
       "    </tr>\n",
       "  </tbody>\n",
       "</table>\n",
       "</div>"
      ],
      "text/plain": [
       "                       name platform  year_of_release         genre  na_sales  \\\n",
       "0                Wii Sports      Wii           2006.0        Sports     41.36   \n",
       "1         Super Mario Bros.      NES           1985.0      Platform     29.08   \n",
       "2            Mario Kart Wii      Wii           2008.0        Racing     15.68   \n",
       "3         Wii Sports Resort      Wii           2009.0        Sports     15.61   \n",
       "4  Pokemon Red/Pokemon Blue       GB           1996.0  Role-Playing     11.27   \n",
       "\n",
       "   eu_sales  jp_sales  other_sales  critic_score user_score rating  \n",
       "0     28.96      3.77         8.45          76.0          8      E  \n",
       "1      3.58      6.81         0.77           NaN        NaN    NaN  \n",
       "2     12.76      3.79         3.29          82.0        8.3      E  \n",
       "3     10.93      3.28         2.95          80.0          8      E  \n",
       "4      8.89     10.22         1.00           NaN        NaN    NaN  "
      ]
     },
     "execution_count": 7,
     "metadata": {},
     "output_type": "execute_result"
    }
   ],
   "source": [
    "# Make every column lowercase\n",
    "df.columns = df.columns.str.lower()\n",
    "df.head()"
   ]
  },
  {
   "cell_type": "markdown",
   "metadata": {},
   "source": [
    "All column names were changed to lower case to avoid future errors.\n",
    "\n"
   ]
  },
  {
   "cell_type": "code",
   "execution_count": 8,
   "metadata": {},
   "outputs": [
    {
     "name": "stdout",
     "output_type": "stream",
     "text": [
      "<class 'pandas.core.frame.DataFrame'>\n",
      "RangeIndex: 16715 entries, 0 to 16714\n",
      "Data columns (total 11 columns):\n",
      "name               16713 non-null object\n",
      "platform           16715 non-null category\n",
      "year_of_release    16446 non-null Int64\n",
      "genre              16713 non-null category\n",
      "na_sales           16715 non-null float64\n",
      "eu_sales           16715 non-null float64\n",
      "jp_sales           16715 non-null float64\n",
      "other_sales        16715 non-null float64\n",
      "critic_score       8137 non-null float64\n",
      "user_score         10014 non-null object\n",
      "rating             9949 non-null category\n",
      "dtypes: Int64(1), category(3), float64(5), object(2)\n",
      "memory usage: 1.1+ MB\n"
     ]
    }
   ],
   "source": [
    "# Convert data to required types \n",
    "\n",
    "# Convert year of release to int\n",
    "df.year_of_release = df.year_of_release.astype('Int64') #Int64 will do change even with nulls\n",
    "df.head()\n",
    "\n",
    "\n",
    "# Convert categorical columns to category\n",
    "df['genre'] = df['genre'].astype('category')\n",
    "df['rating'] = df['rating'].astype('category')\n",
    "df['platform'] = df['platform'].astype('category')\n",
    "\n",
    "df.info()\n",
    "\n",
    "\n",
    "\n",
    "\n",
    "\n",
    "\n",
    "\n"
   ]
  },
  {
   "cell_type": "markdown",
   "metadata": {},
   "source": [
    "User score was incorrectly set as an object but it is numeric. This correction will allow numerical analysis. Year of release was changed to integer as the values are whole numbers. Integers take less memory than floats.\n",
    "\n",
    "The platform, genre, and rating columns were changed to category as the data does represent categories (a finite list of strings) and saving as categories instead of string/objects helps with memory. We can see that \"memory usage\" was improved post data type changes"
   ]
  },
  {
   "cell_type": "code",
   "execution_count": 9,
   "metadata": {
    "scrolled": false
   },
   "outputs": [
    {
     "data": {
      "text/html": [
       "<div>\n",
       "<style scoped>\n",
       "    .dataframe tbody tr th:only-of-type {\n",
       "        vertical-align: middle;\n",
       "    }\n",
       "\n",
       "    .dataframe tbody tr th {\n",
       "        vertical-align: top;\n",
       "    }\n",
       "\n",
       "    .dataframe thead th {\n",
       "        text-align: right;\n",
       "    }\n",
       "</style>\n",
       "<table border=\"1\" class=\"dataframe\">\n",
       "  <thead>\n",
       "    <tr style=\"text-align: right;\">\n",
       "      <th></th>\n",
       "      <th>name</th>\n",
       "      <th>platform</th>\n",
       "      <th>year_of_release</th>\n",
       "      <th>genre</th>\n",
       "      <th>na_sales</th>\n",
       "      <th>eu_sales</th>\n",
       "      <th>jp_sales</th>\n",
       "      <th>other_sales</th>\n",
       "      <th>critic_score</th>\n",
       "      <th>user_score</th>\n",
       "      <th>rating</th>\n",
       "      <th>total_sales</th>\n",
       "    </tr>\n",
       "  </thead>\n",
       "  <tbody>\n",
       "    <tr>\n",
       "      <td>0</td>\n",
       "      <td>Wii Sports</td>\n",
       "      <td>Wii</td>\n",
       "      <td>2006</td>\n",
       "      <td>Sports</td>\n",
       "      <td>41.36</td>\n",
       "      <td>28.96</td>\n",
       "      <td>3.77</td>\n",
       "      <td>8.45</td>\n",
       "      <td>76.0</td>\n",
       "      <td>8</td>\n",
       "      <td>E</td>\n",
       "      <td>82.54</td>\n",
       "    </tr>\n",
       "    <tr>\n",
       "      <td>1</td>\n",
       "      <td>Super Mario Bros.</td>\n",
       "      <td>NES</td>\n",
       "      <td>1985</td>\n",
       "      <td>Platform</td>\n",
       "      <td>29.08</td>\n",
       "      <td>3.58</td>\n",
       "      <td>6.81</td>\n",
       "      <td>0.77</td>\n",
       "      <td>NaN</td>\n",
       "      <td>NaN</td>\n",
       "      <td>NaN</td>\n",
       "      <td>40.24</td>\n",
       "    </tr>\n",
       "    <tr>\n",
       "      <td>2</td>\n",
       "      <td>Mario Kart Wii</td>\n",
       "      <td>Wii</td>\n",
       "      <td>2008</td>\n",
       "      <td>Racing</td>\n",
       "      <td>15.68</td>\n",
       "      <td>12.76</td>\n",
       "      <td>3.79</td>\n",
       "      <td>3.29</td>\n",
       "      <td>82.0</td>\n",
       "      <td>8.3</td>\n",
       "      <td>E</td>\n",
       "      <td>35.52</td>\n",
       "    </tr>\n",
       "    <tr>\n",
       "      <td>3</td>\n",
       "      <td>Wii Sports Resort</td>\n",
       "      <td>Wii</td>\n",
       "      <td>2009</td>\n",
       "      <td>Sports</td>\n",
       "      <td>15.61</td>\n",
       "      <td>10.93</td>\n",
       "      <td>3.28</td>\n",
       "      <td>2.95</td>\n",
       "      <td>80.0</td>\n",
       "      <td>8</td>\n",
       "      <td>E</td>\n",
       "      <td>32.77</td>\n",
       "    </tr>\n",
       "    <tr>\n",
       "      <td>4</td>\n",
       "      <td>Pokemon Red/Pokemon Blue</td>\n",
       "      <td>GB</td>\n",
       "      <td>1996</td>\n",
       "      <td>Role-Playing</td>\n",
       "      <td>11.27</td>\n",
       "      <td>8.89</td>\n",
       "      <td>10.22</td>\n",
       "      <td>1.00</td>\n",
       "      <td>NaN</td>\n",
       "      <td>NaN</td>\n",
       "      <td>NaN</td>\n",
       "      <td>31.38</td>\n",
       "    </tr>\n",
       "  </tbody>\n",
       "</table>\n",
       "</div>"
      ],
      "text/plain": [
       "                       name platform  year_of_release         genre  na_sales  \\\n",
       "0                Wii Sports      Wii             2006        Sports     41.36   \n",
       "1         Super Mario Bros.      NES             1985      Platform     29.08   \n",
       "2            Mario Kart Wii      Wii             2008        Racing     15.68   \n",
       "3         Wii Sports Resort      Wii             2009        Sports     15.61   \n",
       "4  Pokemon Red/Pokemon Blue       GB             1996  Role-Playing     11.27   \n",
       "\n",
       "   eu_sales  jp_sales  other_sales  critic_score user_score rating  \\\n",
       "0     28.96      3.77         8.45          76.0          8      E   \n",
       "1      3.58      6.81         0.77           NaN        NaN    NaN   \n",
       "2     12.76      3.79         3.29          82.0        8.3      E   \n",
       "3     10.93      3.28         2.95          80.0          8      E   \n",
       "4      8.89     10.22         1.00           NaN        NaN    NaN   \n",
       "\n",
       "   total_sales  \n",
       "0        82.54  \n",
       "1        40.24  \n",
       "2        35.52  \n",
       "3        32.77  \n",
       "4        31.38  "
      ]
     },
     "execution_count": 9,
     "metadata": {},
     "output_type": "execute_result"
    }
   ],
   "source": [
    "# Calculate sum of all sales for each game and create new column\n",
    "df['total_sales'] = df['na_sales'] + df['eu_sales'] + df['jp_sales'] + df['other_sales']\n",
    "df.head()"
   ]
  },
  {
   "cell_type": "markdown",
   "metadata": {},
   "source": [
    "### Name"
   ]
  },
  {
   "cell_type": "code",
   "execution_count": 10,
   "metadata": {},
   "outputs": [
    {
     "data": {
      "text/plain": [
       "0"
      ]
     },
     "execution_count": 10,
     "metadata": {},
     "output_type": "execute_result"
    }
   ],
   "source": [
    "# Dropping null values in name colummn\n",
    "df.name.isna().sum()\n",
    "df = df.dropna(subset=['name']) \n",
    "df.name.isna().sum()"
   ]
  },
  {
   "cell_type": "markdown",
   "metadata": {},
   "source": [
    "### Year of Release"
   ]
  },
  {
   "cell_type": "code",
   "execution_count": 11,
   "metadata": {},
   "outputs": [
    {
     "name": "stdout",
     "output_type": "stream",
     "text": [
      "1980\n",
      "2016\n"
     ]
    },
    {
     "data": {
      "text/plain": [
       "37"
      ]
     },
     "execution_count": 11,
     "metadata": {},
     "output_type": "execute_result"
    }
   ],
   "source": [
    "# Finding date range of dataset\n",
    "print(df['year_of_release'].min())\n",
    "print(df['year_of_release'].max())\n",
    "df['year_of_release'].nunique()\n",
    "\n"
   ]
  },
  {
   "cell_type": "markdown",
   "metadata": {},
   "source": [
    "This data shows games released from 1980 to 2016."
   ]
  },
  {
   "cell_type": "code",
   "execution_count": 12,
   "metadata": {},
   "outputs": [
    {
     "name": "stdout",
     "output_type": "stream",
     "text": [
      "0.016095255190570215\n"
     ]
    }
   ],
   "source": [
    "# Dropping null values in year_of_release colummn\n",
    "print(df['year_of_release'].isna().sum() / len(df))\n",
    "df = df.dropna(subset=['year_of_release']) \n"
   ]
  },
  {
   "cell_type": "markdown",
   "metadata": {},
   "source": [
    "### Genre"
   ]
  },
  {
   "cell_type": "code",
   "execution_count": 13,
   "metadata": {},
   "outputs": [],
   "source": [
    "# Lowercase\n",
    "df['genre'] = df['genre'].str.lower()\n"
   ]
  },
  {
   "cell_type": "code",
   "execution_count": 14,
   "metadata": {},
   "outputs": [
    {
     "data": {
      "text/plain": [
       "array(['sports', 'platform', 'racing', 'role-playing', 'puzzle', 'misc',\n",
       "       'shooter', 'simulation', 'action', 'fighting', 'adventure',\n",
       "       'strategy'], dtype=object)"
      ]
     },
     "execution_count": 14,
     "metadata": {},
     "output_type": "execute_result"
    }
   ],
   "source": [
    "df['genre'].unique()\n",
    "\n",
    "\n"
   ]
  },
  {
   "cell_type": "markdown",
   "metadata": {},
   "source": [
    "###  Critic Score"
   ]
  },
  {
   "cell_type": "code",
   "execution_count": 15,
   "metadata": {},
   "outputs": [
    {
     "name": "stdout",
     "output_type": "stream",
     "text": [
      "<class 'pandas.core.frame.DataFrame'>\n",
      "Int64Index: 16444 entries, 0 to 16714\n",
      "Data columns (total 12 columns):\n",
      "name               16444 non-null object\n",
      "platform           16444 non-null category\n",
      "year_of_release    16444 non-null Int64\n",
      "genre              16444 non-null object\n",
      "na_sales           16444 non-null float64\n",
      "eu_sales           16444 non-null float64\n",
      "jp_sales           16444 non-null float64\n",
      "other_sales        16444 non-null float64\n",
      "critic_score       7983 non-null Int64\n",
      "user_score         9839 non-null object\n",
      "rating             9768 non-null category\n",
      "total_sales        16444 non-null float64\n",
      "dtypes: Int64(2), category(2), float64(5), object(3)\n",
      "memory usage: 1.4+ MB\n"
     ]
    }
   ],
   "source": [
    "# Converting to int datatype\n",
    "df['critic_score'] = df['critic_score'].astype('Int64') #Int64 will do change even with nulls\n",
    "df.info()"
   ]
  },
  {
   "cell_type": "markdown",
   "metadata": {},
   "source": [
    "### User Score"
   ]
  },
  {
   "cell_type": "markdown",
   "metadata": {},
   "source": [
    "There are several rows with 'TBD' or 'to be determined'. One reason for these entries could be that a game is newly released and users have not had a chance to play and review them. When attempting to convert user_score to float we get the error: \"ValueError: could not convert string to float: 'tbd'\" showed \"tbd\" used instead of null. Rows with 'tbd' will be replaced by NaN. \n",
    "\n"
   ]
  },
  {
   "cell_type": "code",
   "execution_count": 16,
   "metadata": {},
   "outputs": [
    {
     "name": "stdout",
     "output_type": "stream",
     "text": [
      "<class 'pandas.core.frame.DataFrame'>\n",
      "Int64Index: 16444 entries, 0 to 16714\n",
      "Data columns (total 12 columns):\n",
      "name               16444 non-null object\n",
      "platform           16444 non-null category\n",
      "year_of_release    16444 non-null Int64\n",
      "genre              16444 non-null object\n",
      "na_sales           16444 non-null float64\n",
      "eu_sales           16444 non-null float64\n",
      "jp_sales           16444 non-null float64\n",
      "other_sales        16444 non-null float64\n",
      "critic_score       7983 non-null Int64\n",
      "user_score         7463 non-null float64\n",
      "rating             9768 non-null category\n",
      "total_sales        16444 non-null float64\n",
      "dtypes: Int64(2), category(2), float64(6), object(2)\n",
      "memory usage: 1.4+ MB\n"
     ]
    }
   ],
   "source": [
    "# Replacing 'tbd' entries with Null values\n",
    "df['user_score'] = np.where(df['user_score'] == 'tbd',None, df['user_score'])\n",
    "\n",
    "# Convert user_score column to float\n",
    "df['user_score'] = df['user_score'].astype(float)\n",
    "\n",
    "df.info()\n"
   ]
  },
  {
   "cell_type": "markdown",
   "metadata": {},
   "source": [
    "### Rating"
   ]
  },
  {
   "cell_type": "code",
   "execution_count": 17,
   "metadata": {},
   "outputs": [
    {
     "name": "stdout",
     "output_type": "stream",
     "text": [
      "[E, NaN, M, T, E10+, K-A, AO, EC, RP]\n",
      "Categories (8, object): [E, M, T, E10+, K-A, AO, EC, RP]\n"
     ]
    },
    {
     "data": {
      "text/plain": [
       "0.40598394551204087"
      ]
     },
     "execution_count": 17,
     "metadata": {},
     "output_type": "execute_result"
    }
   ],
   "source": [
    "# Percentage of missing values in rating column\n",
    "print(df['rating'].unique())\n",
    "df['rating'].isna().mean()\n",
    "\n",
    "\n"
   ]
  },
  {
   "cell_type": "markdown",
   "metadata": {},
   "source": [
    "40% of rows in the rating column are missing. Since there are a lot of different ratings, a possible reason for these missing values is that not all of them are used universally."
   ]
  },
  {
   "cell_type": "markdown",
   "metadata": {},
   "source": [
    "### Conclusion\n",
    "\n"
   ]
  },
  {
   "cell_type": "markdown",
   "metadata": {},
   "source": [
    "User score was incorrectly set as an object but it is numeric and was converted to float. The year of release and critic score columns was changed to integer as the values are whole numbers. Platform, genre, and rating were changed to category as the data does represent categories (a finite list of strings) and saving as categories instead of string/objects helps with memory. 3 columns still have a significant number of nulls (40%) therefore they will not be dropped as it may affect the analysis. The rows with 'tbd' in the user_score column were replaced with None values."
   ]
  },
  {
   "cell_type": "markdown",
   "metadata": {},
   "source": [
    "## Analyze the data"
   ]
  },
  {
   "cell_type": "code",
   "execution_count": 18,
   "metadata": {},
   "outputs": [
    {
     "data": {
      "text/plain": [
       "year_of_release\n",
       "1980       9\n",
       "1981      46\n",
       "1982      36\n",
       "1983      17\n",
       "1984      14\n",
       "1985      14\n",
       "1986      21\n",
       "1987      16\n",
       "1988      15\n",
       "1989      17\n",
       "1990      16\n",
       "1991      41\n",
       "1992      43\n",
       "1993      60\n",
       "1994     121\n",
       "1995     219\n",
       "1996     263\n",
       "1997     289\n",
       "1998     379\n",
       "1999     338\n",
       "2000     350\n",
       "2001     482\n",
       "2002     829\n",
       "2003     775\n",
       "2004     762\n",
       "2005     939\n",
       "2006    1006\n",
       "2007    1197\n",
       "2008    1427\n",
       "2009    1426\n",
       "2010    1255\n",
       "2011    1136\n",
       "2012     653\n",
       "2013     544\n",
       "2014     581\n",
       "2015     606\n",
       "2016     502\n",
       "Name: name, dtype: int64"
      ]
     },
     "execution_count": 18,
     "metadata": {},
     "output_type": "execute_result"
    }
   ],
   "source": [
    "#  Number of games released per year\n",
    "df.groupby('year_of_release')['name'].count()"
   ]
  },
  {
   "cell_type": "code",
   "execution_count": 19,
   "metadata": {
    "scrolled": true
   },
   "outputs": [
    {
     "data": {
      "image/png": "[encoded data removed]",
      "text/plain": [
       "<Figure size 432x288 with 1 Axes>"
      ]
     },
     "metadata": {
      "needs_background": "light"
     },
     "output_type": "display_data"
    }
   ],
   "source": [
    "# Plot number of games released per year\n",
    "df.groupby(['year_of_release'])['name'].count().plot()\n",
    "plt.title('Number of Games Released per Year')\n",
    "plt.xlabel(\"Release Year\")\n",
    "plt.ylabel(\"Game Releases\")\n",
    "plt.show()\n"
   ]
  },
  {
   "cell_type": "markdown",
   "metadata": {},
   "source": [
    "We can see an increase in games released around the time a new generation of console is released. For example in 2005-2006, the PS3 and Xbox 360 were released as successors to the PS2 and Xbox."
   ]
  },
  {
   "cell_type": "code",
   "execution_count": 20,
   "metadata": {
    "scrolled": false
   },
   "outputs": [
    {
     "data": {
      "text/plain": [
       "Text(0, 0.5, 'Total Sales (mil) USD')"
      ]
     },
     "execution_count": 20,
     "metadata": {},
     "output_type": "execute_result"
    },
    {
     "data": {
      "image/png": "[encoded data removed]",
      "text/plain": [
       "<Figure size 864x432 with 1 Axes>"
      ]
     },
     "metadata": {
      "needs_background": "light"
     },
     "output_type": "display_data"
    }
   ],
   "source": [
    "# Plot graph Total sales per platform\n",
    "plt.figure(figsize=(12,6))\n",
    "df.groupby('platform')['total_sales'].sum().sort_values(ascending=False).plot(kind='bar')\n",
    "plt.xlabel('Platform')\n",
    "plt.ylabel('Total Sales (mil) USD')"
   ]
  },
  {
   "cell_type": "code",
   "execution_count": 20,
   "metadata": {},
   "outputs": [
    {
     "data": {
      "text/plain": [
       "['PS2', 'X360', 'PS3', 'Wii', 'DS']"
      ]
     },
     "execution_count": 20,
     "metadata": {},
     "output_type": "execute_result"
    }
   ],
   "source": [
    "# Top 5 platforms\n",
    "top_platforms = df.groupby(['platform'])['total_sales'].sum().sort_values(ascending=False).head(5).to_frame().reset_index()['platform'].to_list()\n",
    "top_platforms"
   ]
  },
  {
   "cell_type": "markdown",
   "metadata": {},
   "source": [
    "The top 5 most popular platforms in the world are the PS2, Xbox 360, PS3, Wii, and DS."
   ]
  },
  {
   "cell_type": "code",
   "execution_count": 21,
   "metadata": {
    "scrolled": false
   },
   "outputs": [
    {
     "name": "stdout",
     "output_type": "stream",
     "text": [
      "AxesSubplot(0.125,0.125;0.775x0.755)\n"
     ]
    },
    {
     "data": {
      "image/png": "[encoded data removed]",
      "text/plain": [
       "<Figure size 432x288 with 1 Axes>"
      ]
     },
     "metadata": {
      "needs_background": "light"
     },
     "output_type": "display_data"
    },
    {
     "name": "stdout",
     "output_type": "stream",
     "text": [
      "AxesSubplot(0.125,0.125;0.775x0.755)\n"
     ]
    },
    {
     "data": {
      "image/png": "[encoded data removed]",
      "text/plain": [
       "<Figure size 432x288 with 1 Axes>"
      ]
     },
     "metadata": {
      "needs_background": "light"
     },
     "output_type": "display_data"
    },
    {
     "name": "stdout",
     "output_type": "stream",
     "text": [
      "AxesSubplot(0.125,0.125;0.775x0.755)\n"
     ]
    },
    {
     "data": {
      "image/png": "[encoded data removed]",
      "text/plain": [
       "<Figure size 432x288 with 1 Axes>"
      ]
     },
     "metadata": {
      "needs_background": "light"
     },
     "output_type": "display_data"
    },
    {
     "name": "stdout",
     "output_type": "stream",
     "text": [
      "AxesSubplot(0.125,0.125;0.775x0.755)\n"
     ]
    },
    {
     "data": {
      "image/png": "[encoded data removed]",
      "text/plain": [
       "<Figure size 432x288 with 1 Axes>"
      ]
     },
     "metadata": {
      "needs_background": "light"
     },
     "output_type": "display_data"
    },
    {
     "name": "stdout",
     "output_type": "stream",
     "text": [
      "AxesSubplot(0.125,0.125;0.775x0.755)\n"
     ]
    },
    {
     "data": {
      "image/png": "[encoded data removed]",
      "text/plain": [
       "<Figure size 432x288 with 1 Axes>"
      ]
     },
     "metadata": {
      "needs_background": "light"
     },
     "output_type": "display_data"
    }
   ],
   "source": [
    "# Plot total sales of top 5 platforms per year\n",
    "colors = ['red','blue','green','orange','yellow']\n",
    "for platform in top_platforms:\n",
    "    chart =  df.loc[df['platform'] == platform]\n",
    "    print(chart.groupby(['year_of_release'])['total_sales'].sum().plot(kind='bar', color='blue'))\n",
    "    plt.title(platform +' Total Sales by Year')\n",
    "    plt.xlabel(\"Release Year\")\n",
    "    plt.ylabel(\"Total Sales (mil) USD\");\n",
    "    plt.show()\n",
    "\n",
    "\n",
    "        \n",
    "# Not sure how to properly write the loop to make each chart a different color\n",
    "                                                                                 \n",
    "                                                                                               \n",
    "                                                                                               \n",
    "                                                                                               \n",
    "                                                                                               \n",
    "                                                                                               "
   ]
  },
  {
   "cell_type": "markdown",
   "metadata": {},
   "source": [
    "There seems to be an error in the DS data. The graph shows 1985 as the first year but the DS was first released in 2004. This value will be dropped."
   ]
  },
  {
   "cell_type": "code",
   "execution_count": 22,
   "metadata": {},
   "outputs": [],
   "source": [
    "# Dropping 1985 DS data\n",
    "df.loc[(df['platform']=='DS') & (df['year_of_release']==1985)]\n",
    "df.drop([15957],inplace=True)\n"
   ]
  },
  {
   "cell_type": "code",
   "execution_count": 23,
   "metadata": {},
   "outputs": [
    {
     "data": {
      "text/plain": [
       "mean      10.2\n",
       "median    10.0\n",
       "Name: platform_span, dtype: float64"
      ]
     },
     "execution_count": 23,
     "metadata": {},
     "output_type": "execute_result"
    }
   ],
   "source": [
    "# Average lifespan of top 5 platforms\n",
    "top_df = df.loc[df['platform'].isin(top_platforms) == True].groupby(['platform'])['year_of_release'].agg({min, max}).reset_index()\n",
    "top_df['platform_span'] = top_df['max'] - top_df['min']\n",
    "top_df_span = top_df[['platform','platform_span']].sort_values(by='platform_span', ascending=False).head(5)\n",
    "top_df_span.platform_span.agg([np.mean,np.median])"
   ]
  },
  {
   "cell_type": "markdown",
   "metadata": {},
   "source": [
    "New platforms generally take about 10 years to appear and old ones to fade."
   ]
  },
  {
   "cell_type": "code",
   "execution_count": 24,
   "metadata": {},
   "outputs": [
    {
     "data": {
      "image/png": "[encoded data removed]",
      "text/plain": [
       "<Figure size 432x288 with 1 Axes>"
      ]
     },
     "metadata": {
      "needs_background": "light"
     },
     "output_type": "display_data"
    }
   ],
   "source": [
    "# Plot average lifespan of top 5 platforms\n",
    "top_df_span['platform'] = top_df['platform'].astype('object')\n",
    "sns.barplot(x=\"platform\", y=\"platform_span\", data=top_df_span, palette=\"Blues_d\").set_title('Lifespan (Years) for Top 5 Platforms')\n",
    "plt.xlabel(\"Platform\")\n",
    "plt.ylabel(\"Platform Lifespan (years)\")\n",
    "plt.show()\n"
   ]
  },
  {
   "cell_type": "code",
   "execution_count": 25,
   "metadata": {},
   "outputs": [
    {
     "data": {
      "image/png": "[encoded data removed]",
      "text/plain": [
       "<Figure size 432x288 with 1 Axes>"
      ]
     },
     "metadata": {
      "needs_background": "light"
     },
     "output_type": "display_data"
    }
   ],
   "source": [
    "# Number of game releases per year worldwide\n",
    "df.groupby(['year_of_release'])['platform'].count().plot()\n",
    "plt.xlabel('Year')\n",
    "plt.ylabel('Game Releases')\n",
    "plt.title('Number of releases per year')\n",
    "plt.show()\n"
   ]
  },
  {
   "cell_type": "code",
   "execution_count": 132,
   "metadata": {
    "scrolled": true
   },
   "outputs": [
    {
     "name": "stdout",
     "output_type": "stream",
     "text": [
      "<class 'pandas.core.frame.DataFrame'>\n",
      "Int64Index: 2233 entries, 16 to 16714\n",
      "Data columns (total 12 columns):\n",
      "name               2233 non-null object\n",
      "platform           2233 non-null category\n",
      "year_of_release    2233 non-null Int64\n",
      "genre              2233 non-null object\n",
      "na_sales           2233 non-null float64\n",
      "eu_sales           2233 non-null float64\n",
      "jp_sales           2233 non-null float64\n",
      "other_sales        2233 non-null float64\n",
      "critic_score       991 non-null Int64\n",
      "user_score         1192 non-null float64\n",
      "rating             1256 non-null category\n",
      "total_sales        2233 non-null float64\n",
      "dtypes: Int64(2), category(2), float64(6), object(2)\n",
      "memory usage: 202.5+ KB\n"
     ]
    },
    {
     "data": {
      "text/plain": [
       "platform\n",
       "PS4     314.14\n",
       "PS3     181.43\n",
       "XOne    159.32\n",
       "3DS     143.25\n",
       "X360    136.80\n",
       "Name: total_sales, dtype: float64"
      ]
     },
     "execution_count": 132,
     "metadata": {},
     "output_type": "execute_result"
    }
   ],
   "source": [
    "# Filter data from 2013\n",
    "filtered_df = df.query('year_of_release >= 2013')\n",
    "\n",
    "filtered_df.info()\n",
    "filtered_df.groupby('platform')['total_sales'].sum().sort_values(ascending=False).head(5)"
   ]
  },
  {
   "cell_type": "code",
   "execution_count": 133,
   "metadata": {},
   "outputs": [
    {
     "data": {
      "image/png": "[encoded data removed]",
      "text/plain": [
       "<Figure size 432x288 with 1 Axes>"
      ]
     },
     "metadata": {
      "needs_background": "light"
     },
     "output_type": "display_data"
    }
   ],
   "source": [
    "# Plot total sales of top 5 platforms\n",
    "filtered_df.groupby('platform')['total_sales'].sum().sort_values(ascending=False).head(5).plot(kind='bar')\n",
    "plt.xlabel('Platform')\n",
    "plt.ylabel('Total Sales')\n",
    "plt.title('Total Sales per Platform (2013-2016)')\n",
    "plt.show()"
   ]
  },
  {
   "cell_type": "markdown",
   "metadata": {},
   "source": [
    "From 2013-2016, PS4 games outsold it's competitors by a large margine and sold the most units,  followed by the PS3, and then the Xbox One."
   ]
  },
  {
   "cell_type": "code",
   "execution_count": 28,
   "metadata": {},
   "outputs": [
    {
     "name": "stdout",
     "output_type": "stream",
     "text": [
      "Q1:  0.06999999999999999\n",
      "Q3:  0.49999999999999994\n",
      "IQR:  0.42999999999999994\n",
      "min:  0\n",
      "max:  1.1449999999999998\n"
     ]
    }
   ],
   "source": [
    "# Remove outliers from total sales\n",
    "top_5_platforms = top_df_span.platform.unique()\n",
    "top5_platforms_since2013 = filtered_df.query('platform in @top_5_platforms')\n",
    "\n",
    "Q1 = top5_platforms_since2013['total_sales'].quantile(0.25)\n",
    "Q3 = top5_platforms_since2013['total_sales'].quantile(0.75)\n",
    "IQR = Q3 - Q1\n",
    "print('Q1: ', Q1)\n",
    "print('Q3: ', Q3)\n",
    "print('IQR: ', IQR)\n",
    "\n",
    "bottom_cutoff = Q1 - (1.5*IQR)\n",
    "top_cutoff = Q3 + 1.5 * IQR\n",
    "if bottom_cutoff < 0:\n",
    "    bottom_cutoff = 0\n",
    "print('min: ',bottom_cutoff)\n",
    "print('max: ',top_cutoff)\n",
    "\n",
    "# Remove outliers from data\n",
    "top5_platforms_since2013 = top5_platforms_since2013.query('total_sales <= @top_cutoff')"
   ]
  },
  {
   "cell_type": "markdown",
   "metadata": {},
   "source": [
    "Outliers may negatively affect our analysis so they are dropped."
   ]
  },
  {
   "cell_type": "code",
   "execution_count": 136,
   "metadata": {},
   "outputs": [
    {
     "data": {
      "image/png": "[encoded data removed]",
      "text/plain": [
       "<Figure size 864x432 with 1 Axes>"
      ]
     },
     "metadata": {
      "needs_background": "light"
     },
     "output_type": "display_data"
    }
   ],
   "source": [
    "# Build a box plot for the global sales of all games, broken down by top 5 platforms. \n",
    "plt.figure(figsize=(12,6))\n",
    "top5_platforms_since2013['platform'] = top5_platforms_since2013.platform.astype('object')\n",
    "sns.boxplot(x='total_sales',y='platform',data=top5_platforms_since2013)\n",
    "plt.xlabel('Total Sales')\n",
    "plt.ylabel('Platform')\n",
    "plt.title('Total Sales of Top 5 Platforms (2013-2016)')\n",
    "plt.show()"
   ]
  },
  {
   "cell_type": "code",
   "execution_count": 30,
   "metadata": {},
   "outputs": [
    {
     "name": "stderr",
     "output_type": "stream",
     "text": [
      "/opt/conda/lib/python3.7/site-packages/pandas/core/ops/__init__.py:1115: FutureWarning: elementwise comparison failed; returning scalar instead, but in the future will perform elementwise comparison\n",
      "  result = method(y)\n"
     ]
    },
    {
     "data": {
      "image/png": "[encoded data removed]",
      "text/plain": [
       "<Figure size 432x288 with 1 Axes>"
      ]
     },
     "metadata": {
      "needs_background": "light"
     },
     "output_type": "display_data"
    }
   ],
   "source": [
    "# Replace\n",
    "top5_platforms_since2013['user_score'] = np.where(top5_platforms_since2013['user_score'] == 'tbd',np.nan, top5_platforms_since2013['user_score'])\n",
    "\n",
    "# Convert user_score column to float\n",
    "top5_platforms_since2013['user_score'] = top5_platforms_since2013['user_score'].astype(float)\n",
    "ps4_data = top5_platforms_since2013.query('platform == \"PS4\"')\n",
    "\n",
    "# Plot \n",
    "ps4_data.plot(x='user_score',y='total_sales',kind='scatter')\n",
    "plt.xlabel(\"User Score\")\n",
    "plt.ylabel(\"Total Sales USD (mil)\")\n",
    "plt.title('PS4 Total Sales per User Score (2013-2016)')\n",
    "plt.show()\n"
   ]
  },
  {
   "cell_type": "code",
   "execution_count": 179,
   "metadata": {},
   "outputs": [
    {
     "name": "stdout",
     "output_type": "stream",
     "text": [
      "Correlation between user score and total sales: 0.027407856148379758\n"
     ]
    }
   ],
   "source": [
    "# calculate the correlation between user reviews and sales.\n",
    "print('Correlation between user score and total sales:', ps4_data['user_score'].astype('float64').corr(ps4_data['total_sales']).astype('float64')\n",
    ")"
   ]
  },
  {
   "cell_type": "markdown",
   "metadata": {},
   "source": [
    "There is close to no correlation between user score and total sales for PS4 games."
   ]
  },
  {
   "cell_type": "code",
   "execution_count": 32,
   "metadata": {},
   "outputs": [
    {
     "data": {
      "image/png": "[encoded data removed]",
      "text/plain": [
       "<Figure size 432x288 with 1 Axes>"
      ]
     },
     "metadata": {
      "needs_background": "light"
     },
     "output_type": "display_data"
    }
   ],
   "source": [
    "# Total sales vs critic score\n",
    "PS4_data.plot(x='critic_score',y='total_sales',kind='scatter')\n",
    "plt.xlabel(\"Critic Score\")\n",
    "plt.ylabel(\"Total Sales USD (mil)\")\n",
    "plt.title('PS4 Total Sales per Critic Score (2013-2016)')\n",
    "plt.show()"
   ]
  },
  {
   "cell_type": "markdown",
   "metadata": {},
   "source": []
  },
  {
   "cell_type": "code",
   "execution_count": 180,
   "metadata": {},
   "outputs": [
    {
     "name": "stdout",
     "output_type": "stream",
     "text": [
      "Correlation between critic score and total sales: 0.3105805246902244\n"
     ]
    }
   ],
   "source": [
    "# Find correlation between total sales and critic score\n",
    "print('Correlation between critic score and total sales:', ps4_data['critic_score'].astype('float64').corr(ps4_data['total_sales']).astype('float64')\n",
    ")\n"
   ]
  },
  {
   "cell_type": "markdown",
   "metadata": {},
   "source": [
    "There is a moderate correlation between critic score and total score for PS4 games. As critic score improve, total sales moderately improve."
   ]
  },
  {
   "cell_type": "code",
   "execution_count": 236,
   "metadata": {
    "scrolled": false
   },
   "outputs": [
    {
     "data": {
      "text/plain": [
       "Text(0, 0.5, 'Genre')"
      ]
     },
     "execution_count": 236,
     "metadata": {},
     "output_type": "execute_result"
    },
    {
     "data": {
      "image/png": "[encoded data removed]",
      "text/plain": [
       "<Figure size 864x432 with 1 Axes>"
      ]
     },
     "metadata": {
      "needs_background": "light"
     },
     "output_type": "display_data"
    }
   ],
   "source": [
    "plt.figure(figsize=(12,6))\n",
    "sns.barplot(x=\"total_sales\", y=\"genre\", data=top5_platforms_since2013).set_title('Total Sales by Genre (2013-2016)')\n",
    "#top5_platforms_past_decade.genre.unique()\n",
    "plt.xlabel(\"Total Sales USD (mil)\")\n",
    "plt.ylabel(\"Genre\")\n",
    "\n"
   ]
  },
  {
   "cell_type": "code",
   "execution_count": 237,
   "metadata": {},
   "outputs": [
    {
     "data": {
      "text/html": [
       "<div>\n",
       "<style scoped>\n",
       "    .dataframe tbody tr th:only-of-type {\n",
       "        vertical-align: middle;\n",
       "    }\n",
       "\n",
       "    .dataframe tbody tr th {\n",
       "        vertical-align: top;\n",
       "    }\n",
       "\n",
       "    .dataframe thead th {\n",
       "        text-align: right;\n",
       "    }\n",
       "</style>\n",
       "<table border=\"1\" class=\"dataframe\">\n",
       "  <thead>\n",
       "    <tr style=\"text-align: right;\">\n",
       "      <th></th>\n",
       "      <th>total_sales</th>\n",
       "    </tr>\n",
       "    <tr>\n",
       "      <th>genre</th>\n",
       "      <th></th>\n",
       "    </tr>\n",
       "  </thead>\n",
       "  <tbody>\n",
       "    <tr>\n",
       "      <td>shooter</td>\n",
       "      <td>0.310</td>\n",
       "    </tr>\n",
       "    <tr>\n",
       "      <td>sports</td>\n",
       "      <td>0.230</td>\n",
       "    </tr>\n",
       "    <tr>\n",
       "      <td>racing</td>\n",
       "      <td>0.170</td>\n",
       "    </tr>\n",
       "    <tr>\n",
       "      <td>role-playing</td>\n",
       "      <td>0.160</td>\n",
       "    </tr>\n",
       "    <tr>\n",
       "      <td>fighting</td>\n",
       "      <td>0.160</td>\n",
       "    </tr>\n",
       "    <tr>\n",
       "      <td>platform</td>\n",
       "      <td>0.150</td>\n",
       "    </tr>\n",
       "    <tr>\n",
       "      <td>action</td>\n",
       "      <td>0.140</td>\n",
       "    </tr>\n",
       "    <tr>\n",
       "      <td>misc</td>\n",
       "      <td>0.130</td>\n",
       "    </tr>\n",
       "    <tr>\n",
       "      <td>simulation</td>\n",
       "      <td>0.120</td>\n",
       "    </tr>\n",
       "    <tr>\n",
       "      <td>strategy</td>\n",
       "      <td>0.085</td>\n",
       "    </tr>\n",
       "    <tr>\n",
       "      <td>puzzle</td>\n",
       "      <td>0.070</td>\n",
       "    </tr>\n",
       "    <tr>\n",
       "      <td>adventure</td>\n",
       "      <td>0.060</td>\n",
       "    </tr>\n",
       "  </tbody>\n",
       "</table>\n",
       "</div>"
      ],
      "text/plain": [
       "              total_sales\n",
       "genre                    \n",
       "shooter             0.310\n",
       "sports              0.230\n",
       "racing              0.170\n",
       "role-playing        0.160\n",
       "fighting            0.160\n",
       "platform            0.150\n",
       "action              0.140\n",
       "misc                0.130\n",
       "simulation          0.120\n",
       "strategy            0.085\n",
       "puzzle              0.070\n",
       "adventure           0.060"
      ]
     },
     "execution_count": 237,
     "metadata": {},
     "output_type": "execute_result"
    }
   ],
   "source": [
    "# Median total sales per genre\n",
    "pd.DataFrame(top5_platforms_since2013.groupby('genre')['total_sales'].median().sort_values(ascending=False))"
   ]
  },
  {
   "cell_type": "markdown",
   "metadata": {},
   "source": [
    "From 2013-2016, The shooter and sports genres were the most popular across all platforms."
   ]
  },
  {
   "cell_type": "markdown",
   "metadata": {},
   "source": [
    "### Conclusion"
   ]
  },
  {
   "cell_type": "markdown",
   "metadata": {},
   "source": [
    "A majority of games were released from 2000-2010. The top 5 most popular platforms in the world since 1985 are the PS2, Xbox 360, PS3, Wii, and DS. New platforms generally take about 10 years to appear and old ones to fade. From 2013-2016, PS4 games outsold it's competitors by a large margine and sold the most units,  followed by the PS3, and then the Xbox One. Since 2013, the shooter and sports genres were the most popular across all platforms."
   ]
  },
  {
   "cell_type": "markdown",
   "metadata": {},
   "source": [
    "## Create user profile for each region"
   ]
  },
  {
   "cell_type": "markdown",
   "metadata": {},
   "source": [
    "### Japan"
   ]
  },
  {
   "cell_type": "code",
   "execution_count": 253,
   "metadata": {
    "scrolled": false
   },
   "outputs": [
    {
     "data": {
      "image/png": "[encoded data removed]",
      "text/plain": [
       "<Figure size 432x288 with 1 Axes>"
      ]
     },
     "metadata": {},
     "output_type": "display_data"
    }
   ],
   "source": [
    "# Create user profile for Japan\n",
    "\n",
    "japan = top5_platforms_since2013[['name','platform','year_of_release','genre','jp_sales','critic_score','user_score','rating','total_sales']]\n",
    "japan = japan.query('jp_sales >0')\n",
    "\n",
    "# Pie chart\n",
    "labels = ['3DS','PS3','PS4','X360','XOne']\n",
    "plt.pie(japan.groupby('platform')['jp_sales'].sum().sort_values(ascending=False),labels=labels,autopct='%1.1f%%',radius=2,explode=[0.1,0,0,0,0])\n",
    "\n",
    "plt.show()"
   ]
  },
  {
   "cell_type": "markdown",
   "metadata": {},
   "source": [
    "The Nintendo 3DS was by far the most popular platform in Japan from 2013-2016, followed by the PS3 and PS4, respectively."
   ]
  },
  {
   "cell_type": "code",
   "execution_count": 228,
   "metadata": {},
   "outputs": [
    {
     "data": {
      "image/png": "[encoded data removed]",
      "text/plain": [
       "<Figure size 864x432 with 1 Axes>"
      ]
     },
     "metadata": {
      "needs_background": "light"
     },
     "output_type": "display_data"
    }
   ],
   "source": [
    "# Genres\n",
    "\n",
    "plt.figure(figsize=(12,6))\n",
    "sns.boxplot(x=\"jp_sales\", y=\"genre\", data=japan).set_title('Japan Sales by Genre (2013-2016)')\n",
    "plt.ylabel('Genre')\n",
    "plt.xlabel('Total Sales (mil) USD')\n",
    "plt.xlim(0,0.4)\n",
    "plt.show()\n",
    "\n",
    "\n"
   ]
  },
  {
   "cell_type": "code",
   "execution_count": 223,
   "metadata": {},
   "outputs": [
    {
     "data": {
      "text/html": [
       "<div>\n",
       "<style scoped>\n",
       "    .dataframe tbody tr th:only-of-type {\n",
       "        vertical-align: middle;\n",
       "    }\n",
       "\n",
       "    .dataframe tbody tr th {\n",
       "        vertical-align: top;\n",
       "    }\n",
       "\n",
       "    .dataframe thead th {\n",
       "        text-align: right;\n",
       "    }\n",
       "</style>\n",
       "<table border=\"1\" class=\"dataframe\">\n",
       "  <thead>\n",
       "    <tr style=\"text-align: right;\">\n",
       "      <th></th>\n",
       "      <th>total_sales</th>\n",
       "    </tr>\n",
       "    <tr>\n",
       "      <th>genre</th>\n",
       "      <th></th>\n",
       "    </tr>\n",
       "  </thead>\n",
       "  <tbody>\n",
       "    <tr>\n",
       "      <td>racing</td>\n",
       "      <td>0.42</td>\n",
       "    </tr>\n",
       "    <tr>\n",
       "      <td>shooter</td>\n",
       "      <td>0.41</td>\n",
       "    </tr>\n",
       "    <tr>\n",
       "      <td>sports</td>\n",
       "      <td>0.26</td>\n",
       "    </tr>\n",
       "    <tr>\n",
       "      <td>platform</td>\n",
       "      <td>0.23</td>\n",
       "    </tr>\n",
       "    <tr>\n",
       "      <td>fighting</td>\n",
       "      <td>0.18</td>\n",
       "    </tr>\n",
       "    <tr>\n",
       "      <td>role-playing</td>\n",
       "      <td>0.16</td>\n",
       "    </tr>\n",
       "    <tr>\n",
       "      <td>action</td>\n",
       "      <td>0.14</td>\n",
       "    </tr>\n",
       "    <tr>\n",
       "      <td>simulation</td>\n",
       "      <td>0.12</td>\n",
       "    </tr>\n",
       "    <tr>\n",
       "      <td>puzzle</td>\n",
       "      <td>0.11</td>\n",
       "    </tr>\n",
       "    <tr>\n",
       "      <td>misc</td>\n",
       "      <td>0.08</td>\n",
       "    </tr>\n",
       "    <tr>\n",
       "      <td>strategy</td>\n",
       "      <td>0.07</td>\n",
       "    </tr>\n",
       "    <tr>\n",
       "      <td>adventure</td>\n",
       "      <td>0.04</td>\n",
       "    </tr>\n",
       "  </tbody>\n",
       "</table>\n",
       "</div>"
      ],
      "text/plain": [
       "              total_sales\n",
       "genre                    \n",
       "racing               0.42\n",
       "shooter              0.41\n",
       "sports               0.26\n",
       "platform             0.23\n",
       "fighting             0.18\n",
       "role-playing         0.16\n",
       "action               0.14\n",
       "simulation           0.12\n",
       "puzzle               0.11\n",
       "misc                 0.08\n",
       "strategy             0.07\n",
       "adventure            0.04"
      ]
     },
     "execution_count": 223,
     "metadata": {},
     "output_type": "execute_result"
    }
   ],
   "source": [
    "# Median total sales per genre\n",
    "\n",
    "pd.DataFrame(japan.groupby('genre')['total_sales'].median().sort_values(ascending=False))\n"
   ]
  },
  {
   "cell_type": "code",
   "execution_count": 227,
   "metadata": {},
   "outputs": [
    {
     "data": {
      "image/png": "[encoded data removed]",
      "text/plain": [
       "<Figure size 864x432 with 2 Axes>"
      ]
     },
     "metadata": {
      "needs_background": "light"
     },
     "output_type": "display_data"
    }
   ],
   "source": [
    "# Plot and compare releases per genre\n",
    "fig, (ax1, ax2) = plt.subplots(1,2,figsize=(12,6))\n",
    "japan.genre.value_counts().plot(kind='bar',ax=ax1).set_title('Number of Releases per Genre in Japan (2013-2016)')\n",
    "japan.groupby('genre')['jp_sales'].median().sort_values(ascending=False).plot(kind='bar',color='red').set_title('Japan Sales per Genre (2013-2016)')\n",
    "\n",
    "ax1.set_xlabel('Genre')\n",
    "ax2.set_xlabel('Genre')\n",
    "\n",
    "ax1.set_ylabel('Game Releases')\n",
    "ax2.set_ylabel('Median Sales (mil) USD')\n",
    "plt.show()\n",
    "\n",
    "\n",
    "\n"
   ]
  },
  {
   "cell_type": "markdown",
   "metadata": {},
   "source": [
    "Due to the presence of outliers, the median was used instead of the mean to aggregate the data. The action genre had the most game releases in Japan from 2013-2016, but the most popular genres by median total sales were sports and puzzle, followed by role-playing."
   ]
  },
  {
   "cell_type": "code",
   "execution_count": 226,
   "metadata": {
    "scrolled": false
   },
   "outputs": [
    {
     "data": {
      "image/png": "[encoded data removed]",
      "text/plain": [
       "<Figure size 864x432 with 2 Axes>"
      ]
     },
     "metadata": {
      "needs_background": "light"
     },
     "output_type": "display_data"
    }
   ],
   "source": [
    "# Rating \n",
    "japan['rating'].value_counts(normalize=True)\n",
    "\n",
    "fig, (ax1, ax2) = plt.subplots(1,2,figsize=(12,6))\n",
    "japan['rating'].value_counts().plot(kind='bar',color='green',ax=ax1).set_title('Japan: Number of Releases per Rating (2013-2016)')\n",
    "japan.groupby('rating')['jp_sales'].median().sort_values(ascending=False).plot(kind='bar',color='red',ax=ax2).set_title('Japan Sales per Rating (2013-2016)')\n",
    "\n",
    "ax1.set_xlabel('Rating')\n",
    "ax2.set_xlabel('Rating')\n",
    "\n",
    "ax1.set_ylabel('Game Releases')\n",
    "ax2.set_ylabel('Median Sales (mil) USD')\n",
    "plt.show()\n",
    "\n",
    "\n"
   ]
  },
  {
   "cell_type": "code",
   "execution_count": 220,
   "metadata": {},
   "outputs": [
    {
     "data": {
      "text/plain": [
       "0.5609452736318408"
      ]
     },
     "execution_count": 220,
     "metadata": {},
     "output_type": "execute_result"
    }
   ],
   "source": [
    "japan.rating.isna().mean()"
   ]
  },
  {
   "cell_type": "markdown",
   "metadata": {},
   "source": [
    "#### Summary\n",
    "The Nintendo 3DS was by far the most popular platform in Japan from 2013-2016, followed by the PS3 and PS4, respectively. The Xbox 360 has the least sales out of the top 5 platforms. The action genre had the most game releases in Japan from 2013-2016, but the most popular genres by median total sales were sports and puzzle, followed by role-playing. The most profitable game rating is T and and E.\n",
    "\n"
   ]
  },
  {
   "cell_type": "markdown",
   "metadata": {},
   "source": [
    "### North America"
   ]
  },
  {
   "cell_type": "code",
   "execution_count": 252,
   "metadata": {
    "scrolled": false
   },
   "outputs": [
    {
     "data": {
      "image/png": "[encoded data removed]",
      "text/plain": [
       "<Figure size 432x288 with 1 Axes>"
      ]
     },
     "metadata": {},
     "output_type": "display_data"
    }
   ],
   "source": [
    "# Create user profile for North America\n",
    "north_america = top5_platforms_since2013[['name','platform','year_of_release','genre','na_sales','critic_score','user_score','rating','total_sales']]\n",
    "north_america = north_america.query('na_sales>0')\n",
    "\n",
    "# Pie chart\n",
    "labels = ['X360','PS3','XOne','PS4','3DS']\n",
    "plt.pie(north_america.groupby('platform')['na_sales'].sum().sort_values(ascending=False),labels=labels,autopct='%1.1f%%',radius=2,explode=[0.1,0,0,0,0])\n",
    "\n",
    "\n",
    "plt.show()\n",
    "\n"
   ]
  },
  {
   "cell_type": "markdown",
   "metadata": {},
   "source": [
    "The Xbox 360 was the most popular platform in North America from 2013-2016, closely followed by the PS3 and Xbox One, respectively."
   ]
  },
  {
   "cell_type": "code",
   "execution_count": 233,
   "metadata": {},
   "outputs": [
    {
     "data": {
      "image/png": "[encoded data removed]",
      "text/plain": [
       "<Figure size 864x432 with 1 Axes>"
      ]
     },
     "metadata": {
      "needs_background": "light"
     },
     "output_type": "display_data"
    }
   ],
   "source": [
    "# Genres\n",
    "plt.figure(figsize=(12,6))\n",
    "sns.boxplot(x=\"na_sales\", y=\"genre\", data=north_america).set_title('North American Sales by Genre (2013-2016)')\n",
    "plt.xlabel('Total Sales (mil) USD')\n",
    "plt.ylabel('Genre')\n",
    "plt.xlim(0,0.8)\n",
    "plt.show()"
   ]
  },
  {
   "cell_type": "code",
   "execution_count": 209,
   "metadata": {},
   "outputs": [
    {
     "data": {
      "text/html": [
       "<div>\n",
       "<style scoped>\n",
       "    .dataframe tbody tr th:only-of-type {\n",
       "        vertical-align: middle;\n",
       "    }\n",
       "\n",
       "    .dataframe tbody tr th {\n",
       "        vertical-align: top;\n",
       "    }\n",
       "\n",
       "    .dataframe thead th {\n",
       "        text-align: right;\n",
       "    }\n",
       "</style>\n",
       "<table border=\"1\" class=\"dataframe\">\n",
       "  <thead>\n",
       "    <tr style=\"text-align: right;\">\n",
       "      <th></th>\n",
       "      <th>total_sales</th>\n",
       "    </tr>\n",
       "    <tr>\n",
       "      <th>genre</th>\n",
       "      <th></th>\n",
       "    </tr>\n",
       "  </thead>\n",
       "  <tbody>\n",
       "    <tr>\n",
       "      <td>sports</td>\n",
       "      <td>0.440</td>\n",
       "    </tr>\n",
       "    <tr>\n",
       "      <td>shooter</td>\n",
       "      <td>0.340</td>\n",
       "    </tr>\n",
       "    <tr>\n",
       "      <td>fighting</td>\n",
       "      <td>0.305</td>\n",
       "    </tr>\n",
       "    <tr>\n",
       "      <td>misc</td>\n",
       "      <td>0.270</td>\n",
       "    </tr>\n",
       "    <tr>\n",
       "      <td>action</td>\n",
       "      <td>0.270</td>\n",
       "    </tr>\n",
       "    <tr>\n",
       "      <td>role-playing</td>\n",
       "      <td>0.260</td>\n",
       "    </tr>\n",
       "    <tr>\n",
       "      <td>racing</td>\n",
       "      <td>0.230</td>\n",
       "    </tr>\n",
       "    <tr>\n",
       "      <td>strategy</td>\n",
       "      <td>0.220</td>\n",
       "    </tr>\n",
       "    <tr>\n",
       "      <td>simulation</td>\n",
       "      <td>0.205</td>\n",
       "    </tr>\n",
       "    <tr>\n",
       "      <td>platform</td>\n",
       "      <td>0.160</td>\n",
       "    </tr>\n",
       "    <tr>\n",
       "      <td>adventure</td>\n",
       "      <td>0.105</td>\n",
       "    </tr>\n",
       "    <tr>\n",
       "      <td>puzzle</td>\n",
       "      <td>0.100</td>\n",
       "    </tr>\n",
       "  </tbody>\n",
       "</table>\n",
       "</div>"
      ],
      "text/plain": [
       "              total_sales\n",
       "genre                    \n",
       "sports              0.440\n",
       "shooter             0.340\n",
       "fighting            0.305\n",
       "misc                0.270\n",
       "action              0.270\n",
       "role-playing        0.260\n",
       "racing              0.230\n",
       "strategy            0.220\n",
       "simulation          0.205\n",
       "platform            0.160\n",
       "adventure           0.105\n",
       "puzzle              0.100"
      ]
     },
     "execution_count": 209,
     "metadata": {},
     "output_type": "execute_result"
    }
   ],
   "source": [
    "# Median total sales per genre in North America\n",
    "pd.DataFrame(north_america.groupby('genre')['total_sales'].median().sort_values(ascending=False))\n"
   ]
  },
  {
   "cell_type": "code",
   "execution_count": 224,
   "metadata": {
    "scrolled": false
   },
   "outputs": [
    {
     "data": {
      "image/png": "[encoded data removed]",
      "text/plain": [
       "<Figure size 864x432 with 2 Axes>"
      ]
     },
     "metadata": {
      "needs_background": "light"
     },
     "output_type": "display_data"
    }
   ],
   "source": [
    "fig, (ax1, ax2) = plt.subplots(1,2,figsize=(12,6))\n",
    "north_america.genre.value_counts().plot(kind='bar',ax=ax1).set_title('Number of Releases per Genre in North America (2013-2016)')\n",
    "north_america.groupby('genre')['na_sales'].median().sort_values(ascending=False).plot(kind='bar',color='red').set_title('North American Sales per Genre (2013-2016)')\n",
    "ax1.set_xlabel('Genre')\n",
    "ax2.set_xlabel('Genre')\n",
    "ax1.set_ylabel('Game Releases')\n",
    "ax2.set_ylabel('Median Sales (mil) USD')\n",
    "plt.show()\n",
    "\n",
    "#north_america.genre.value_counts().plot(kind='bar',color='red')\n"
   ]
  },
  {
   "cell_type": "markdown",
   "metadata": {},
   "source": [
    "Due to the presence of outliers, the median was used instead of the mean to aggregate the data. The action genre had the most game releases in North America from 2013-2016, but the most popular genres by total median sales were sports, followed by shooter."
   ]
  },
  {
   "cell_type": "code",
   "execution_count": 225,
   "metadata": {},
   "outputs": [
    {
     "data": {
      "image/png": "[encoded data removed]",
      "text/plain": [
       "<Figure size 864x432 with 2 Axes>"
      ]
     },
     "metadata": {
      "needs_background": "light"
     },
     "output_type": "display_data"
    }
   ],
   "source": [
    "# ratings\n",
    "\n",
    "fig, (ax1, ax2) = plt.subplots(1,2,figsize=(12,6))\n",
    "north_america['rating'].value_counts().plot(kind='bar',color='green',ax=ax1).set_title('North America: Number of Releases by Rating (2013-2016)')\n",
    "north_america.groupby('rating')['na_sales'].median().sort_values(ascending=False).plot(kind='bar',color='red',ax=ax2).set_title('North American Sales per Rating (2013-2016)')\n",
    "\n",
    "ax1.set_xlabel('Rating')\n",
    "ax2.set_xlabel('Rating')\n",
    "\n",
    "ax1.set_ylabel('Game Releases')\n",
    "ax2.set_ylabel('Median Sales (mil) USD')\n",
    "\n",
    "\n",
    "\n",
    "plt.show()\n"
   ]
  },
  {
   "cell_type": "markdown",
   "metadata": {},
   "source": [
    "#### Summary\n",
    "The Xbox 360 was the most popular platform in North America from 2013-2016, closely followed by the PS3 and Xbox One, respectively. The Nintendo 3DS was the least popular among the top 5 platforms in North America. The action genre had the most game releases in North America from 2013-2016, but the most popular genres by total median sales were sports, followed by shooter. The most profitable game rating in North America from 2013-2016 was E10+ followed by M."
   ]
  },
  {
   "cell_type": "markdown",
   "metadata": {},
   "source": [
    "### Europe"
   ]
  },
  {
   "cell_type": "code",
   "execution_count": 254,
   "metadata": {
    "scrolled": false
   },
   "outputs": [
    {
     "data": {
      "image/png": "[encoded data removed]",
      "text/plain": [
       "<Figure size 432x288 with 1 Axes>"
      ]
     },
     "metadata": {},
     "output_type": "display_data"
    }
   ],
   "source": [
    "# Create user profile for Europe\n",
    "\n",
    "europe = top5_platforms_since2013[['name','platform','year_of_release','genre','eu_sales','critic_score','user_score','rating','total_sales']]\n",
    "europe = europe.query('eu_sales >0')\n",
    "\n",
    "# Pie Chart\n",
    "labels = ['PS3','PS4','X360','XOne','3DS']\n",
    "plt.pie(europe.groupby('platform')['eu_sales'].sum().sort_values(ascending=False),labels=labels,autopct='%1.1f%%',radius=2,explode=[0.1,0,0,0,0])\n",
    "\n",
    "\n",
    "plt.show()\n"
   ]
  },
  {
   "cell_type": "markdown",
   "metadata": {},
   "source": [
    "The most popular platform sold in Europe from 2013-2016 was the PS3, followed by the PS4 and then the Xbox 360."
   ]
  },
  {
   "cell_type": "code",
   "execution_count": 234,
   "metadata": {},
   "outputs": [
    {
     "data": {
      "image/png": "[encoded data removed]",
      "text/plain": [
       "<Figure size 864x432 with 1 Axes>"
      ]
     },
     "metadata": {
      "needs_background": "light"
     },
     "output_type": "display_data"
    }
   ],
   "source": [
    "# genres\n",
    "\n",
    "plt.figure(figsize=(12,6))\n",
    "sns.boxplot(x=\"eu_sales\", y=\"genre\", data=europe).set_title('European Sales by Genre (2013-2016)')\n",
    "plt.xlabel('Total Sales (mil) USD')\n",
    "plt.ylabel('Genre')\n",
    "plt.xlim(0,0.6)\n",
    "plt.show()"
   ]
  },
  {
   "cell_type": "code",
   "execution_count": 211,
   "metadata": {},
   "outputs": [
    {
     "data": {
      "text/html": [
       "<div>\n",
       "<style scoped>\n",
       "    .dataframe tbody tr th:only-of-type {\n",
       "        vertical-align: middle;\n",
       "    }\n",
       "\n",
       "    .dataframe tbody tr th {\n",
       "        vertical-align: top;\n",
       "    }\n",
       "\n",
       "    .dataframe thead th {\n",
       "        text-align: right;\n",
       "    }\n",
       "</style>\n",
       "<table border=\"1\" class=\"dataframe\">\n",
       "  <thead>\n",
       "    <tr style=\"text-align: right;\">\n",
       "      <th></th>\n",
       "      <th>total_sales</th>\n",
       "    </tr>\n",
       "    <tr>\n",
       "      <th>genre</th>\n",
       "      <th></th>\n",
       "    </tr>\n",
       "  </thead>\n",
       "  <tbody>\n",
       "    <tr>\n",
       "      <td>shooter</td>\n",
       "      <td>0.355</td>\n",
       "    </tr>\n",
       "    <tr>\n",
       "      <td>sports</td>\n",
       "      <td>0.345</td>\n",
       "    </tr>\n",
       "    <tr>\n",
       "      <td>fighting</td>\n",
       "      <td>0.330</td>\n",
       "    </tr>\n",
       "    <tr>\n",
       "      <td>misc</td>\n",
       "      <td>0.310</td>\n",
       "    </tr>\n",
       "    <tr>\n",
       "      <td>role-playing</td>\n",
       "      <td>0.260</td>\n",
       "    </tr>\n",
       "    <tr>\n",
       "      <td>action</td>\n",
       "      <td>0.260</td>\n",
       "    </tr>\n",
       "    <tr>\n",
       "      <td>platform</td>\n",
       "      <td>0.250</td>\n",
       "    </tr>\n",
       "    <tr>\n",
       "      <td>strategy</td>\n",
       "      <td>0.220</td>\n",
       "    </tr>\n",
       "    <tr>\n",
       "      <td>racing</td>\n",
       "      <td>0.220</td>\n",
       "    </tr>\n",
       "    <tr>\n",
       "      <td>simulation</td>\n",
       "      <td>0.205</td>\n",
       "    </tr>\n",
       "    <tr>\n",
       "      <td>adventure</td>\n",
       "      <td>0.135</td>\n",
       "    </tr>\n",
       "    <tr>\n",
       "      <td>puzzle</td>\n",
       "      <td>0.030</td>\n",
       "    </tr>\n",
       "  </tbody>\n",
       "</table>\n",
       "</div>"
      ],
      "text/plain": [
       "              total_sales\n",
       "genre                    \n",
       "shooter             0.355\n",
       "sports              0.345\n",
       "fighting            0.330\n",
       "misc                0.310\n",
       "role-playing        0.260\n",
       "action              0.260\n",
       "platform            0.250\n",
       "strategy            0.220\n",
       "racing              0.220\n",
       "simulation          0.205\n",
       "adventure           0.135\n",
       "puzzle              0.030"
      ]
     },
     "execution_count": 211,
     "metadata": {},
     "output_type": "execute_result"
    }
   ],
   "source": [
    "pd.DataFrame(europe.groupby('genre')['total_sales'].median().sort_values(ascending=False))\n"
   ]
  },
  {
   "cell_type": "code",
   "execution_count": 231,
   "metadata": {},
   "outputs": [
    {
     "data": {
      "image/png": "[encoded data removed]",
      "text/plain": [
       "<Figure size 864x432 with 2 Axes>"
      ]
     },
     "metadata": {
      "needs_background": "light"
     },
     "output_type": "display_data"
    }
   ],
   "source": [
    "# top genres\n",
    "europe.genre.value_counts(normalize=True)\n",
    "\n",
    "fig, (ax1, ax2) = plt.subplots(1,2,figsize=(12,6))\n",
    "europe.genre.value_counts().plot(kind='bar',ax=ax1).set_title('Number of Releases per Genre in Europe (2013-2016)')\n",
    "europe.groupby('genre')['eu_sales'].median().sort_values(ascending=False).plot(kind='bar',color='red').set_title('European Sales per Genre (2013-2016)')\n",
    "ax1.set_xlabel('Genre')\n",
    "ax2.set_xlabel('Genre')\n",
    "ax1.set_ylabel('Game Releases')\n",
    "ax2.set_ylabel('Median Sales (mil) USD')\n",
    "plt.show()"
   ]
  },
  {
   "cell_type": "markdown",
   "metadata": {},
   "source": [
    "Due to the presence of outliers, the median was used instead of the mean to aggregate the data. The action genre had the most game releases in Europe from 2013-2016, but the most popular genres by sales was shooter, followed by racing and fighting."
   ]
  },
  {
   "cell_type": "code",
   "execution_count": 232,
   "metadata": {},
   "outputs": [
    {
     "data": {
      "image/png": "[encoded data removed]",
      "text/plain": [
       "<Figure size 864x432 with 2 Axes>"
      ]
     },
     "metadata": {
      "needs_background": "light"
     },
     "output_type": "display_data"
    }
   ],
   "source": [
    "# rating\n",
    "fig, (ax1, ax2) = plt.subplots(1,2,figsize=(12,6))\n",
    "europe.rating.value_counts().plot(kind='bar',color='green',ax=ax1).set_title('Europe: Number of Releases by Rating (2013-2016)')\n",
    "europe.groupby('rating')['eu_sales'].median().sort_values(ascending=False).plot(kind='bar',color='red',ax=ax2).set_title('European Sales per Rating (2013-2016)')\n",
    "\n",
    "ax1.set_xlabel('Rating')\n",
    "ax2.set_xlabel('Rating')\n",
    "\n",
    "ax1.set_ylabel('Game Releases')\n",
    "ax2.set_ylabel('Median Sales (mil) USD')\n",
    "plt.show()"
   ]
  },
  {
   "cell_type": "markdown",
   "metadata": {},
   "source": [
    "#### Summary\n",
    "The most popular platform sold in Europe from 2013-2016 was the PS3, followed by the PS4 and then the Xbox 360. The Nintendo 3DS was the least popular among the top 5 platforms in sold in Europe. The action genre had the most game releases in Europe from 2013-2016, but the most popular genres by median total sales was shooter, followed by racing and fighting. The most profitable game rating in Europe was M, closely followed by E10+."
   ]
  },
  {
   "cell_type": "markdown",
   "metadata": {},
   "source": [
    "## Hypothesis Testing"
   ]
  },
  {
   "cell_type": "markdown",
   "metadata": {},
   "source": [
    "Average user ratings of the Xbox One and PC platforms are the same.\n",
    "- Null hypothesis ($H_O$)\n",
    "    - Average user ratings of the Xbox One and PC platforms are equal.\n",
    "- Alternate hypothesis ($H_a$)\n",
    "    - Average user ratings of the Xbox One and PC platforms are not equal.\n",
    "\n",
    "\n"
   ]
  },
  {
   "cell_type": "code",
   "execution_count": 48,
   "metadata": {},
   "outputs": [
    {
     "name": "stdout",
     "output_type": "stream",
     "text": [
      "p-value:  1.3037979620149106e-05\n",
      "We reject the null hypothesis\n"
     ]
    },
    {
     "name": "stderr",
     "output_type": "stream",
     "text": [
      "/opt/conda/lib/python3.7/site-packages/pandas/core/series.py:4784: SettingWithCopyWarning: \n",
      "A value is trying to be set on a copy of a slice from a DataFrame\n",
      "\n",
      "See the caveats in the documentation: http://pandas.pydata.org/pandas-docs/stable/user_guide/indexing.html#returning-a-view-versus-a-copy\n",
      "  self._update_inplace(result)\n"
     ]
    }
   ],
   "source": [
    "from scipy import stats as st\n",
    "\n",
    "alpha= 0.05\n",
    "xbox_sample = df.query('platform == \"XOne\"')\n",
    "xbox_sample.user_score.dropna(inplace=True)\n",
    "\n",
    "pc_sample = df.query('platform == \"PC\"')\n",
    "pc_sample.user_score.dropna(inplace=True)\n",
    "pc_sample.isna().sum()\n",
    "\n",
    "results = st.ttest_ind(xbox_sample.user_score, pc_sample.user_score)\n",
    "\n",
    "print('p-value: ', results.pvalue)\n",
    "if (results.pvalue < alpha):\n",
    "        print(\"We reject the null hypothesis\")\n",
    "else:\n",
    "        print(\"We can't reject the null hypothesis\")"
   ]
  },
  {
   "cell_type": "markdown",
   "metadata": {},
   "source": [
    "As the p-value is less than 0.05, there is a significant difference between the user score of Xbox One games and PC games. Therefore, we can reject the hypothesis that the user ratings between XBox One and PC are the same and accept the alternative hypothesis that the average user rating between XBox One and PC games differs."
   ]
  },
  {
   "cell_type": "markdown",
   "metadata": {},
   "source": [
    "Average user ratings for the Action and Sports genres are different.\n",
    "- Null hypothesis ($H_O$)\n",
    "    - Average user ratings for the Action and Sports genres are equal.\n",
    "- Alternate hypothesis ($H_a$)\n",
    "    - Average user ratings for the Action and Sports genres are not equal.\n"
   ]
  },
  {
   "cell_type": "code",
   "execution_count": 49,
   "metadata": {},
   "outputs": [
    {
     "name": "stdout",
     "output_type": "stream",
     "text": [
      "p-value:  0.06480928064420527\n",
      "We can't reject the null hypothesis\n"
     ]
    }
   ],
   "source": [
    "from scipy import stats as st\n",
    "alpha = 0.05\n",
    "\n",
    "action_sample = df.query('genre == \"action\"')\n",
    "action_sample.user_score.dropna(inplace=True)\n",
    "\n",
    "pc_sample = df.query('genre == \"sports\"')\n",
    "pc_sample.user_score.dropna(inplace=True)\n",
    "\n",
    "results = st.ttest_ind(action_sample.user_score, pc_sample.user_score)\n",
    "\n",
    "print('p-value: ', results.pvalue)\n",
    "\n",
    "if (results.pvalue < alpha):\n",
    "        print(\"We reject the null hypothesis\")\n",
    "else:\n",
    "        print(\"We can't reject the null hypothesis\")"
   ]
  },
  {
   "cell_type": "markdown",
   "metadata": {},
   "source": [
    "As the p-value is greater than 0.05, there is no significant difference between the average user scores of action games and sports games. Therefore, we cannot reject the hypothesis that the user scores between action and sports games are the same."
   ]
  },
  {
   "cell_type": "markdown",
   "metadata": {},
   "source": [
    "## General Conclusion"
   ]
  },
  {
   "cell_type": "markdown",
   "metadata": {},
   "source": [
    "The objective of this project was to identify patterns that determine whether a game succeeds or not. \n",
    "\n",
    "Below are insights discovered:\n",
    "- The top 5 most popular platforms in the world since 1985 are the PS2, Xbox 360, PS3, Wii, and DS.\n",
    "- New platforms generally take about 10 years to appear and old ones to fade\n",
    "- From 2013-2016, PS4 games outsold it's competitors by a large margine and sold the most units,  followed by the PS3, and then the Xbox One.\n",
    "- There is close to no correlation between user score and total sales for PS4 (most popular platfrom from 2013-2016) games.\n",
    "- There is a moderate correlation between critic score and total score for PS4 games. As critic score improve, total sales moderately improve.\n",
    "- From 2013-2016, The shooter and sports genres were the most popular across all platforms.\n",
    "\n",
    "\n",
    "\n",
    "In Japan (2013-2016):\n",
    "- The Nintendo 3DS was by far the most popular platform in Japan from 2013-2016, followed by the PS3 and PS4, respectively. \n",
    "- The action genre had the most game releases in Japan from 2013-2016, but the most popular genres by median total sales were sports and puzzle, followed by role-playing. \n",
    "- The most profitable game rating is T and and E.\n",
    "   \n",
    "   \n",
    "   \n",
    "   \n",
    "In North America (2013-2016):\n",
    "- The Xbox 360 was the most popular platform in North America from 2013-2016, closely followed by the PS3 and Xbox One, respectively.\n",
    "- The Nintendo 3DS was the least popular among the top 5 platforms in North America. \n",
    "- The action genre had the most game releases in North America from 2013-2016, but the most popular genres by total median sales were sports, followed by shooter. \n",
    "- The most profitable game rating in North America from 2013-2016 was E10+ followed by M.\n",
    "\n",
    "In Europe (2013-2016):\n",
    "- The most popular platform sold in Europe from 2013-2016 was the PS3, followed by the PS4 and then the Xbox 360. \n",
    "- The Nintendo 3DS was the least popular among the top 5 platforms in sold in Europe. \n",
    "- The action genre had the most game releases in Europe from 2013-2016, but the most popular genres by median total sales was shooter, followed by racing and fighting. \n",
    "- The most profitable game rating in Europe was M, closely followed by E10+.\n",
    "\n",
    "In conclusion, there are several factors that work in tandem that determine whether a game succeeds or not, with the most important being genre, the platform(s) that the game is sold on, and critic scores.\n"
   ]
  }
 ],
 "metadata": {
  "ExecuteTimeLog": [
   {
    "duration": 2643,
    "start_time": "2022-02-09T01:30:12.385Z"
   },
   {
    "duration": 40,
    "start_time": "2022-02-09T01:30:28.975Z"
   },
   {
    "duration": 21,
    "start_time": "2022-02-09T01:30:34.078Z"
   },
   {
    "duration": 36,
    "start_time": "2022-02-09T01:30:40.558Z"
   },
   {
    "duration": 42,
    "start_time": "2022-02-09T01:30:45.644Z"
   },
   {
    "duration": 15,
    "start_time": "2022-02-09T01:30:48.685Z"
   },
   {
    "duration": 23,
    "start_time": "2022-02-09T01:30:55.325Z"
   },
   {
    "duration": 17,
    "start_time": "2022-02-09T01:31:27.628Z"
   },
   {
    "duration": 17,
    "start_time": "2022-02-09T01:31:33.591Z"
   },
   {
    "duration": 684,
    "start_time": "2022-02-09T01:39:10.148Z"
   },
   {
    "duration": 19,
    "start_time": "2022-02-09T01:40:21.473Z"
   },
   {
    "duration": 19,
    "start_time": "2022-02-09T01:45:05.756Z"
   },
   {
    "duration": 23,
    "start_time": "2022-02-09T01:52:40.426Z"
   },
   {
    "duration": 8229,
    "start_time": "2022-02-09T01:54:50.211Z"
   },
   {
    "duration": 14,
    "start_time": "2022-02-09T01:54:58.925Z"
   },
   {
    "duration": 111,
    "start_time": "2022-02-09T01:55:46.709Z"
   },
   {
    "duration": 24,
    "start_time": "2022-02-09T02:13:38.545Z"
   },
   {
    "duration": 19,
    "start_time": "2022-02-09T02:15:11.071Z"
   },
   {
    "duration": 27,
    "start_time": "2022-02-09T02:25:53.472Z"
   },
   {
    "duration": 14,
    "start_time": "2022-02-09T02:26:35.929Z"
   },
   {
    "duration": 21,
    "start_time": "2022-02-09T02:26:37.672Z"
   },
   {
    "duration": 24,
    "start_time": "2022-02-09T02:27:15.433Z"
   },
   {
    "duration": 7,
    "start_time": "2022-02-09T02:28:26.600Z"
   },
   {
    "duration": 10,
    "start_time": "2022-02-09T02:28:31.940Z"
   },
   {
    "duration": 22,
    "start_time": "2022-02-09T02:28:38.250Z"
   },
   {
    "duration": -234,
    "start_time": "2022-02-09T02:29:03.121Z"
   },
   {
    "duration": 8,
    "start_time": "2022-02-09T02:29:06.809Z"
   },
   {
    "duration": 9,
    "start_time": "2022-02-09T02:29:12.750Z"
   },
   {
    "duration": 13,
    "start_time": "2022-02-09T02:48:57.292Z"
   },
   {
    "duration": 284,
    "start_time": "2022-02-09T02:50:48.371Z"
   },
   {
    "duration": 8,
    "start_time": "2022-02-09T02:50:51.768Z"
   },
   {
    "duration": 19,
    "start_time": "2022-02-09T02:51:03.713Z"
   },
   {
    "duration": 7088,
    "start_time": "2022-02-09T02:53:02.396Z"
   },
   {
    "duration": 8,
    "start_time": "2022-02-09T02:53:15.730Z"
   },
   {
    "duration": -279,
    "start_time": "2022-02-09T02:53:39.666Z"
   },
   {
    "duration": 7,
    "start_time": "2022-02-09T02:53:42.628Z"
   },
   {
    "duration": 20,
    "start_time": "2022-02-09T02:56:17.050Z"
   },
   {
    "duration": 1462,
    "start_time": "2022-02-09T02:56:49.368Z"
   },
   {
    "duration": 37,
    "start_time": "2022-02-09T02:56:50.833Z"
   },
   {
    "duration": 42,
    "start_time": "2022-02-09T02:56:50.873Z"
   },
   {
    "duration": 41,
    "start_time": "2022-02-09T02:56:50.917Z"
   },
   {
    "duration": 25,
    "start_time": "2022-02-09T02:57:05.929Z"
   },
   {
    "duration": 42,
    "start_time": "2022-02-09T02:57:30.588Z"
   },
   {
    "duration": 28,
    "start_time": "2022-02-09T02:57:30.632Z"
   },
   {
    "duration": 52,
    "start_time": "2022-02-09T02:57:30.664Z"
   },
   {
    "duration": 35,
    "start_time": "2022-02-09T02:57:30.719Z"
   },
   {
    "duration": 19,
    "start_time": "2022-02-09T02:57:30.756Z"
   },
   {
    "duration": 24,
    "start_time": "2022-02-09T02:57:30.777Z"
   },
   {
    "duration": 433,
    "start_time": "2022-02-09T02:57:30.803Z"
   },
   {
    "duration": -106,
    "start_time": "2022-02-09T02:57:31.344Z"
   },
   {
    "duration": -107,
    "start_time": "2022-02-09T02:57:31.346Z"
   },
   {
    "duration": -107,
    "start_time": "2022-02-09T02:57:31.347Z"
   },
   {
    "duration": 359,
    "start_time": "2022-02-09T02:59:26.929Z"
   },
   {
    "duration": 22,
    "start_time": "2022-02-09T03:00:16.476Z"
   },
   {
    "duration": 16,
    "start_time": "2022-02-09T03:00:54.913Z"
   },
   {
    "duration": 11,
    "start_time": "2022-02-09T03:01:38.070Z"
   },
   {
    "duration": 15,
    "start_time": "2022-02-09T03:02:13.477Z"
   },
   {
    "duration": 11,
    "start_time": "2022-02-09T03:03:23.466Z"
   },
   {
    "duration": 7,
    "start_time": "2022-02-09T03:03:25.602Z"
   },
   {
    "duration": 5,
    "start_time": "2022-02-09T03:04:54.273Z"
   },
   {
    "duration": 6,
    "start_time": "2022-02-09T03:05:18.383Z"
   },
   {
    "duration": 6,
    "start_time": "2022-02-09T03:05:43.049Z"
   },
   {
    "duration": 6,
    "start_time": "2022-02-09T03:06:26.543Z"
   },
   {
    "duration": 16,
    "start_time": "2022-02-09T03:06:34.111Z"
   },
   {
    "duration": 19,
    "start_time": "2022-02-09T04:41:10.901Z"
   },
   {
    "duration": 23,
    "start_time": "2022-02-09T05:16:25.934Z"
   },
   {
    "duration": 15,
    "start_time": "2022-02-09T05:19:38.389Z"
   },
   {
    "duration": 12,
    "start_time": "2022-02-09T05:19:59.320Z"
   },
   {
    "duration": 92,
    "start_time": "2022-02-09T05:24:41.338Z"
   },
   {
    "duration": 285,
    "start_time": "2022-02-09T05:32:43.520Z"
   },
   {
    "duration": 26,
    "start_time": "2022-02-09T05:32:47.977Z"
   },
   {
    "duration": 25,
    "start_time": "2022-02-09T05:33:20.076Z"
   },
   {
    "duration": 13,
    "start_time": "2022-02-09T05:33:40.837Z"
   },
   {
    "duration": 419,
    "start_time": "2022-02-09T05:34:15.673Z"
   },
   {
    "duration": 26,
    "start_time": "2022-02-09T05:34:37.441Z"
   },
   {
    "duration": 10,
    "start_time": "2022-02-09T05:34:43.664Z"
   },
   {
    "duration": 288,
    "start_time": "2022-02-09T05:35:27.365Z"
   },
   {
    "duration": 288,
    "start_time": "2022-02-09T05:35:50.328Z"
   },
   {
    "duration": 16,
    "start_time": "2022-02-09T05:36:26.025Z"
   },
   {
    "duration": 13,
    "start_time": "2022-02-09T05:45:39.065Z"
   },
   {
    "duration": 13,
    "start_time": "2022-02-09T05:45:44.840Z"
   },
   {
    "duration": 14,
    "start_time": "2022-02-09T05:46:00.274Z"
   },
   {
    "duration": 13,
    "start_time": "2022-02-09T05:46:17.356Z"
   },
   {
    "duration": 101,
    "start_time": "2022-02-09T05:49:44.073Z"
   },
   {
    "duration": 102,
    "start_time": "2022-02-09T05:49:51.163Z"
   },
   {
    "duration": 470,
    "start_time": "2022-02-09T05:49:56.809Z"
   },
   {
    "duration": 509,
    "start_time": "2022-02-09T05:51:00.162Z"
   },
   {
    "duration": 329,
    "start_time": "2022-02-09T05:52:12.884Z"
   },
   {
    "duration": 318,
    "start_time": "2022-02-09T05:52:27.981Z"
   },
   {
    "duration": 524,
    "start_time": "2022-02-09T05:52:52.118Z"
   },
   {
    "duration": 98,
    "start_time": "2022-02-09T05:55:07.657Z"
   },
   {
    "duration": 293,
    "start_time": "2022-02-09T05:55:16.216Z"
   },
   {
    "duration": 333,
    "start_time": "2022-02-09T05:56:05.381Z"
   },
   {
    "duration": 306,
    "start_time": "2022-02-09T05:56:14.797Z"
   },
   {
    "duration": 330,
    "start_time": "2022-02-09T05:58:03.407Z"
   },
   {
    "duration": 488,
    "start_time": "2022-02-09T05:59:25.660Z"
   },
   {
    "duration": 6,
    "start_time": "2022-02-09T06:02:07.855Z"
   },
   {
    "duration": 665,
    "start_time": "2022-02-09T06:07:49.964Z"
   },
   {
    "duration": 303,
    "start_time": "2022-02-09T06:08:27.736Z"
   },
   {
    "duration": 143,
    "start_time": "2022-02-09T06:12:27.524Z"
   },
   {
    "duration": 802,
    "start_time": "2022-02-09T06:12:30.991Z"
   },
   {
    "duration": 483,
    "start_time": "2022-02-09T06:13:29.682Z"
   },
   {
    "duration": 445,
    "start_time": "2022-02-09T06:14:09.906Z"
   },
   {
    "duration": 362,
    "start_time": "2022-02-09T06:20:24.564Z"
   },
   {
    "duration": 303,
    "start_time": "2022-02-09T06:20:50.827Z"
   },
   {
    "duration": 175,
    "start_time": "2022-02-09T06:21:30.981Z"
   },
   {
    "duration": 52,
    "start_time": "2022-02-09T06:21:39.192Z"
   },
   {
    "duration": 212,
    "start_time": "2022-02-09T06:22:02.468Z"
   },
   {
    "duration": 495,
    "start_time": "2022-02-09T06:22:46.312Z"
   },
   {
    "duration": 512,
    "start_time": "2022-02-09T06:22:53.705Z"
   },
   {
    "duration": 528,
    "start_time": "2022-02-09T06:23:18.944Z"
   },
   {
    "duration": 1567,
    "start_time": "2022-02-09T06:23:36.123Z"
   },
   {
    "duration": 289,
    "start_time": "2022-02-09T06:24:11.149Z"
   },
   {
    "duration": 8612,
    "start_time": "2022-02-09T06:24:41.675Z"
   },
   {
    "duration": 8950,
    "start_time": "2022-02-09T06:24:56.904Z"
   },
   {
    "duration": 508,
    "start_time": "2022-02-09T06:25:39.421Z"
   },
   {
    "duration": 441,
    "start_time": "2022-02-09T06:26:14.704Z"
   },
   {
    "duration": 1738,
    "start_time": "2022-02-09T06:26:25.999Z"
   },
   {
    "duration": 1790,
    "start_time": "2022-02-09T06:27:11.870Z"
   },
   {
    "duration": 8475,
    "start_time": "2022-02-09T06:28:08.424Z"
   },
   {
    "duration": 438,
    "start_time": "2022-02-09T06:31:05.724Z"
   },
   {
    "duration": 1725,
    "start_time": "2022-02-09T06:31:18.403Z"
   },
   {
    "duration": 1700,
    "start_time": "2022-02-09T06:33:22.287Z"
   },
   {
    "duration": 149,
    "start_time": "2022-02-09T06:33:36.100Z"
   },
   {
    "duration": 173,
    "start_time": "2022-02-09T06:35:17.289Z"
   },
   {
    "duration": 175,
    "start_time": "2022-02-09T06:35:26.540Z"
   },
   {
    "duration": 125,
    "start_time": "2022-02-09T06:35:38.794Z"
   },
   {
    "duration": 211,
    "start_time": "2022-02-09T06:36:03.482Z"
   },
   {
    "duration": 1894,
    "start_time": "2022-02-09T06:36:16.505Z"
   },
   {
    "duration": 106,
    "start_time": "2022-02-09T06:47:25.375Z"
   },
   {
    "duration": 101,
    "start_time": "2022-02-09T06:47:35.022Z"
   },
   {
    "duration": 137,
    "start_time": "2022-02-09T06:47:43.919Z"
   },
   {
    "duration": 116,
    "start_time": "2022-02-09T06:47:47.119Z"
   },
   {
    "duration": 92,
    "start_time": "2022-02-09T06:47:52.544Z"
   },
   {
    "duration": 91,
    "start_time": "2022-02-09T06:47:56.592Z"
   },
   {
    "duration": 170,
    "start_time": "2022-02-09T06:48:15.740Z"
   },
   {
    "duration": 103,
    "start_time": "2022-02-09T06:48:22.244Z"
   },
   {
    "duration": 21,
    "start_time": "2022-02-09T06:49:55.182Z"
   },
   {
    "duration": 37,
    "start_time": "2022-02-09T06:50:33.984Z"
   },
   {
    "duration": 83,
    "start_time": "2022-02-09T18:51:52.446Z"
   },
   {
    "duration": 1653,
    "start_time": "2022-02-09T18:52:16.468Z"
   },
   {
    "duration": 38,
    "start_time": "2022-02-09T18:52:18.124Z"
   },
   {
    "duration": 44,
    "start_time": "2022-02-09T18:52:18.171Z"
   },
   {
    "duration": 22,
    "start_time": "2022-02-09T18:52:18.217Z"
   },
   {
    "duration": 45,
    "start_time": "2022-02-09T18:52:18.241Z"
   },
   {
    "duration": 18,
    "start_time": "2022-02-09T18:52:18.289Z"
   },
   {
    "duration": 561,
    "start_time": "2022-02-09T18:52:18.309Z"
   },
   {
    "duration": -170,
    "start_time": "2022-02-09T18:52:19.043Z"
   },
   {
    "duration": -454,
    "start_time": "2022-02-09T18:52:19.328Z"
   },
   {
    "duration": -456,
    "start_time": "2022-02-09T18:52:19.331Z"
   },
   {
    "duration": -456,
    "start_time": "2022-02-09T18:52:19.333Z"
   },
   {
    "duration": -457,
    "start_time": "2022-02-09T18:52:19.335Z"
   },
   {
    "duration": -457,
    "start_time": "2022-02-09T18:52:19.337Z"
   },
   {
    "duration": -457,
    "start_time": "2022-02-09T18:52:19.339Z"
   },
   {
    "duration": -457,
    "start_time": "2022-02-09T18:52:19.341Z"
   },
   {
    "duration": -456,
    "start_time": "2022-02-09T18:52:19.342Z"
   },
   {
    "duration": -457,
    "start_time": "2022-02-09T18:52:19.344Z"
   },
   {
    "duration": -459,
    "start_time": "2022-02-09T18:52:19.347Z"
   },
   {
    "duration": -458,
    "start_time": "2022-02-09T18:52:19.348Z"
   },
   {
    "duration": -460,
    "start_time": "2022-02-09T18:52:19.351Z"
   },
   {
    "duration": -460,
    "start_time": "2022-02-09T18:52:19.352Z"
   },
   {
    "duration": -460,
    "start_time": "2022-02-09T18:52:19.354Z"
   },
   {
    "duration": -461,
    "start_time": "2022-02-09T18:52:19.356Z"
   },
   {
    "duration": 56,
    "start_time": "2022-02-09T18:52:30.666Z"
   },
   {
    "duration": 55,
    "start_time": "2022-02-09T18:52:30.725Z"
   },
   {
    "duration": 41,
    "start_time": "2022-02-09T18:52:30.784Z"
   },
   {
    "duration": 46,
    "start_time": "2022-02-09T18:52:30.829Z"
   },
   {
    "duration": 23,
    "start_time": "2022-02-09T18:52:30.878Z"
   },
   {
    "duration": 28,
    "start_time": "2022-02-09T18:52:30.904Z"
   },
   {
    "duration": 274,
    "start_time": "2022-02-09T18:52:30.971Z"
   },
   {
    "duration": -183,
    "start_time": "2022-02-09T18:52:31.431Z"
   },
   {
    "duration": -184,
    "start_time": "2022-02-09T18:52:31.433Z"
   },
   {
    "duration": -185,
    "start_time": "2022-02-09T18:52:31.435Z"
   },
   {
    "duration": -185,
    "start_time": "2022-02-09T18:52:31.437Z"
   },
   {
    "duration": -185,
    "start_time": "2022-02-09T18:52:31.438Z"
   },
   {
    "duration": -186,
    "start_time": "2022-02-09T18:52:31.440Z"
   },
   {
    "duration": -186,
    "start_time": "2022-02-09T18:52:31.441Z"
   },
   {
    "duration": -185,
    "start_time": "2022-02-09T18:52:31.442Z"
   },
   {
    "duration": -293,
    "start_time": "2022-02-09T18:52:31.552Z"
   },
   {
    "duration": -297,
    "start_time": "2022-02-09T18:52:31.557Z"
   },
   {
    "duration": -298,
    "start_time": "2022-02-09T18:52:31.559Z"
   },
   {
    "duration": -298,
    "start_time": "2022-02-09T18:52:31.560Z"
   },
   {
    "duration": -299,
    "start_time": "2022-02-09T18:52:31.562Z"
   },
   {
    "duration": -298,
    "start_time": "2022-02-09T18:52:31.563Z"
   },
   {
    "duration": -299,
    "start_time": "2022-02-09T18:52:31.565Z"
   },
   {
    "duration": 26,
    "start_time": "2022-02-09T18:54:46.310Z"
   },
   {
    "duration": 44,
    "start_time": "2022-02-09T18:55:04.669Z"
   },
   {
    "duration": 54,
    "start_time": "2022-02-09T18:55:04.715Z"
   },
   {
    "duration": 43,
    "start_time": "2022-02-09T18:55:04.772Z"
   },
   {
    "duration": 23,
    "start_time": "2022-02-09T18:55:04.818Z"
   },
   {
    "duration": 46,
    "start_time": "2022-02-09T18:55:04.843Z"
   },
   {
    "duration": 30,
    "start_time": "2022-02-09T18:55:04.891Z"
   },
   {
    "duration": 46,
    "start_time": "2022-02-09T18:55:04.923Z"
   },
   {
    "duration": 26,
    "start_time": "2022-02-09T18:55:04.974Z"
   },
   {
    "duration": 21,
    "start_time": "2022-02-09T18:55:05.004Z"
   },
   {
    "duration": 318,
    "start_time": "2022-02-09T18:55:05.028Z"
   },
   {
    "duration": -197,
    "start_time": "2022-02-09T18:55:05.545Z"
   },
   {
    "duration": -198,
    "start_time": "2022-02-09T18:55:05.548Z"
   },
   {
    "duration": -199,
    "start_time": "2022-02-09T18:55:05.550Z"
   },
   {
    "duration": -200,
    "start_time": "2022-02-09T18:55:05.552Z"
   },
   {
    "duration": -200,
    "start_time": "2022-02-09T18:55:05.554Z"
   },
   {
    "duration": -201,
    "start_time": "2022-02-09T18:55:05.556Z"
   },
   {
    "duration": -200,
    "start_time": "2022-02-09T18:55:05.557Z"
   },
   {
    "duration": -200,
    "start_time": "2022-02-09T18:55:05.558Z"
   },
   {
    "duration": -201,
    "start_time": "2022-02-09T18:55:05.560Z"
   },
   {
    "duration": -201,
    "start_time": "2022-02-09T18:55:05.561Z"
   },
   {
    "duration": -201,
    "start_time": "2022-02-09T18:55:05.563Z"
   },
   {
    "duration": -201,
    "start_time": "2022-02-09T18:55:05.564Z"
   },
   {
    "duration": 342,
    "start_time": "2022-02-09T18:55:39.699Z"
   },
   {
    "duration": 10,
    "start_time": "2022-02-09T18:56:34.972Z"
   },
   {
    "duration": 12,
    "start_time": "2022-02-09T18:56:41.666Z"
   },
   {
    "duration": 12,
    "start_time": "2022-02-09T18:56:45.214Z"
   },
   {
    "duration": 7,
    "start_time": "2022-02-09T18:56:48.726Z"
   },
   {
    "duration": 6,
    "start_time": "2022-02-09T18:56:49.778Z"
   },
   {
    "duration": 20,
    "start_time": "2022-02-09T18:57:35.857Z"
   },
   {
    "duration": 14,
    "start_time": "2022-02-09T18:57:50.273Z"
   },
   {
    "duration": 308,
    "start_time": "2022-02-09T18:57:52.323Z"
   },
   {
    "duration": 13,
    "start_time": "2022-02-09T18:57:55.008Z"
   },
   {
    "duration": 12,
    "start_time": "2022-02-09T18:57:57.092Z"
   },
   {
    "duration": 1763,
    "start_time": "2022-02-09T18:57:59.063Z"
   },
   {
    "duration": 92,
    "start_time": "2022-02-09T18:58:04.986Z"
   },
   {
    "duration": 275,
    "start_time": "2022-02-09T18:58:49.443Z"
   },
   {
    "duration": 31,
    "start_time": "2022-02-09T18:58:59.762Z"
   },
   {
    "duration": 26,
    "start_time": "2022-02-09T18:59:49.041Z"
   },
   {
    "duration": 36,
    "start_time": "2022-02-09T19:01:01.132Z"
   },
   {
    "duration": 384,
    "start_time": "2022-02-09T19:01:14.547Z"
   },
   {
    "duration": 27,
    "start_time": "2022-02-09T19:01:22.851Z"
   },
   {
    "duration": 32,
    "start_time": "2022-02-09T19:01:38.435Z"
   },
   {
    "duration": 29,
    "start_time": "2022-02-09T19:02:05.609Z"
   },
   {
    "duration": 22,
    "start_time": "2022-02-09T19:07:27.636Z"
   },
   {
    "duration": 10,
    "start_time": "2022-02-09T19:07:42.902Z"
   },
   {
    "duration": 28,
    "start_time": "2022-02-09T19:08:08.746Z"
   },
   {
    "duration": 57,
    "start_time": "2022-02-09T20:50:44.339Z"
   },
   {
    "duration": 26,
    "start_time": "2022-02-09T20:50:56.316Z"
   },
   {
    "duration": 30,
    "start_time": "2022-02-09T20:51:03.414Z"
   },
   {
    "duration": 48,
    "start_time": "2022-02-09T20:52:13.104Z"
   },
   {
    "duration": 42,
    "start_time": "2022-02-09T20:52:29.525Z"
   },
   {
    "duration": 84,
    "start_time": "2022-02-09T20:54:37.423Z"
   },
   {
    "duration": 46,
    "start_time": "2022-02-09T20:55:05.558Z"
   },
   {
    "duration": 294,
    "start_time": "2022-02-09T20:57:03.186Z"
   },
   {
    "duration": 27,
    "start_time": "2022-02-09T21:06:07.505Z"
   },
   {
    "duration": 30,
    "start_time": "2022-02-09T21:06:27.368Z"
   },
   {
    "duration": 27,
    "start_time": "2022-02-09T21:06:45.593Z"
   },
   {
    "duration": 556,
    "start_time": "2022-02-09T21:08:26.020Z"
   },
   {
    "duration": 283,
    "start_time": "2022-02-09T21:09:01.355Z"
   },
   {
    "duration": 557,
    "start_time": "2022-02-09T21:09:08.519Z"
   },
   {
    "duration": 310,
    "start_time": "2022-02-09T21:09:33.101Z"
   },
   {
    "duration": 22,
    "start_time": "2022-02-09T21:09:38.501Z"
   },
   {
    "duration": 43,
    "start_time": "2022-02-09T21:10:05.095Z"
   },
   {
    "duration": 928,
    "start_time": "2022-02-09T21:10:10.757Z"
   },
   {
    "duration": 1328,
    "start_time": "2022-02-09T21:10:16.923Z"
   },
   {
    "duration": 278,
    "start_time": "2022-02-09T21:10:41.273Z"
   },
   {
    "duration": 253,
    "start_time": "2022-02-09T21:10:49.519Z"
   },
   {
    "duration": 305,
    "start_time": "2022-02-09T21:10:55.498Z"
   },
   {
    "duration": 302,
    "start_time": "2022-02-09T21:11:47.985Z"
   },
   {
    "duration": 28,
    "start_time": "2022-02-09T21:12:12.689Z"
   },
   {
    "duration": 538,
    "start_time": "2022-02-09T21:12:17.039Z"
   },
   {
    "duration": 444,
    "start_time": "2022-02-09T21:13:25.958Z"
   },
   {
    "duration": 256,
    "start_time": "2022-02-09T21:13:46.984Z"
   },
   {
    "duration": 254,
    "start_time": "2022-02-09T21:13:57.385Z"
   },
   {
    "duration": 1573,
    "start_time": "2022-02-09T21:14:36.350Z"
   },
   {
    "duration": 43,
    "start_time": "2022-02-09T21:14:37.926Z"
   },
   {
    "duration": 44,
    "start_time": "2022-02-09T21:14:37.973Z"
   },
   {
    "duration": 49,
    "start_time": "2022-02-09T21:14:38.021Z"
   },
   {
    "duration": 23,
    "start_time": "2022-02-09T21:14:38.073Z"
   },
   {
    "duration": 22,
    "start_time": "2022-02-09T21:14:38.099Z"
   },
   {
    "duration": 68,
    "start_time": "2022-02-09T21:14:38.124Z"
   },
   {
    "duration": 28,
    "start_time": "2022-02-09T21:14:38.195Z"
   },
   {
    "duration": 45,
    "start_time": "2022-02-09T21:14:38.229Z"
   },
   {
    "duration": 11,
    "start_time": "2022-02-09T21:14:38.278Z"
   },
   {
    "duration": 443,
    "start_time": "2022-02-09T21:14:38.292Z"
   },
   {
    "duration": -224,
    "start_time": "2022-02-09T21:14:38.962Z"
   },
   {
    "duration": -225,
    "start_time": "2022-02-09T21:14:38.964Z"
   },
   {
    "duration": -225,
    "start_time": "2022-02-09T21:14:38.966Z"
   },
   {
    "duration": -225,
    "start_time": "2022-02-09T21:14:38.968Z"
   },
   {
    "duration": -225,
    "start_time": "2022-02-09T21:14:38.970Z"
   },
   {
    "duration": -336,
    "start_time": "2022-02-09T21:14:39.082Z"
   },
   {
    "duration": -337,
    "start_time": "2022-02-09T21:14:39.084Z"
   },
   {
    "duration": -338,
    "start_time": "2022-02-09T21:14:39.087Z"
   },
   {
    "duration": -338,
    "start_time": "2022-02-09T21:14:39.089Z"
   },
   {
    "duration": -339,
    "start_time": "2022-02-09T21:14:39.091Z"
   },
   {
    "duration": -339,
    "start_time": "2022-02-09T21:14:39.093Z"
   },
   {
    "duration": -340,
    "start_time": "2022-02-09T21:14:39.095Z"
   },
   {
    "duration": -339,
    "start_time": "2022-02-09T21:14:39.096Z"
   },
   {
    "duration": -340,
    "start_time": "2022-02-09T21:14:39.098Z"
   },
   {
    "duration": -340,
    "start_time": "2022-02-09T21:14:39.100Z"
   },
   {
    "duration": 12,
    "start_time": "2022-02-09T21:15:23.697Z"
   },
   {
    "duration": 14,
    "start_time": "2022-02-09T21:15:23.712Z"
   },
   {
    "duration": 6,
    "start_time": "2022-02-09T21:15:23.729Z"
   },
   {
    "duration": 8,
    "start_time": "2022-02-09T21:15:23.739Z"
   },
   {
    "duration": 16,
    "start_time": "2022-02-09T21:15:23.770Z"
   },
   {
    "duration": 18,
    "start_time": "2022-02-09T21:15:23.789Z"
   },
   {
    "duration": 6821,
    "start_time": "2022-02-09T21:15:23.809Z"
   },
   {
    "duration": -251,
    "start_time": "2022-02-09T21:15:30.884Z"
   },
   {
    "duration": -250,
    "start_time": "2022-02-09T21:15:30.886Z"
   },
   {
    "duration": -251,
    "start_time": "2022-02-09T21:15:30.888Z"
   },
   {
    "duration": -251,
    "start_time": "2022-02-09T21:15:30.890Z"
   },
   {
    "duration": -251,
    "start_time": "2022-02-09T21:15:30.892Z"
   },
   {
    "duration": -251,
    "start_time": "2022-02-09T21:15:30.894Z"
   },
   {
    "duration": -252,
    "start_time": "2022-02-09T21:15:30.896Z"
   },
   {
    "duration": -252,
    "start_time": "2022-02-09T21:15:30.898Z"
   },
   {
    "duration": 15,
    "start_time": "2022-02-09T21:15:46.626Z"
   },
   {
    "duration": 416,
    "start_time": "2022-02-09T21:15:46.644Z"
   },
   {
    "duration": 12,
    "start_time": "2022-02-09T21:15:47.070Z"
   },
   {
    "duration": 17,
    "start_time": "2022-02-09T21:15:47.085Z"
   },
   {
    "duration": 1691,
    "start_time": "2022-02-09T21:15:47.104Z"
   },
   {
    "duration": 13,
    "start_time": "2022-02-09T21:15:48.797Z"
   },
   {
    "duration": 297,
    "start_time": "2022-02-09T21:15:48.813Z"
   },
   {
    "duration": -185,
    "start_time": "2022-02-09T21:15:49.298Z"
   },
   {
    "duration": 325,
    "start_time": "2022-02-09T21:16:05.841Z"
   },
   {
    "duration": 313,
    "start_time": "2022-02-09T21:16:09.075Z"
   },
   {
    "duration": 30,
    "start_time": "2022-02-09T21:16:39.208Z"
   },
   {
    "duration": 116,
    "start_time": "2022-02-09T21:17:32.296Z"
   },
   {
    "duration": 301,
    "start_time": "2022-02-09T21:18:06.520Z"
   },
   {
    "duration": 30,
    "start_time": "2022-02-09T21:18:17.341Z"
   },
   {
    "duration": 31,
    "start_time": "2022-02-09T21:18:47.242Z"
   },
   {
    "duration": 28,
    "start_time": "2022-02-09T21:19:00.492Z"
   },
   {
    "duration": 1612,
    "start_time": "2022-02-09T21:19:08.031Z"
   },
   {
    "duration": 39,
    "start_time": "2022-02-09T21:19:09.646Z"
   },
   {
    "duration": 50,
    "start_time": "2022-02-09T21:19:09.690Z"
   },
   {
    "duration": 44,
    "start_time": "2022-02-09T21:19:09.743Z"
   },
   {
    "duration": 22,
    "start_time": "2022-02-09T21:19:09.790Z"
   },
   {
    "duration": 19,
    "start_time": "2022-02-09T21:19:09.815Z"
   },
   {
    "duration": 28,
    "start_time": "2022-02-09T21:19:09.870Z"
   },
   {
    "duration": 27,
    "start_time": "2022-02-09T21:19:09.902Z"
   },
   {
    "duration": 21,
    "start_time": "2022-02-09T21:19:09.972Z"
   },
   {
    "duration": 12,
    "start_time": "2022-02-09T21:19:09.997Z"
   },
   {
    "duration": 431,
    "start_time": "2022-02-09T21:19:10.012Z"
   },
   {
    "duration": -179,
    "start_time": "2022-02-09T21:19:10.624Z"
   },
   {
    "duration": -179,
    "start_time": "2022-02-09T21:19:10.626Z"
   },
   {
    "duration": -180,
    "start_time": "2022-02-09T21:19:10.629Z"
   },
   {
    "duration": -180,
    "start_time": "2022-02-09T21:19:10.630Z"
   },
   {
    "duration": -181,
    "start_time": "2022-02-09T21:19:10.632Z"
   },
   {
    "duration": -180,
    "start_time": "2022-02-09T21:19:10.633Z"
   },
   {
    "duration": -181,
    "start_time": "2022-02-09T21:19:10.635Z"
   },
   {
    "duration": -181,
    "start_time": "2022-02-09T21:19:10.636Z"
   },
   {
    "duration": -181,
    "start_time": "2022-02-09T21:19:10.638Z"
   },
   {
    "duration": -352,
    "start_time": "2022-02-09T21:19:10.810Z"
   },
   {
    "duration": -354,
    "start_time": "2022-02-09T21:19:10.813Z"
   },
   {
    "duration": -354,
    "start_time": "2022-02-09T21:19:10.815Z"
   },
   {
    "duration": -355,
    "start_time": "2022-02-09T21:19:10.817Z"
   },
   {
    "duration": -355,
    "start_time": "2022-02-09T21:19:10.818Z"
   },
   {
    "duration": -355,
    "start_time": "2022-02-09T21:19:10.820Z"
   },
   {
    "duration": 13,
    "start_time": "2022-02-09T21:19:17.324Z"
   },
   {
    "duration": 16,
    "start_time": "2022-02-09T21:19:17.341Z"
   },
   {
    "duration": 6,
    "start_time": "2022-02-09T21:19:17.361Z"
   },
   {
    "duration": 8,
    "start_time": "2022-02-09T21:19:17.371Z"
   },
   {
    "duration": 18,
    "start_time": "2022-02-09T21:19:17.381Z"
   },
   {
    "duration": 18,
    "start_time": "2022-02-09T21:19:17.402Z"
   },
   {
    "duration": 6806,
    "start_time": "2022-02-09T21:19:17.422Z"
   },
   {
    "duration": -299,
    "start_time": "2022-02-09T21:19:24.531Z"
   },
   {
    "duration": -306,
    "start_time": "2022-02-09T21:19:24.541Z"
   },
   {
    "duration": -306,
    "start_time": "2022-02-09T21:19:24.543Z"
   },
   {
    "duration": -305,
    "start_time": "2022-02-09T21:19:24.544Z"
   },
   {
    "duration": -305,
    "start_time": "2022-02-09T21:19:24.546Z"
   },
   {
    "duration": -305,
    "start_time": "2022-02-09T21:19:24.548Z"
   },
   {
    "duration": -309,
    "start_time": "2022-02-09T21:19:24.554Z"
   },
   {
    "duration": -312,
    "start_time": "2022-02-09T21:19:24.558Z"
   },
   {
    "duration": 20,
    "start_time": "2022-02-09T21:19:28.810Z"
   },
   {
    "duration": 504,
    "start_time": "2022-02-09T21:19:28.834Z"
   },
   {
    "duration": 30,
    "start_time": "2022-02-09T21:19:29.342Z"
   },
   {
    "duration": 14,
    "start_time": "2022-02-09T21:19:29.375Z"
   },
   {
    "duration": 1835,
    "start_time": "2022-02-09T21:19:29.392Z"
   },
   {
    "duration": 13,
    "start_time": "2022-02-09T21:19:31.230Z"
   },
   {
    "duration": 52,
    "start_time": "2022-02-09T21:19:31.246Z"
   },
   {
    "duration": 285,
    "start_time": "2022-02-09T21:19:31.301Z"
   },
   {
    "duration": 659,
    "start_time": "2022-02-09T21:19:57.960Z"
   },
   {
    "duration": 575,
    "start_time": "2022-02-09T21:20:14.099Z"
   },
   {
    "duration": 1579,
    "start_time": "2022-02-09T22:13:51.332Z"
   },
   {
    "duration": 35,
    "start_time": "2022-02-09T22:13:52.913Z"
   },
   {
    "duration": 56,
    "start_time": "2022-02-09T22:13:52.950Z"
   },
   {
    "duration": 23,
    "start_time": "2022-02-09T22:13:53.008Z"
   },
   {
    "duration": 40,
    "start_time": "2022-02-09T22:13:53.034Z"
   },
   {
    "duration": 19,
    "start_time": "2022-02-09T22:13:53.077Z"
   },
   {
    "duration": 24,
    "start_time": "2022-02-09T22:13:53.098Z"
   },
   {
    "duration": 57,
    "start_time": "2022-02-09T22:13:53.124Z"
   },
   {
    "duration": 20,
    "start_time": "2022-02-09T22:13:53.185Z"
   },
   {
    "duration": 10,
    "start_time": "2022-02-09T22:13:53.209Z"
   },
   {
    "duration": 429,
    "start_time": "2022-02-09T22:13:53.222Z"
   },
   {
    "duration": -93,
    "start_time": "2022-02-09T22:13:53.746Z"
   },
   {
    "duration": -93,
    "start_time": "2022-02-09T22:13:53.748Z"
   },
   {
    "duration": -94,
    "start_time": "2022-02-09T22:13:53.750Z"
   },
   {
    "duration": -111,
    "start_time": "2022-02-09T22:13:53.768Z"
   },
   {
    "duration": -112,
    "start_time": "2022-02-09T22:13:53.771Z"
   },
   {
    "duration": -113,
    "start_time": "2022-02-09T22:13:53.773Z"
   },
   {
    "duration": -113,
    "start_time": "2022-02-09T22:13:53.775Z"
   },
   {
    "duration": -113,
    "start_time": "2022-02-09T22:13:53.776Z"
   },
   {
    "duration": -113,
    "start_time": "2022-02-09T22:13:53.778Z"
   },
   {
    "duration": -113,
    "start_time": "2022-02-09T22:13:53.779Z"
   },
   {
    "duration": -114,
    "start_time": "2022-02-09T22:13:53.782Z"
   },
   {
    "duration": -114,
    "start_time": "2022-02-09T22:13:53.783Z"
   },
   {
    "duration": -114,
    "start_time": "2022-02-09T22:13:53.785Z"
   },
   {
    "duration": -114,
    "start_time": "2022-02-09T22:13:53.786Z"
   },
   {
    "duration": -119,
    "start_time": "2022-02-09T22:13:53.793Z"
   },
   {
    "duration": 15,
    "start_time": "2022-02-09T22:13:59.648Z"
   },
   {
    "duration": 317,
    "start_time": "2022-02-09T22:13:59.666Z"
   },
   {
    "duration": 12,
    "start_time": "2022-02-09T22:13:59.986Z"
   },
   {
    "duration": 20,
    "start_time": "2022-02-09T22:14:00.000Z"
   },
   {
    "duration": 1679,
    "start_time": "2022-02-09T22:14:00.023Z"
   },
   {
    "duration": 15,
    "start_time": "2022-02-09T22:14:01.704Z"
   },
   {
    "duration": 137,
    "start_time": "2022-02-09T22:14:01.721Z"
   },
   {
    "duration": 612,
    "start_time": "2022-02-09T22:14:01.861Z"
   },
   {
    "duration": 9,
    "start_time": "2022-02-09T22:15:32.497Z"
   },
   {
    "duration": 290,
    "start_time": "2022-02-09T22:16:19.961Z"
   },
   {
    "duration": 6,
    "start_time": "2022-02-09T22:16:23.822Z"
   },
   {
    "duration": 267,
    "start_time": "2022-02-09T22:16:55.292Z"
   },
   {
    "duration": 660,
    "start_time": "2022-02-09T22:17:04.802Z"
   },
   {
    "duration": 22,
    "start_time": "2022-02-09T22:17:24.488Z"
   },
   {
    "duration": 37,
    "start_time": "2022-02-09T22:17:29.396Z"
   },
   {
    "duration": 413,
    "start_time": "2022-02-09T22:17:47.480Z"
   },
   {
    "duration": 283,
    "start_time": "2022-02-09T22:17:55.117Z"
   },
   {
    "duration": 35,
    "start_time": "2022-02-09T22:17:57.845Z"
   },
   {
    "duration": 38,
    "start_time": "2022-02-09T22:18:02.174Z"
   },
   {
    "duration": 31,
    "start_time": "2022-02-09T22:18:28.114Z"
   },
   {
    "duration": 558,
    "start_time": "2022-02-09T22:18:33.251Z"
   },
   {
    "duration": 284,
    "start_time": "2022-02-09T22:19:08.324Z"
   },
   {
    "duration": 245,
    "start_time": "2022-02-09T22:19:32.481Z"
   },
   {
    "duration": 254,
    "start_time": "2022-02-09T22:20:22.537Z"
   },
   {
    "duration": 250,
    "start_time": "2022-02-09T22:20:37.315Z"
   },
   {
    "duration": 26,
    "start_time": "2022-02-09T22:22:00.476Z"
   },
   {
    "duration": 469,
    "start_time": "2022-02-09T22:22:37.763Z"
   },
   {
    "duration": 85,
    "start_time": "2022-02-09T22:23:06.418Z"
   },
   {
    "duration": 106,
    "start_time": "2022-02-09T22:23:12.626Z"
   },
   {
    "duration": 29,
    "start_time": "2022-02-09T22:23:22.291Z"
   },
   {
    "duration": 320,
    "start_time": "2022-02-09T22:26:29.206Z"
   },
   {
    "duration": 11,
    "start_time": "2022-02-09T22:27:27.979Z"
   },
   {
    "duration": 10,
    "start_time": "2022-02-09T22:27:30.281Z"
   },
   {
    "duration": 133,
    "start_time": "2022-02-09T22:27:33.443Z"
   },
   {
    "duration": 24,
    "start_time": "2022-02-09T22:27:51.617Z"
   },
   {
    "duration": 25,
    "start_time": "2022-02-09T22:28:31.004Z"
   },
   {
    "duration": 26,
    "start_time": "2022-02-09T22:29:39.983Z"
   },
   {
    "duration": 324,
    "start_time": "2022-02-09T22:30:09.307Z"
   },
   {
    "duration": 46,
    "start_time": "2022-02-09T22:30:20.774Z"
   },
   {
    "duration": 25,
    "start_time": "2022-02-09T22:30:30.608Z"
   },
   {
    "duration": 236,
    "start_time": "2022-02-09T22:31:02.206Z"
   },
   {
    "duration": 430,
    "start_time": "2022-02-09T22:33:27.901Z"
   },
   {
    "duration": 7,
    "start_time": "2022-02-09T22:36:52.135Z"
   },
   {
    "duration": 268,
    "start_time": "2022-02-09T22:36:57.678Z"
   },
   {
    "duration": 43,
    "start_time": "2022-02-09T22:39:37.872Z"
   },
   {
    "duration": 9,
    "start_time": "2022-02-09T22:39:53.233Z"
   },
   {
    "duration": 16,
    "start_time": "2022-02-09T22:40:25.087Z"
   },
   {
    "duration": 44,
    "start_time": "2022-02-09T22:41:12.287Z"
   },
   {
    "duration": 18,
    "start_time": "2022-02-09T22:41:34.943Z"
   },
   {
    "duration": 272,
    "start_time": "2022-02-09T22:42:26.435Z"
   },
   {
    "duration": 11,
    "start_time": "2022-02-09T22:42:29.890Z"
   },
   {
    "duration": 10,
    "start_time": "2022-02-09T22:42:57.185Z"
   },
   {
    "duration": 8,
    "start_time": "2022-02-09T22:43:10.514Z"
   },
   {
    "duration": 8,
    "start_time": "2022-02-09T22:43:13.687Z"
   },
   {
    "duration": 5,
    "start_time": "2022-02-09T22:43:22.498Z"
   },
   {
    "duration": 45,
    "start_time": "2022-02-09T22:43:45.677Z"
   },
   {
    "duration": 11,
    "start_time": "2022-02-09T22:44:08.589Z"
   },
   {
    "duration": 46,
    "start_time": "2022-02-09T22:44:14.088Z"
   },
   {
    "duration": 13,
    "start_time": "2022-02-09T22:44:24.550Z"
   },
   {
    "duration": 481,
    "start_time": "2022-02-09T22:45:07.992Z"
   },
   {
    "duration": 20,
    "start_time": "2022-02-09T22:45:43.461Z"
   },
   {
    "duration": 19,
    "start_time": "2022-02-09T22:46:30.977Z"
   },
   {
    "duration": 21,
    "start_time": "2022-02-09T22:46:55.784Z"
   },
   {
    "duration": 331,
    "start_time": "2022-02-09T22:47:20.256Z"
   },
   {
    "duration": 18,
    "start_time": "2022-02-09T22:50:42.043Z"
   },
   {
    "duration": 18,
    "start_time": "2022-02-09T22:51:09.169Z"
   },
   {
    "duration": 334,
    "start_time": "2022-02-09T22:54:48.520Z"
   },
   {
    "duration": 297,
    "start_time": "2022-02-09T22:55:32.929Z"
   },
   {
    "duration": 99,
    "start_time": "2022-02-09T22:55:41.902Z"
   },
   {
    "duration": 87,
    "start_time": "2022-02-09T22:55:47.362Z"
   },
   {
    "duration": 25,
    "start_time": "2022-02-09T22:55:50.351Z"
   },
   {
    "duration": 336,
    "start_time": "2022-02-09T22:55:55.324Z"
   },
   {
    "duration": 274,
    "start_time": "2022-02-09T22:56:06.622Z"
   },
   {
    "duration": 331,
    "start_time": "2022-02-09T22:56:20.526Z"
   },
   {
    "duration": 342,
    "start_time": "2022-02-09T22:57:03.868Z"
   },
   {
    "duration": 25,
    "start_time": "2022-02-09T22:57:07.149Z"
   },
   {
    "duration": 326,
    "start_time": "2022-02-09T22:57:08.930Z"
   },
   {
    "duration": 416,
    "start_time": "2022-02-09T22:58:08.504Z"
   },
   {
    "duration": 309,
    "start_time": "2022-02-09T23:05:03.629Z"
   },
   {
    "duration": 6,
    "start_time": "2022-02-09T23:05:41.655Z"
   },
   {
    "duration": 9,
    "start_time": "2022-02-09T23:05:51.813Z"
   },
   {
    "duration": 43,
    "start_time": "2022-02-09T23:05:55.995Z"
   },
   {
    "duration": 295,
    "start_time": "2022-02-09T23:06:18.786Z"
   },
   {
    "duration": 17,
    "start_time": "2022-02-09T23:06:49.842Z"
   },
   {
    "duration": 21,
    "start_time": "2022-02-09T23:07:05.228Z"
   },
   {
    "duration": 16,
    "start_time": "2022-02-09T23:07:15.416Z"
   },
   {
    "duration": 283,
    "start_time": "2022-02-09T23:07:41.065Z"
   },
   {
    "duration": 1584,
    "start_time": "2022-02-09T23:07:52.736Z"
   },
   {
    "duration": 36,
    "start_time": "2022-02-09T23:07:54.323Z"
   },
   {
    "duration": 45,
    "start_time": "2022-02-09T23:07:54.369Z"
   },
   {
    "duration": 23,
    "start_time": "2022-02-09T23:07:54.416Z"
   },
   {
    "duration": 46,
    "start_time": "2022-02-09T23:07:54.441Z"
   },
   {
    "duration": 25,
    "start_time": "2022-02-09T23:07:54.489Z"
   },
   {
    "duration": 64,
    "start_time": "2022-02-09T23:07:54.517Z"
   },
   {
    "duration": 27,
    "start_time": "2022-02-09T23:07:54.585Z"
   },
   {
    "duration": 17,
    "start_time": "2022-02-09T23:07:54.615Z"
   },
   {
    "duration": 44,
    "start_time": "2022-02-09T23:07:54.635Z"
   },
   {
    "duration": 549,
    "start_time": "2022-02-09T23:07:54.682Z"
   },
   {
    "duration": -86,
    "start_time": "2022-02-09T23:07:55.321Z"
   },
   {
    "duration": -86,
    "start_time": "2022-02-09T23:07:55.323Z"
   },
   {
    "duration": -85,
    "start_time": "2022-02-09T23:07:55.324Z"
   },
   {
    "duration": -189,
    "start_time": "2022-02-09T23:07:55.430Z"
   },
   {
    "duration": -201,
    "start_time": "2022-02-09T23:07:55.444Z"
   },
   {
    "duration": -201,
    "start_time": "2022-02-09T23:07:55.446Z"
   },
   {
    "duration": -201,
    "start_time": "2022-02-09T23:07:55.448Z"
   },
   {
    "duration": -200,
    "start_time": "2022-02-09T23:07:55.449Z"
   },
   {
    "duration": -201,
    "start_time": "2022-02-09T23:07:55.451Z"
   },
   {
    "duration": -201,
    "start_time": "2022-02-09T23:07:55.453Z"
   },
   {
    "duration": -200,
    "start_time": "2022-02-09T23:07:55.454Z"
   },
   {
    "duration": -200,
    "start_time": "2022-02-09T23:07:55.456Z"
   },
   {
    "duration": -199,
    "start_time": "2022-02-09T23:07:55.457Z"
   },
   {
    "duration": -199,
    "start_time": "2022-02-09T23:07:55.459Z"
   },
   {
    "duration": -198,
    "start_time": "2022-02-09T23:07:55.460Z"
   },
   {
    "duration": -199,
    "start_time": "2022-02-09T23:07:55.462Z"
   },
   {
    "duration": -198,
    "start_time": "2022-02-09T23:07:55.463Z"
   },
   {
    "duration": -197,
    "start_time": "2022-02-09T23:07:55.465Z"
   },
   {
    "duration": -197,
    "start_time": "2022-02-09T23:07:55.466Z"
   },
   {
    "duration": -197,
    "start_time": "2022-02-09T23:07:55.468Z"
   },
   {
    "duration": -197,
    "start_time": "2022-02-09T23:07:55.470Z"
   },
   {
    "duration": 11,
    "start_time": "2022-02-09T23:08:11.559Z"
   },
   {
    "duration": 12,
    "start_time": "2022-02-09T23:08:11.573Z"
   },
   {
    "duration": 10,
    "start_time": "2022-02-09T23:08:11.588Z"
   },
   {
    "duration": 11,
    "start_time": "2022-02-09T23:08:11.600Z"
   },
   {
    "duration": 18,
    "start_time": "2022-02-09T23:08:11.613Z"
   },
   {
    "duration": 47,
    "start_time": "2022-02-09T23:08:11.633Z"
   },
   {
    "duration": 6909,
    "start_time": "2022-02-09T23:08:11.682Z"
   },
   {
    "duration": -350,
    "start_time": "2022-02-09T23:08:18.944Z"
   },
   {
    "duration": -352,
    "start_time": "2022-02-09T23:08:18.947Z"
   },
   {
    "duration": -352,
    "start_time": "2022-02-09T23:08:18.949Z"
   },
   {
    "duration": -353,
    "start_time": "2022-02-09T23:08:18.951Z"
   },
   {
    "duration": -353,
    "start_time": "2022-02-09T23:08:18.953Z"
   },
   {
    "duration": -354,
    "start_time": "2022-02-09T23:08:18.955Z"
   },
   {
    "duration": -354,
    "start_time": "2022-02-09T23:08:18.956Z"
   },
   {
    "duration": -354,
    "start_time": "2022-02-09T23:08:18.958Z"
   },
   {
    "duration": -354,
    "start_time": "2022-02-09T23:08:18.959Z"
   },
   {
    "duration": -355,
    "start_time": "2022-02-09T23:08:18.961Z"
   },
   {
    "duration": -355,
    "start_time": "2022-02-09T23:08:18.962Z"
   },
   {
    "duration": -355,
    "start_time": "2022-02-09T23:08:18.964Z"
   },
   {
    "duration": -356,
    "start_time": "2022-02-09T23:08:18.966Z"
   },
   {
    "duration": -356,
    "start_time": "2022-02-09T23:08:18.967Z"
   },
   {
    "duration": 17,
    "start_time": "2022-02-09T23:08:20.526Z"
   },
   {
    "duration": 567,
    "start_time": "2022-02-09T23:08:20.547Z"
   },
   {
    "duration": -214,
    "start_time": "2022-02-09T23:08:21.333Z"
   },
   {
    "duration": -214,
    "start_time": "2022-02-09T23:08:21.335Z"
   },
   {
    "duration": -214,
    "start_time": "2022-02-09T23:08:21.337Z"
   },
   {
    "duration": -213,
    "start_time": "2022-02-09T23:08:21.339Z"
   },
   {
    "duration": -212,
    "start_time": "2022-02-09T23:08:21.340Z"
   },
   {
    "duration": -212,
    "start_time": "2022-02-09T23:08:21.342Z"
   },
   {
    "duration": -211,
    "start_time": "2022-02-09T23:08:21.343Z"
   },
   {
    "duration": -211,
    "start_time": "2022-02-09T23:08:21.345Z"
   },
   {
    "duration": -210,
    "start_time": "2022-02-09T23:08:21.346Z"
   },
   {
    "duration": -178,
    "start_time": "2022-02-09T23:08:21.348Z"
   },
   {
    "duration": -178,
    "start_time": "2022-02-09T23:08:21.350Z"
   },
   {
    "duration": -184,
    "start_time": "2022-02-09T23:08:21.357Z"
   },
   {
    "duration": 12,
    "start_time": "2022-02-09T23:08:38.051Z"
   },
   {
    "duration": 25,
    "start_time": "2022-02-09T23:08:38.065Z"
   },
   {
    "duration": 1565,
    "start_time": "2022-02-09T23:08:38.093Z"
   },
   {
    "duration": 19,
    "start_time": "2022-02-09T23:08:39.661Z"
   },
   {
    "duration": 127,
    "start_time": "2022-02-09T23:08:39.682Z"
   },
   {
    "duration": 259,
    "start_time": "2022-02-09T23:08:39.812Z"
   },
   {
    "duration": 309,
    "start_time": "2022-02-09T23:08:40.074Z"
   },
   {
    "duration": 24,
    "start_time": "2022-02-09T23:08:40.386Z"
   },
   {
    "duration": 255,
    "start_time": "2022-02-09T23:08:40.414Z"
   },
   {
    "duration": 262,
    "start_time": "2022-02-09T23:08:40.672Z"
   },
   {
    "duration": -104,
    "start_time": "2022-02-09T23:08:41.041Z"
   },
   {
    "duration": -104,
    "start_time": "2022-02-09T23:08:41.043Z"
   },
   {
    "duration": 1886,
    "start_time": "2022-02-09T23:10:26.074Z"
   },
   {
    "duration": 34,
    "start_time": "2022-02-09T23:10:27.963Z"
   },
   {
    "duration": 43,
    "start_time": "2022-02-09T23:10:28.000Z"
   },
   {
    "duration": 44,
    "start_time": "2022-02-09T23:10:28.047Z"
   },
   {
    "duration": 24,
    "start_time": "2022-02-09T23:10:28.093Z"
   },
   {
    "duration": 19,
    "start_time": "2022-02-09T23:10:28.119Z"
   },
   {
    "duration": 50,
    "start_time": "2022-02-09T23:10:28.140Z"
   },
   {
    "duration": 24,
    "start_time": "2022-02-09T23:10:28.192Z"
   },
   {
    "duration": 50,
    "start_time": "2022-02-09T23:10:28.220Z"
   },
   {
    "duration": 10,
    "start_time": "2022-02-09T23:10:28.273Z"
   },
   {
    "duration": 404,
    "start_time": "2022-02-09T23:10:28.285Z"
   },
   {
    "duration": -183,
    "start_time": "2022-02-09T23:10:28.874Z"
   },
   {
    "duration": -183,
    "start_time": "2022-02-09T23:10:28.876Z"
   },
   {
    "duration": -184,
    "start_time": "2022-02-09T23:10:28.878Z"
   },
   {
    "duration": -185,
    "start_time": "2022-02-09T23:10:28.880Z"
   },
   {
    "duration": -184,
    "start_time": "2022-02-09T23:10:28.881Z"
   },
   {
    "duration": -185,
    "start_time": "2022-02-09T23:10:28.883Z"
   },
   {
    "duration": -186,
    "start_time": "2022-02-09T23:10:28.885Z"
   },
   {
    "duration": -185,
    "start_time": "2022-02-09T23:10:28.886Z"
   },
   {
    "duration": -185,
    "start_time": "2022-02-09T23:10:28.887Z"
   },
   {
    "duration": -185,
    "start_time": "2022-02-09T23:10:28.889Z"
   },
   {
    "duration": -185,
    "start_time": "2022-02-09T23:10:28.890Z"
   },
   {
    "duration": -186,
    "start_time": "2022-02-09T23:10:28.892Z"
   },
   {
    "duration": -186,
    "start_time": "2022-02-09T23:10:28.893Z"
   },
   {
    "duration": -186,
    "start_time": "2022-02-09T23:10:28.895Z"
   },
   {
    "duration": -187,
    "start_time": "2022-02-09T23:10:28.897Z"
   },
   {
    "duration": -188,
    "start_time": "2022-02-09T23:10:28.899Z"
   },
   {
    "duration": -187,
    "start_time": "2022-02-09T23:10:28.900Z"
   },
   {
    "duration": -188,
    "start_time": "2022-02-09T23:10:28.902Z"
   },
   {
    "duration": -188,
    "start_time": "2022-02-09T23:10:28.903Z"
   },
   {
    "duration": -188,
    "start_time": "2022-02-09T23:10:28.905Z"
   },
   {
    "duration": -188,
    "start_time": "2022-02-09T23:10:28.906Z"
   },
   {
    "duration": 11,
    "start_time": "2022-02-09T23:10:44.144Z"
   },
   {
    "duration": 14,
    "start_time": "2022-02-09T23:10:44.159Z"
   },
   {
    "duration": 8,
    "start_time": "2022-02-09T23:10:44.177Z"
   },
   {
    "duration": 9,
    "start_time": "2022-02-09T23:10:44.188Z"
   },
   {
    "duration": 18,
    "start_time": "2022-02-09T23:10:44.200Z"
   },
   {
    "duration": 17,
    "start_time": "2022-02-09T23:10:44.269Z"
   },
   {
    "duration": 6884,
    "start_time": "2022-02-09T23:10:44.289Z"
   },
   {
    "duration": -244,
    "start_time": "2022-02-09T23:10:51.420Z"
   },
   {
    "duration": -244,
    "start_time": "2022-02-09T23:10:51.422Z"
   },
   {
    "duration": -245,
    "start_time": "2022-02-09T23:10:51.424Z"
   },
   {
    "duration": -246,
    "start_time": "2022-02-09T23:10:51.427Z"
   },
   {
    "duration": -247,
    "start_time": "2022-02-09T23:10:51.429Z"
   },
   {
    "duration": -247,
    "start_time": "2022-02-09T23:10:51.431Z"
   },
   {
    "duration": -246,
    "start_time": "2022-02-09T23:10:51.432Z"
   },
   {
    "duration": -247,
    "start_time": "2022-02-09T23:10:51.435Z"
   },
   {
    "duration": -248,
    "start_time": "2022-02-09T23:10:51.437Z"
   },
   {
    "duration": -248,
    "start_time": "2022-02-09T23:10:51.439Z"
   },
   {
    "duration": -248,
    "start_time": "2022-02-09T23:10:51.440Z"
   },
   {
    "duration": -248,
    "start_time": "2022-02-09T23:10:51.442Z"
   },
   {
    "duration": -250,
    "start_time": "2022-02-09T23:10:51.445Z"
   },
   {
    "duration": -249,
    "start_time": "2022-02-09T23:10:51.446Z"
   },
   {
    "duration": 15,
    "start_time": "2022-02-09T23:10:57.498Z"
   },
   {
    "duration": 568,
    "start_time": "2022-02-09T23:10:57.516Z"
   },
   {
    "duration": -375,
    "start_time": "2022-02-09T23:10:58.462Z"
   },
   {
    "duration": -374,
    "start_time": "2022-02-09T23:10:58.463Z"
   },
   {
    "duration": -375,
    "start_time": "2022-02-09T23:10:58.465Z"
   },
   {
    "duration": -375,
    "start_time": "2022-02-09T23:10:58.467Z"
   },
   {
    "duration": -375,
    "start_time": "2022-02-09T23:10:58.469Z"
   },
   {
    "duration": -376,
    "start_time": "2022-02-09T23:10:58.471Z"
   },
   {
    "duration": -376,
    "start_time": "2022-02-09T23:10:58.473Z"
   },
   {
    "duration": -376,
    "start_time": "2022-02-09T23:10:58.475Z"
   },
   {
    "duration": -376,
    "start_time": "2022-02-09T23:10:58.476Z"
   },
   {
    "duration": -376,
    "start_time": "2022-02-09T23:10:58.478Z"
   },
   {
    "duration": -376,
    "start_time": "2022-02-09T23:10:58.480Z"
   },
   {
    "duration": -377,
    "start_time": "2022-02-09T23:10:58.482Z"
   },
   {
    "duration": 12,
    "start_time": "2022-02-09T23:11:09.274Z"
   },
   {
    "duration": 11,
    "start_time": "2022-02-09T23:11:09.288Z"
   },
   {
    "duration": 1588,
    "start_time": "2022-02-09T23:11:09.302Z"
   },
   {
    "duration": 14,
    "start_time": "2022-02-09T23:11:10.892Z"
   },
   {
    "duration": 135,
    "start_time": "2022-02-09T23:11:10.909Z"
   },
   {
    "duration": 268,
    "start_time": "2022-02-09T23:11:11.046Z"
   },
   {
    "duration": 305,
    "start_time": "2022-02-09T23:11:11.317Z"
   },
   {
    "duration": 24,
    "start_time": "2022-02-09T23:11:11.624Z"
   },
   {
    "duration": 244,
    "start_time": "2022-02-09T23:11:11.671Z"
   },
   {
    "duration": 267,
    "start_time": "2022-02-09T23:11:11.917Z"
   },
   {
    "duration": -97,
    "start_time": "2022-02-09T23:11:12.285Z"
   },
   {
    "duration": -97,
    "start_time": "2022-02-09T23:11:12.287Z"
   },
   {
    "duration": 1500,
    "start_time": "2022-02-09T23:11:27.601Z"
   },
   {
    "duration": 37,
    "start_time": "2022-02-09T23:11:29.104Z"
   },
   {
    "duration": 67,
    "start_time": "2022-02-09T23:11:29.145Z"
   },
   {
    "duration": 24,
    "start_time": "2022-02-09T23:11:29.214Z"
   },
   {
    "duration": 43,
    "start_time": "2022-02-09T23:11:29.241Z"
   },
   {
    "duration": 26,
    "start_time": "2022-02-09T23:11:29.286Z"
   },
   {
    "duration": 29,
    "start_time": "2022-02-09T23:11:29.314Z"
   },
   {
    "duration": 48,
    "start_time": "2022-02-09T23:11:29.345Z"
   },
   {
    "duration": 20,
    "start_time": "2022-02-09T23:11:29.397Z"
   },
   {
    "duration": 23,
    "start_time": "2022-02-09T23:11:29.420Z"
   },
   {
    "duration": 511,
    "start_time": "2022-02-09T23:11:29.470Z"
   },
   {
    "duration": -237,
    "start_time": "2022-02-09T23:11:30.221Z"
   },
   {
    "duration": -238,
    "start_time": "2022-02-09T23:11:30.224Z"
   },
   {
    "duration": -239,
    "start_time": "2022-02-09T23:11:30.226Z"
   },
   {
    "duration": -238,
    "start_time": "2022-02-09T23:11:30.227Z"
   },
   {
    "duration": -358,
    "start_time": "2022-02-09T23:11:30.349Z"
   },
   {
    "duration": -411,
    "start_time": "2022-02-09T23:11:30.403Z"
   },
   {
    "duration": -413,
    "start_time": "2022-02-09T23:11:30.406Z"
   },
   {
    "duration": -413,
    "start_time": "2022-02-09T23:11:30.408Z"
   },
   {
    "duration": -422,
    "start_time": "2022-02-09T23:11:30.418Z"
   },
   {
    "duration": -422,
    "start_time": "2022-02-09T23:11:30.420Z"
   },
   {
    "duration": -424,
    "start_time": "2022-02-09T23:11:30.423Z"
   },
   {
    "duration": -423,
    "start_time": "2022-02-09T23:11:30.424Z"
   },
   {
    "duration": -424,
    "start_time": "2022-02-09T23:11:30.426Z"
   },
   {
    "duration": -425,
    "start_time": "2022-02-09T23:11:30.428Z"
   },
   {
    "duration": -424,
    "start_time": "2022-02-09T23:11:30.429Z"
   },
   {
    "duration": -426,
    "start_time": "2022-02-09T23:11:30.432Z"
   },
   {
    "duration": -426,
    "start_time": "2022-02-09T23:11:30.434Z"
   },
   {
    "duration": -427,
    "start_time": "2022-02-09T23:11:30.436Z"
   },
   {
    "duration": -369,
    "start_time": "2022-02-09T23:11:30.438Z"
   },
   {
    "duration": -370,
    "start_time": "2022-02-09T23:11:30.440Z"
   },
   {
    "duration": -369,
    "start_time": "2022-02-09T23:11:30.441Z"
   },
   {
    "duration": 13,
    "start_time": "2022-02-09T23:11:33.550Z"
   },
   {
    "duration": 14,
    "start_time": "2022-02-09T23:11:34.612Z"
   },
   {
    "duration": 7,
    "start_time": "2022-02-09T23:11:35.890Z"
   },
   {
    "duration": 6,
    "start_time": "2022-02-09T23:11:36.910Z"
   },
   {
    "duration": 17,
    "start_time": "2022-02-09T23:11:38.104Z"
   },
   {
    "duration": 14,
    "start_time": "2022-02-09T23:11:50.828Z"
   },
   {
    "duration": 579,
    "start_time": "2022-02-09T23:11:50.845Z"
   },
   {
    "duration": -212,
    "start_time": "2022-02-09T23:11:51.639Z"
   },
   {
    "duration": -213,
    "start_time": "2022-02-09T23:11:51.641Z"
   },
   {
    "duration": -214,
    "start_time": "2022-02-09T23:11:51.644Z"
   },
   {
    "duration": -214,
    "start_time": "2022-02-09T23:11:51.645Z"
   },
   {
    "duration": -214,
    "start_time": "2022-02-09T23:11:51.647Z"
   },
   {
    "duration": -215,
    "start_time": "2022-02-09T23:11:51.649Z"
   },
   {
    "duration": -216,
    "start_time": "2022-02-09T23:11:51.651Z"
   },
   {
    "duration": -216,
    "start_time": "2022-02-09T23:11:51.653Z"
   },
   {
    "duration": -217,
    "start_time": "2022-02-09T23:11:51.655Z"
   },
   {
    "duration": -217,
    "start_time": "2022-02-09T23:11:51.656Z"
   },
   {
    "duration": -217,
    "start_time": "2022-02-09T23:11:51.658Z"
   },
   {
    "duration": -217,
    "start_time": "2022-02-09T23:11:51.659Z"
   },
   {
    "duration": 11,
    "start_time": "2022-02-09T23:12:03.625Z"
   },
   {
    "duration": 11,
    "start_time": "2022-02-09T23:12:03.639Z"
   },
   {
    "duration": 1564,
    "start_time": "2022-02-09T23:12:03.653Z"
   },
   {
    "duration": 14,
    "start_time": "2022-02-09T23:12:05.220Z"
   },
   {
    "duration": 123,
    "start_time": "2022-02-09T23:12:05.237Z"
   },
   {
    "duration": 266,
    "start_time": "2022-02-09T23:12:05.363Z"
   },
   {
    "duration": 312,
    "start_time": "2022-02-09T23:12:05.631Z"
   },
   {
    "duration": 40,
    "start_time": "2022-02-09T23:12:05.947Z"
   },
   {
    "duration": 259,
    "start_time": "2022-02-09T23:12:05.990Z"
   },
   {
    "duration": 269,
    "start_time": "2022-02-09T23:12:06.252Z"
   },
   {
    "duration": -96,
    "start_time": "2022-02-09T23:12:06.619Z"
   },
   {
    "duration": -96,
    "start_time": "2022-02-09T23:12:06.621Z"
   },
   {
    "duration": 270,
    "start_time": "2022-02-09T23:12:34.578Z"
   },
   {
    "duration": 23,
    "start_time": "2022-02-09T23:13:10.031Z"
   },
   {
    "duration": 426,
    "start_time": "2022-02-09T23:13:18.450Z"
   },
   {
    "duration": 10,
    "start_time": "2022-02-09T23:13:23.006Z"
   },
   {
    "duration": 301,
    "start_time": "2022-02-09T23:13:27.270Z"
   },
   {
    "duration": 293,
    "start_time": "2022-02-09T23:14:20.780Z"
   },
   {
    "duration": 281,
    "start_time": "2022-02-09T23:14:43.951Z"
   },
   {
    "duration": 293,
    "start_time": "2022-02-09T23:15:24.469Z"
   },
   {
    "duration": 415,
    "start_time": "2022-02-09T23:15:42.171Z"
   },
   {
    "duration": 441,
    "start_time": "2022-02-09T23:17:45.010Z"
   },
   {
    "duration": 405,
    "start_time": "2022-02-09T23:18:38.486Z"
   },
   {
    "duration": 7,
    "start_time": "2022-02-09T23:22:23.981Z"
   },
   {
    "duration": 263,
    "start_time": "2022-02-09T23:23:37.707Z"
   },
   {
    "duration": 813,
    "start_time": "2022-02-09T23:23:43.080Z"
   },
   {
    "duration": 103,
    "start_time": "2022-02-09T23:24:14.378Z"
   },
   {
    "duration": 830,
    "start_time": "2022-02-09T23:24:18.511Z"
   },
   {
    "duration": 6,
    "start_time": "2022-02-09T23:25:06.593Z"
   },
   {
    "duration": 835,
    "start_time": "2022-02-09T23:26:38.787Z"
   },
   {
    "duration": 11,
    "start_time": "2022-02-09T23:27:10.451Z"
   },
   {
    "duration": 16,
    "start_time": "2022-02-09T23:27:38.179Z"
   },
   {
    "duration": 444,
    "start_time": "2022-02-09T23:27:46.417Z"
   },
   {
    "duration": 10,
    "start_time": "2022-02-09T23:27:49.138Z"
   },
   {
    "duration": 802,
    "start_time": "2022-02-09T23:28:28.670Z"
   },
   {
    "duration": 8,
    "start_time": "2022-02-09T23:28:44.420Z"
   },
   {
    "duration": 9,
    "start_time": "2022-02-09T23:28:57.731Z"
   },
   {
    "duration": 888,
    "start_time": "2022-02-09T23:29:25.967Z"
   },
   {
    "duration": 16,
    "start_time": "2022-02-09T23:29:49.192Z"
   },
   {
    "duration": 1121,
    "start_time": "2022-02-09T23:29:51.706Z"
   },
   {
    "duration": 15,
    "start_time": "2022-02-09T23:29:57.986Z"
   },
   {
    "duration": 10,
    "start_time": "2022-02-09T23:30:04.682Z"
   },
   {
    "duration": 903,
    "start_time": "2022-02-09T23:30:19.650Z"
   },
   {
    "duration": 14,
    "start_time": "2022-02-09T23:31:29.923Z"
   },
   {
    "duration": 11,
    "start_time": "2022-02-09T23:31:41.472Z"
   },
   {
    "duration": 960,
    "start_time": "2022-02-09T23:42:25.575Z"
   },
   {
    "duration": 1046,
    "start_time": "2022-02-09T23:42:38.426Z"
   },
   {
    "duration": 7,
    "start_time": "2022-02-09T23:43:32.167Z"
   },
   {
    "duration": 1112,
    "start_time": "2022-02-09T23:44:02.181Z"
   },
   {
    "duration": 38,
    "start_time": "2022-02-09T23:54:59.330Z"
   },
   {
    "duration": 7,
    "start_time": "2022-02-09T23:56:19.861Z"
   },
   {
    "duration": 34,
    "start_time": "2022-02-09T23:57:05.360Z"
   },
   {
    "duration": 36,
    "start_time": "2022-02-09T23:57:22.672Z"
   },
   {
    "duration": 6,
    "start_time": "2022-02-09T23:57:54.601Z"
   },
   {
    "duration": 7,
    "start_time": "2022-02-09T23:57:55.952Z"
   },
   {
    "duration": 7,
    "start_time": "2022-02-10T00:09:02.553Z"
   },
   {
    "duration": 256,
    "start_time": "2022-02-10T00:09:16.696Z"
   },
   {
    "duration": 256,
    "start_time": "2022-02-10T00:09:45.698Z"
   },
   {
    "duration": 254,
    "start_time": "2022-02-10T00:09:47.751Z"
   },
   {
    "duration": 248,
    "start_time": "2022-02-10T00:09:58.731Z"
   },
   {
    "duration": 257,
    "start_time": "2022-02-10T00:10:06.122Z"
   },
   {
    "duration": 249,
    "start_time": "2022-02-10T00:10:37.011Z"
   },
   {
    "duration": 305,
    "start_time": "2022-02-10T00:12:13.065Z"
   },
   {
    "duration": 288,
    "start_time": "2022-02-10T00:12:38.412Z"
   },
   {
    "duration": 369,
    "start_time": "2022-02-10T00:12:54.958Z"
   },
   {
    "duration": 250,
    "start_time": "2022-02-10T00:14:03.214Z"
   },
   {
    "duration": 509,
    "start_time": "2022-02-10T00:14:22.714Z"
   },
   {
    "duration": 248,
    "start_time": "2022-02-10T00:14:41.357Z"
   },
   {
    "duration": 359,
    "start_time": "2022-02-10T00:15:14.116Z"
   },
   {
    "duration": 497,
    "start_time": "2022-02-10T00:15:29.099Z"
   },
   {
    "duration": 265,
    "start_time": "2022-02-10T00:32:56.352Z"
   },
   {
    "duration": 270,
    "start_time": "2022-02-10T00:33:13.638Z"
   },
   {
    "duration": 242,
    "start_time": "2022-02-10T00:33:24.517Z"
   },
   {
    "duration": 262,
    "start_time": "2022-02-10T00:34:07.087Z"
   },
   {
    "duration": 293,
    "start_time": "2022-02-10T00:35:25.105Z"
   },
   {
    "duration": 253,
    "start_time": "2022-02-10T00:35:32.918Z"
   },
   {
    "duration": 258,
    "start_time": "2022-02-10T00:35:44.166Z"
   },
   {
    "duration": 260,
    "start_time": "2022-02-10T00:36:26.073Z"
   },
   {
    "duration": 238,
    "start_time": "2022-02-10T00:36:46.590Z"
   },
   {
    "duration": 253,
    "start_time": "2022-02-10T00:36:52.612Z"
   },
   {
    "duration": 248,
    "start_time": "2022-02-10T00:37:05.640Z"
   },
   {
    "duration": 5,
    "start_time": "2022-02-10T01:52:17.706Z"
   },
   {
    "duration": 280,
    "start_time": "2022-02-10T01:53:56.798Z"
   },
   {
    "duration": 282,
    "start_time": "2022-02-10T01:54:02.383Z"
   },
   {
    "duration": 274,
    "start_time": "2022-02-10T01:54:23.339Z"
   },
   {
    "duration": 285,
    "start_time": "2022-02-10T01:54:58.166Z"
   },
   {
    "duration": 367,
    "start_time": "2022-02-10T01:54:59.702Z"
   },
   {
    "duration": 280,
    "start_time": "2022-02-10T01:55:05.558Z"
   },
   {
    "duration": 268,
    "start_time": "2022-02-10T01:56:06.714Z"
   },
   {
    "duration": 278,
    "start_time": "2022-02-10T01:57:25.398Z"
   },
   {
    "duration": 277,
    "start_time": "2022-02-10T01:57:34.192Z"
   },
   {
    "duration": 94,
    "start_time": "2022-02-10T01:58:47.710Z"
   },
   {
    "duration": 248,
    "start_time": "2022-02-10T01:58:52.095Z"
   },
   {
    "duration": 279,
    "start_time": "2022-02-10T01:58:56.818Z"
   },
   {
    "duration": 267,
    "start_time": "2022-02-10T01:59:32.276Z"
   },
   {
    "duration": 271,
    "start_time": "2022-02-10T02:00:14.234Z"
   },
   {
    "duration": 303,
    "start_time": "2022-02-10T02:00:23.216Z"
   },
   {
    "duration": 284,
    "start_time": "2022-02-10T02:00:46.996Z"
   },
   {
    "duration": 290,
    "start_time": "2022-02-10T02:00:54.260Z"
   },
   {
    "duration": 531,
    "start_time": "2022-02-10T02:01:16.760Z"
   },
   {
    "duration": 269,
    "start_time": "2022-02-10T02:01:23.109Z"
   },
   {
    "duration": 9,
    "start_time": "2022-02-10T02:02:21.839Z"
   },
   {
    "duration": 9,
    "start_time": "2022-02-10T02:02:51.865Z"
   },
   {
    "duration": 9,
    "start_time": "2022-02-10T02:03:46.980Z"
   },
   {
    "duration": 425,
    "start_time": "2022-02-10T02:04:46.662Z"
   },
   {
    "duration": 251,
    "start_time": "2022-02-10T02:05:16.146Z"
   },
   {
    "duration": 300,
    "start_time": "2022-02-10T02:05:20.707Z"
   },
   {
    "duration": 276,
    "start_time": "2022-02-10T02:05:58.136Z"
   },
   {
    "duration": 332,
    "start_time": "2022-02-10T02:06:02.563Z"
   },
   {
    "duration": 288,
    "start_time": "2022-02-10T02:06:18.728Z"
   },
   {
    "duration": 422,
    "start_time": "2022-02-10T02:06:27.569Z"
   },
   {
    "duration": 279,
    "start_time": "2022-02-10T02:06:35.258Z"
   },
   {
    "duration": 3,
    "start_time": "2022-02-10T02:07:07.370Z"
   },
   {
    "duration": 556,
    "start_time": "2022-02-10T02:21:07.102Z"
   },
   {
    "duration": 548,
    "start_time": "2022-02-10T02:21:18.887Z"
   },
   {
    "duration": 299,
    "start_time": "2022-02-10T02:21:20.699Z"
   },
   {
    "duration": 635,
    "start_time": "2022-02-10T02:21:37.663Z"
   },
   {
    "duration": 630,
    "start_time": "2022-02-10T02:23:25.212Z"
   },
   {
    "duration": 425,
    "start_time": "2022-02-10T02:23:44.028Z"
   },
   {
    "duration": 305,
    "start_time": "2022-02-10T02:24:19.650Z"
   },
   {
    "duration": 316,
    "start_time": "2022-02-10T02:24:31.949Z"
   },
   {
    "duration": 292,
    "start_time": "2022-02-10T02:25:36.865Z"
   },
   {
    "duration": 793,
    "start_time": "2022-02-10T02:25:50.687Z"
   },
   {
    "duration": 312,
    "start_time": "2022-02-10T02:26:20.683Z"
   },
   {
    "duration": 8247,
    "start_time": "2022-02-10T02:28:08.696Z"
   },
   {
    "duration": 314,
    "start_time": "2022-02-10T02:29:05.525Z"
   },
   {
    "duration": 102,
    "start_time": "2022-02-10T02:29:17.934Z"
   },
   {
    "duration": 323,
    "start_time": "2022-02-10T02:29:20.793Z"
   },
   {
    "duration": 323,
    "start_time": "2022-02-10T02:30:28.707Z"
   },
   {
    "duration": 323,
    "start_time": "2022-02-10T02:30:39.246Z"
   },
   {
    "duration": 307,
    "start_time": "2022-02-10T02:32:28.915Z"
   },
   {
    "duration": 395,
    "start_time": "2022-02-10T02:35:57.852Z"
   },
   {
    "duration": 361,
    "start_time": "2022-02-10T02:36:12.108Z"
   },
   {
    "duration": 696,
    "start_time": "2022-02-10T02:37:56.201Z"
   },
   {
    "duration": 787,
    "start_time": "2022-02-10T02:39:02.699Z"
   },
   {
    "duration": 781,
    "start_time": "2022-02-10T02:39:27.588Z"
   },
   {
    "duration": 1058,
    "start_time": "2022-02-10T02:40:01.396Z"
   },
   {
    "duration": 544,
    "start_time": "2022-02-10T02:40:11.423Z"
   },
   {
    "duration": 548,
    "start_time": "2022-02-10T02:40:38.990Z"
   },
   {
    "duration": 267,
    "start_time": "2022-02-10T02:43:34.548Z"
   },
   {
    "duration": 545,
    "start_time": "2022-02-10T02:43:37.300Z"
   },
   {
    "duration": 561,
    "start_time": "2022-02-10T02:43:39.625Z"
   },
   {
    "duration": 684,
    "start_time": "2022-02-10T02:43:44.231Z"
   },
   {
    "duration": 92,
    "start_time": "2022-02-10T02:43:52.040Z"
   },
   {
    "duration": 358,
    "start_time": "2022-02-10T02:43:53.948Z"
   },
   {
    "duration": 776,
    "start_time": "2022-02-10T02:44:53.111Z"
   },
   {
    "duration": 773,
    "start_time": "2022-02-10T02:45:39.898Z"
   },
   {
    "duration": 518,
    "start_time": "2022-02-10T02:45:47.768Z"
   },
   {
    "duration": 542,
    "start_time": "2022-02-10T02:47:37.506Z"
   },
   {
    "duration": 675,
    "start_time": "2022-02-10T02:49:00.060Z"
   },
   {
    "duration": 543,
    "start_time": "2022-02-10T02:49:04.116Z"
   },
   {
    "duration": 674,
    "start_time": "2022-02-10T02:50:41.844Z"
   },
   {
    "duration": 872,
    "start_time": "2022-02-10T02:50:46.740Z"
   },
   {
    "duration": 556,
    "start_time": "2022-02-10T02:51:59.767Z"
   },
   {
    "duration": 550,
    "start_time": "2022-02-10T02:52:02.278Z"
   },
   {
    "duration": 548,
    "start_time": "2022-02-10T02:52:06.843Z"
   },
   {
    "duration": 537,
    "start_time": "2022-02-10T02:53:24.209Z"
   },
   {
    "duration": 535,
    "start_time": "2022-02-10T02:53:28.741Z"
   },
   {
    "duration": 867,
    "start_time": "2022-02-10T02:56:11.030Z"
   },
   {
    "duration": 666,
    "start_time": "2022-02-10T02:57:10.804Z"
   },
   {
    "duration": 662,
    "start_time": "2022-02-10T02:57:39.711Z"
   },
   {
    "duration": 621,
    "start_time": "2022-02-10T02:58:46.498Z"
   },
   {
    "duration": 661,
    "start_time": "2022-02-10T02:59:03.621Z"
   },
   {
    "duration": 312,
    "start_time": "2022-02-10T03:01:55.960Z"
   },
   {
    "duration": 334,
    "start_time": "2022-02-10T03:02:25.747Z"
   },
   {
    "duration": 377,
    "start_time": "2022-02-10T03:02:45.309Z"
   },
   {
    "duration": 362,
    "start_time": "2022-02-10T03:03:02.780Z"
   },
   {
    "duration": 318,
    "start_time": "2022-02-10T03:03:17.299Z"
   },
   {
    "duration": 278,
    "start_time": "2022-02-10T03:03:22.658Z"
   },
   {
    "duration": 255,
    "start_time": "2022-02-10T03:03:26.624Z"
   },
   {
    "duration": 445,
    "start_time": "2022-02-10T03:03:29.034Z"
   },
   {
    "duration": 384,
    "start_time": "2022-02-10T03:04:27.815Z"
   },
   {
    "duration": 391,
    "start_time": "2022-02-10T03:04:39.157Z"
   },
   {
    "duration": 274,
    "start_time": "2022-02-10T03:06:37.896Z"
   },
   {
    "duration": 559,
    "start_time": "2022-02-10T03:07:12.983Z"
   },
   {
    "duration": 510,
    "start_time": "2022-02-10T03:07:32.613Z"
   },
   {
    "duration": 513,
    "start_time": "2022-02-10T03:07:35.769Z"
   },
   {
    "duration": 667,
    "start_time": "2022-02-10T03:07:55.525Z"
   },
   {
    "duration": 1004,
    "start_time": "2022-02-10T03:07:58.733Z"
   },
   {
    "duration": 507,
    "start_time": "2022-02-10T03:08:08.681Z"
   },
   {
    "duration": 670,
    "start_time": "2022-02-10T03:08:14.308Z"
   },
   {
    "duration": 685,
    "start_time": "2022-02-10T03:14:31.252Z"
   },
   {
    "duration": 562,
    "start_time": "2022-02-10T03:14:43.366Z"
   },
   {
    "duration": 525,
    "start_time": "2022-02-10T03:15:08.682Z"
   },
   {
    "duration": 521,
    "start_time": "2022-02-10T03:15:17.679Z"
   },
   {
    "duration": 678,
    "start_time": "2022-02-10T03:18:13.597Z"
   },
   {
    "duration": 543,
    "start_time": "2022-02-10T03:18:23.453Z"
   },
   {
    "duration": 543,
    "start_time": "2022-02-10T03:18:44.391Z"
   },
   {
    "duration": 635,
    "start_time": "2022-02-10T03:18:55.451Z"
   },
   {
    "duration": 633,
    "start_time": "2022-02-10T03:22:00.691Z"
   },
   {
    "duration": 312,
    "start_time": "2022-02-10T03:22:51.237Z"
   },
   {
    "duration": 672,
    "start_time": "2022-02-10T03:22:59.481Z"
   },
   {
    "duration": 278,
    "start_time": "2022-02-10T03:24:31.233Z"
   },
   {
    "duration": 627,
    "start_time": "2022-02-10T03:24:41.291Z"
   },
   {
    "duration": 646,
    "start_time": "2022-02-10T03:25:20.350Z"
   },
   {
    "duration": 306,
    "start_time": "2022-02-10T04:59:37.911Z"
   },
   {
    "duration": 47,
    "start_time": "2022-02-10T05:00:05.890Z"
   },
   {
    "duration": 11,
    "start_time": "2022-02-10T05:00:32.648Z"
   },
   {
    "duration": 46,
    "start_time": "2022-02-10T05:00:40.835Z"
   },
   {
    "duration": 44,
    "start_time": "2022-02-10T05:00:52.277Z"
   },
   {
    "duration": 254,
    "start_time": "2022-02-10T05:01:05.333Z"
   },
   {
    "duration": 52,
    "start_time": "2022-02-10T05:01:12.860Z"
   },
   {
    "duration": 46,
    "start_time": "2022-02-10T05:01:31.955Z"
   },
   {
    "duration": 19,
    "start_time": "2022-02-10T05:01:46.717Z"
   },
   {
    "duration": 263,
    "start_time": "2022-02-10T05:03:02.614Z"
   },
   {
    "duration": 9,
    "start_time": "2022-02-10T05:03:25.065Z"
   },
   {
    "duration": 14,
    "start_time": "2022-02-10T05:03:36.342Z"
   },
   {
    "duration": 51,
    "start_time": "2022-02-10T05:03:41.330Z"
   },
   {
    "duration": 45,
    "start_time": "2022-02-10T05:04:02.873Z"
   },
   {
    "duration": 9,
    "start_time": "2022-02-10T05:04:13.740Z"
   },
   {
    "duration": 8,
    "start_time": "2022-02-10T05:04:16.558Z"
   },
   {
    "duration": 46,
    "start_time": "2022-02-10T05:04:19.599Z"
   },
   {
    "duration": 17,
    "start_time": "2022-02-10T05:04:44.256Z"
   },
   {
    "duration": 16,
    "start_time": "2022-02-10T05:05:15.525Z"
   },
   {
    "duration": 17,
    "start_time": "2022-02-10T05:05:18.195Z"
   },
   {
    "duration": 26,
    "start_time": "2022-02-10T05:07:32.050Z"
   },
   {
    "duration": 492,
    "start_time": "2022-02-10T05:07:54.533Z"
   },
   {
    "duration": 24,
    "start_time": "2022-02-10T05:08:21.925Z"
   },
   {
    "duration": 26,
    "start_time": "2022-02-10T05:08:45.074Z"
   },
   {
    "duration": 20,
    "start_time": "2022-02-10T05:11:22.414Z"
   },
   {
    "duration": 120,
    "start_time": "2022-02-10T05:14:14.494Z"
   },
   {
    "duration": 28,
    "start_time": "2022-02-10T05:14:14.617Z"
   },
   {
    "duration": 45,
    "start_time": "2022-02-10T05:14:14.648Z"
   },
   {
    "duration": 23,
    "start_time": "2022-02-10T05:14:14.696Z"
   },
   {
    "duration": 60,
    "start_time": "2022-02-10T05:14:14.722Z"
   },
   {
    "duration": 20,
    "start_time": "2022-02-10T05:14:14.785Z"
   },
   {
    "duration": 28,
    "start_time": "2022-02-10T05:14:14.807Z"
   },
   {
    "duration": 55,
    "start_time": "2022-02-10T05:14:14.839Z"
   },
   {
    "duration": 16,
    "start_time": "2022-02-10T05:14:14.897Z"
   },
   {
    "duration": 11,
    "start_time": "2022-02-10T05:14:14.915Z"
   },
   {
    "duration": 48,
    "start_time": "2022-02-10T05:14:14.928Z"
   },
   {
    "duration": 6,
    "start_time": "2022-02-10T05:14:14.979Z"
   },
   {
    "duration": 15,
    "start_time": "2022-02-10T05:14:14.987Z"
   },
   {
    "duration": 25,
    "start_time": "2022-02-10T05:14:15.004Z"
   },
   {
    "duration": 15,
    "start_time": "2022-02-10T05:14:15.032Z"
   },
   {
    "duration": 7,
    "start_time": "2022-02-10T05:14:15.071Z"
   },
   {
    "duration": 21,
    "start_time": "2022-02-10T05:14:15.080Z"
   },
   {
    "duration": 323,
    "start_time": "2022-02-10T05:14:15.103Z"
   },
   {
    "duration": 11,
    "start_time": "2022-02-10T05:14:15.428Z"
   },
   {
    "duration": 31,
    "start_time": "2022-02-10T05:14:15.441Z"
   },
   {
    "duration": 1956,
    "start_time": "2022-02-10T05:14:15.474Z"
   },
   {
    "duration": 13,
    "start_time": "2022-02-10T05:14:17.433Z"
   },
   {
    "duration": 44,
    "start_time": "2022-02-10T05:14:17.451Z"
   },
   {
    "duration": 276,
    "start_time": "2022-02-10T05:14:17.499Z"
   },
   {
    "duration": 312,
    "start_time": "2022-02-10T05:14:17.777Z"
   },
   {
    "duration": 25,
    "start_time": "2022-02-10T05:14:18.091Z"
   },
   {
    "duration": 276,
    "start_time": "2022-02-10T05:14:18.119Z"
   },
   {
    "duration": 25,
    "start_time": "2022-02-10T05:14:18.398Z"
   },
   {
    "duration": 446,
    "start_time": "2022-02-10T05:14:18.426Z"
   },
   {
    "duration": 422,
    "start_time": "2022-02-10T05:14:18.874Z"
   },
   {
    "duration": 7,
    "start_time": "2022-02-10T05:14:19.298Z"
   },
   {
    "duration": 465,
    "start_time": "2022-02-10T05:14:19.308Z"
   },
   {
    "duration": 8,
    "start_time": "2022-02-10T05:14:19.775Z"
   },
   {
    "duration": 1397,
    "start_time": "2022-02-10T05:14:19.786Z"
   },
   {
    "duration": 272,
    "start_time": "2022-02-10T05:14:21.185Z"
   },
   {
    "duration": 10,
    "start_time": "2022-02-10T05:14:21.459Z"
   },
   {
    "duration": 637,
    "start_time": "2022-02-10T05:14:21.471Z"
   },
   {
    "duration": 678,
    "start_time": "2022-02-10T05:14:22.111Z"
   },
   {
    "duration": 302,
    "start_time": "2022-02-10T05:14:22.791Z"
   },
   {
    "duration": 279,
    "start_time": "2022-02-10T05:14:23.096Z"
   },
   {
    "duration": 668,
    "start_time": "2022-02-10T05:14:23.377Z"
   },
   {
    "duration": 657,
    "start_time": "2022-02-10T05:14:24.047Z"
   },
   {
    "duration": 297,
    "start_time": "2022-02-10T05:14:24.707Z"
   },
   {
    "duration": 262,
    "start_time": "2022-02-10T05:14:25.007Z"
   },
   {
    "duration": 645,
    "start_time": "2022-02-10T05:14:25.271Z"
   },
   {
    "duration": 767,
    "start_time": "2022-02-10T05:14:25.918Z"
   },
   {
    "duration": 392,
    "start_time": "2022-02-10T05:14:26.687Z"
   },
   {
    "duration": 24,
    "start_time": "2022-02-10T05:14:27.081Z"
   },
   {
    "duration": 19,
    "start_time": "2022-02-10T05:14:27.108Z"
   },
   {
    "duration": 302,
    "start_time": "2022-02-10T05:38:42.091Z"
   },
   {
    "duration": 536,
    "start_time": "2022-02-10T05:38:47.018Z"
   },
   {
    "duration": 294,
    "start_time": "2022-02-10T05:38:49.917Z"
   },
   {
    "duration": 231,
    "start_time": "2022-02-10T05:39:00.263Z"
   },
   {
    "duration": 234,
    "start_time": "2022-02-10T05:40:08.492Z"
   },
   {
    "duration": 450,
    "start_time": "2022-02-10T05:40:39.872Z"
   },
   {
    "duration": 420,
    "start_time": "2022-02-10T05:40:43.604Z"
   },
   {
    "duration": 420,
    "start_time": "2022-02-10T05:41:13.024Z"
   },
   {
    "duration": 782,
    "start_time": "2022-02-10T05:41:44.225Z"
   },
   {
    "duration": 421,
    "start_time": "2022-02-10T05:41:57.312Z"
   },
   {
    "duration": 440,
    "start_time": "2022-02-10T05:42:58.460Z"
   },
   {
    "duration": 620,
    "start_time": "2022-02-10T05:43:02.038Z"
   },
   {
    "duration": 973,
    "start_time": "2022-02-10T05:45:20.117Z"
   },
   {
    "duration": 655,
    "start_time": "2022-02-10T05:47:18.206Z"
   },
   {
    "duration": 689,
    "start_time": "2022-02-10T05:47:40.289Z"
   },
   {
    "duration": 662,
    "start_time": "2022-02-10T05:47:54.381Z"
   },
   {
    "duration": 769,
    "start_time": "2022-02-10T06:25:05.325Z"
   },
   {
    "duration": 922,
    "start_time": "2022-02-10T06:25:09.530Z"
   },
   {
    "duration": 693,
    "start_time": "2022-02-10T06:25:16.380Z"
   },
   {
    "duration": 300,
    "start_time": "2022-02-10T06:29:10.130Z"
   },
   {
    "duration": 293,
    "start_time": "2022-02-10T06:29:33.952Z"
   },
   {
    "duration": 1020,
    "start_time": "2022-02-10T06:32:20.930Z"
   },
   {
    "duration": 671,
    "start_time": "2022-02-10T06:32:34.604Z"
   },
   {
    "duration": 867,
    "start_time": "2022-02-10T06:36:01.485Z"
   },
   {
    "duration": 695,
    "start_time": "2022-02-10T06:37:09.553Z"
   },
   {
    "duration": 1848,
    "start_time": "2022-02-10T06:37:54.266Z"
   },
   {
    "duration": 687,
    "start_time": "2022-02-10T06:38:18.235Z"
   },
   {
    "duration": 743,
    "start_time": "2022-02-10T06:38:32.773Z"
   },
   {
    "duration": 685,
    "start_time": "2022-02-10T06:38:46.523Z"
   },
   {
    "duration": 433,
    "start_time": "2022-02-10T07:49:19.326Z"
   },
   {
    "duration": 454,
    "start_time": "2022-02-10T07:49:32.657Z"
   },
   {
    "duration": 352,
    "start_time": "2022-02-11T08:08:35.055Z"
   },
   {
    "duration": 1142,
    "start_time": "2022-02-11T08:08:38.264Z"
   },
   {
    "duration": 20,
    "start_time": "2022-02-11T08:08:39.408Z"
   },
   {
    "duration": 24,
    "start_time": "2022-02-11T08:08:39.430Z"
   },
   {
    "duration": 21,
    "start_time": "2022-02-11T08:08:39.456Z"
   },
   {
    "duration": 14,
    "start_time": "2022-02-11T08:08:39.479Z"
   },
   {
    "duration": 11,
    "start_time": "2022-02-11T08:08:39.494Z"
   },
   {
    "duration": 17,
    "start_time": "2022-02-11T08:08:39.506Z"
   },
   {
    "duration": 14,
    "start_time": "2022-02-11T08:08:39.525Z"
   },
   {
    "duration": 39,
    "start_time": "2022-02-11T08:08:39.541Z"
   },
   {
    "duration": 6,
    "start_time": "2022-02-11T08:08:39.581Z"
   },
   {
    "duration": 7,
    "start_time": "2022-02-11T08:08:39.589Z"
   },
   {
    "duration": 3,
    "start_time": "2022-02-11T08:08:39.597Z"
   },
   {
    "duration": 5,
    "start_time": "2022-02-11T08:08:39.602Z"
   },
   {
    "duration": 9,
    "start_time": "2022-02-11T08:08:39.609Z"
   },
   {
    "duration": 6,
    "start_time": "2022-02-11T08:08:39.619Z"
   },
   {
    "duration": 8,
    "start_time": "2022-02-11T08:08:39.626Z"
   },
   {
    "duration": 40,
    "start_time": "2022-02-11T08:08:39.635Z"
   },
   {
    "duration": 189,
    "start_time": "2022-02-11T08:08:39.677Z"
   },
   {
    "duration": 7,
    "start_time": "2022-02-11T08:08:39.871Z"
   },
   {
    "duration": 7,
    "start_time": "2022-02-11T08:08:39.880Z"
   },
   {
    "duration": 942,
    "start_time": "2022-02-11T08:08:39.889Z"
   },
   {
    "duration": 8,
    "start_time": "2022-02-11T08:08:40.832Z"
   },
   {
    "duration": 82,
    "start_time": "2022-02-11T08:08:40.844Z"
   },
   {
    "duration": 145,
    "start_time": "2022-02-11T08:08:40.928Z"
   },
   {
    "duration": 166,
    "start_time": "2022-02-11T08:08:41.075Z"
   },
   {
    "duration": 15,
    "start_time": "2022-02-11T08:08:41.242Z"
   },
   {
    "duration": 141,
    "start_time": "2022-02-11T08:08:41.258Z"
   },
   {
    "duration": 13,
    "start_time": "2022-02-11T08:08:41.401Z"
   },
   {
    "duration": 229,
    "start_time": "2022-02-11T08:08:41.416Z"
   },
   {
    "duration": 326,
    "start_time": "2022-02-11T08:08:41.647Z"
   },
   {
    "duration": 4,
    "start_time": "2022-02-11T08:08:41.975Z"
   },
   {
    "duration": 304,
    "start_time": "2022-02-11T08:08:41.981Z"
   },
   {
    "duration": 5,
    "start_time": "2022-02-11T08:08:42.287Z"
   },
   {
    "duration": 516,
    "start_time": "2022-02-11T08:08:42.294Z"
   },
   {
    "duration": 148,
    "start_time": "2022-02-11T08:08:42.812Z"
   },
   {
    "duration": 2,
    "start_time": "2022-02-11T08:08:42.962Z"
   },
   {
    "duration": 345,
    "start_time": "2022-02-11T08:08:42.965Z"
   },
   {
    "duration": 421,
    "start_time": "2022-02-11T08:08:43.311Z"
   },
   {
    "duration": 156,
    "start_time": "2022-02-11T08:08:43.734Z"
   },
   {
    "duration": 149,
    "start_time": "2022-02-11T08:08:43.891Z"
   },
   {
    "duration": 365,
    "start_time": "2022-02-11T08:08:44.041Z"
   },
   {
    "duration": 332,
    "start_time": "2022-02-11T08:08:44.407Z"
   },
   {
    "duration": 167,
    "start_time": "2022-02-11T08:08:44.740Z"
   },
   {
    "duration": 141,
    "start_time": "2022-02-11T08:08:44.909Z"
   },
   {
    "duration": 352,
    "start_time": "2022-02-11T08:08:45.051Z"
   },
   {
    "duration": 430,
    "start_time": "2022-02-11T08:08:45.405Z"
   },
   {
    "duration": 159,
    "start_time": "2022-02-11T08:08:45.836Z"
   },
   {
    "duration": 17,
    "start_time": "2022-02-11T08:08:45.996Z"
   },
   {
    "duration": 11,
    "start_time": "2022-02-11T08:08:46.015Z"
   },
   {
    "duration": 141,
    "start_time": "2022-02-11T08:09:02.085Z"
   },
   {
    "duration": 333,
    "start_time": "2022-02-11T08:09:10.441Z"
   },
   {
    "duration": 128,
    "start_time": "2022-02-11T08:09:19.904Z"
   },
   {
    "duration": 325,
    "start_time": "2022-02-11T08:09:23.871Z"
   },
   {
    "duration": 146,
    "start_time": "2022-02-11T08:09:31.762Z"
   },
   {
    "duration": 13,
    "start_time": "2022-02-12T01:19:36.430Z"
   },
   {
    "duration": 10,
    "start_time": "2022-02-12T01:19:47.316Z"
   },
   {
    "duration": 7,
    "start_time": "2022-02-12T01:19:51.976Z"
   },
   {
    "duration": 10,
    "start_time": "2022-02-12T01:19:56.744Z"
   },
   {
    "duration": 7,
    "start_time": "2022-02-12T01:20:00.874Z"
   },
   {
    "duration": 10,
    "start_time": "2022-02-12T01:20:13.643Z"
   },
   {
    "duration": 226,
    "start_time": "2022-02-12T01:36:53.299Z"
   },
   {
    "duration": 336,
    "start_time": "2022-02-12T01:42:44.471Z"
   },
   {
    "duration": 819,
    "start_time": "2022-02-12T01:42:51.997Z"
   },
   {
    "duration": 1107,
    "start_time": "2022-02-12T01:43:03.290Z"
   },
   {
    "duration": 20,
    "start_time": "2022-02-12T01:43:04.398Z"
   },
   {
    "duration": 25,
    "start_time": "2022-02-12T01:43:04.420Z"
   },
   {
    "duration": 29,
    "start_time": "2022-02-12T01:43:04.446Z"
   },
   {
    "duration": 11,
    "start_time": "2022-02-12T01:43:04.476Z"
   },
   {
    "duration": 10,
    "start_time": "2022-02-12T01:43:04.489Z"
   },
   {
    "duration": 14,
    "start_time": "2022-02-12T01:43:04.501Z"
   },
   {
    "duration": 14,
    "start_time": "2022-02-12T01:43:04.517Z"
   },
   {
    "duration": 10,
    "start_time": "2022-02-12T01:43:04.533Z"
   },
   {
    "duration": 32,
    "start_time": "2022-02-12T01:43:04.545Z"
   },
   {
    "duration": 7,
    "start_time": "2022-02-12T01:43:04.578Z"
   },
   {
    "duration": 3,
    "start_time": "2022-02-12T01:43:04.587Z"
   },
   {
    "duration": 5,
    "start_time": "2022-02-12T01:43:04.591Z"
   },
   {
    "duration": 13,
    "start_time": "2022-02-12T01:43:04.597Z"
   },
   {
    "duration": 5,
    "start_time": "2022-02-12T01:43:04.611Z"
   },
   {
    "duration": 8,
    "start_time": "2022-02-12T01:43:04.618Z"
   },
   {
    "duration": 14,
    "start_time": "2022-02-12T01:43:04.627Z"
   },
   {
    "duration": 204,
    "start_time": "2022-02-12T01:43:04.643Z"
   },
   {
    "duration": 7,
    "start_time": "2022-02-12T01:43:04.848Z"
   },
   {
    "duration": 19,
    "start_time": "2022-02-12T01:43:04.857Z"
   },
   {
    "duration": 854,
    "start_time": "2022-02-12T01:43:04.878Z"
   },
   {
    "duration": 9,
    "start_time": "2022-02-12T01:43:05.733Z"
   },
   {
    "duration": 90,
    "start_time": "2022-02-12T01:43:05.743Z"
   },
   {
    "duration": 149,
    "start_time": "2022-02-12T01:43:05.835Z"
   },
   {
    "duration": 171,
    "start_time": "2022-02-12T01:43:05.985Z"
   },
   {
    "duration": 21,
    "start_time": "2022-02-12T01:43:06.158Z"
   },
   {
    "duration": 139,
    "start_time": "2022-02-12T01:43:06.183Z"
   },
   {
    "duration": 15,
    "start_time": "2022-02-12T01:43:06.325Z"
   },
   {
    "duration": 244,
    "start_time": "2022-02-12T01:43:06.342Z"
   },
   {
    "duration": 296,
    "start_time": "2022-02-12T01:43:06.588Z"
   },
   {
    "duration": 4,
    "start_time": "2022-02-12T01:43:06.886Z"
   },
   {
    "duration": 304,
    "start_time": "2022-02-12T01:43:06.891Z"
   },
   {
    "duration": 6,
    "start_time": "2022-02-12T01:43:07.197Z"
   },
   {
    "duration": 537,
    "start_time": "2022-02-12T01:43:07.204Z"
   },
   {
    "duration": 149,
    "start_time": "2022-02-12T01:43:07.742Z"
   },
   {
    "duration": 2,
    "start_time": "2022-02-12T01:43:07.893Z"
   },
   {
    "duration": 335,
    "start_time": "2022-02-12T01:43:07.896Z"
   },
   {
    "duration": 445,
    "start_time": "2022-02-12T01:43:08.233Z"
   },
   {
    "duration": 158,
    "start_time": "2022-02-12T01:43:08.680Z"
   },
   {
    "duration": 150,
    "start_time": "2022-02-12T01:43:08.840Z"
   },
   {
    "duration": 341,
    "start_time": "2022-02-12T01:43:08.991Z"
   },
   {
    "duration": 349,
    "start_time": "2022-02-12T01:43:09.333Z"
   },
   {
    "duration": 158,
    "start_time": "2022-02-12T01:43:09.684Z"
   },
   {
    "duration": 133,
    "start_time": "2022-02-12T01:43:09.843Z"
   },
   {
    "duration": 328,
    "start_time": "2022-02-12T01:43:09.978Z"
   },
   {
    "duration": 402,
    "start_time": "2022-02-12T01:43:10.308Z"
   },
   {
    "duration": 137,
    "start_time": "2022-02-12T01:43:10.712Z"
   },
   {
    "duration": 26,
    "start_time": "2022-02-12T01:43:10.851Z"
   },
   {
    "duration": 14,
    "start_time": "2022-02-12T01:43:10.879Z"
   },
   {
    "duration": 7,
    "start_time": "2022-02-12T01:47:25.019Z"
   },
   {
    "duration": 140,
    "start_time": "2022-02-12T01:52:39.748Z"
   },
   {
    "duration": 352,
    "start_time": "2022-02-12T01:53:24.043Z"
   },
   {
    "duration": 148,
    "start_time": "2022-02-12T01:53:33.734Z"
   },
   {
    "duration": 301,
    "start_time": "2022-02-12T01:53:43.432Z"
   },
   {
    "duration": 510,
    "start_time": "2022-02-12T01:53:54.225Z"
   },
   {
    "duration": 129,
    "start_time": "2022-02-12T01:54:18.762Z"
   },
   {
    "duration": 140,
    "start_time": "2022-02-12T01:54:48.174Z"
   },
   {
    "duration": 401,
    "start_time": "2022-02-12T01:54:59.211Z"
   },
   {
    "duration": 332,
    "start_time": "2022-02-12T01:55:42.290Z"
   },
   {
    "duration": 359,
    "start_time": "2022-02-12T01:56:15.972Z"
   },
   {
    "duration": 365,
    "start_time": "2022-02-12T01:56:40.768Z"
   },
   {
    "duration": 378,
    "start_time": "2022-02-12T01:57:04.613Z"
   },
   {
    "duration": 525,
    "start_time": "2022-02-12T01:57:30.346Z"
   },
   {
    "duration": 154,
    "start_time": "2022-02-12T01:57:36.272Z"
   },
   {
    "duration": 129,
    "start_time": "2022-02-12T01:57:43.353Z"
   },
   {
    "duration": 344,
    "start_time": "2022-02-12T01:58:05.921Z"
   },
   {
    "duration": 136,
    "start_time": "2022-02-12T01:58:25.827Z"
   },
   {
    "duration": 348,
    "start_time": "2022-02-12T01:58:51.692Z"
   },
   {
    "duration": 366,
    "start_time": "2022-02-12T01:59:08.906Z"
   },
   {
    "duration": 415,
    "start_time": "2022-02-12T02:00:14.342Z"
   },
   {
    "duration": 356,
    "start_time": "2022-02-12T02:02:11.824Z"
   },
   {
    "duration": 349,
    "start_time": "2022-02-12T02:02:33.255Z"
   },
   {
    "duration": 141,
    "start_time": "2022-02-12T02:03:10.531Z"
   },
   {
    "duration": 135,
    "start_time": "2022-02-12T02:03:36.349Z"
   },
   {
    "duration": 351,
    "start_time": "2022-02-12T02:04:07.587Z"
   },
   {
    "duration": 342,
    "start_time": "2022-02-12T02:04:15.108Z"
   },
   {
    "duration": 204,
    "start_time": "2022-02-12T02:04:33.708Z"
   },
   {
    "duration": 152,
    "start_time": "2022-02-12T02:04:51.429Z"
   },
   {
    "duration": 153,
    "start_time": "2022-02-12T02:04:56.910Z"
   },
   {
    "duration": 136,
    "start_time": "2022-02-12T02:05:32.832Z"
   },
   {
    "duration": 323,
    "start_time": "2022-02-12T02:06:20.260Z"
   },
   {
    "duration": 362,
    "start_time": "2022-02-12T02:06:44.374Z"
   },
   {
    "duration": 355,
    "start_time": "2022-02-12T02:08:01.079Z"
   },
   {
    "duration": 424,
    "start_time": "2022-02-12T02:08:07.600Z"
   },
   {
    "duration": 350,
    "start_time": "2022-02-12T02:08:20.228Z"
   },
   {
    "duration": 326,
    "start_time": "2022-02-12T02:08:51.303Z"
   },
   {
    "duration": 363,
    "start_time": "2022-02-12T02:09:05.159Z"
   },
   {
    "duration": 161,
    "start_time": "2022-02-12T02:10:18.292Z"
   },
   {
    "duration": 161,
    "start_time": "2022-02-12T02:10:23.454Z"
   },
   {
    "duration": 160,
    "start_time": "2022-02-12T02:10:46.377Z"
   },
   {
    "duration": 154,
    "start_time": "2022-02-12T02:10:52.321Z"
   },
   {
    "duration": 212,
    "start_time": "2022-02-12T02:11:05.764Z"
   },
   {
    "duration": 359,
    "start_time": "2022-02-12T02:11:38.556Z"
   },
   {
    "duration": 149,
    "start_time": "2022-02-12T02:11:55.625Z"
   },
   {
    "duration": 351,
    "start_time": "2022-02-12T02:12:09.004Z"
   },
   {
    "duration": 356,
    "start_time": "2022-02-12T02:12:23.622Z"
   },
   {
    "duration": 302,
    "start_time": "2022-02-12T02:17:39.558Z"
   },
   {
    "duration": 276,
    "start_time": "2022-02-12T02:17:48.978Z"
   },
   {
    "duration": 5,
    "start_time": "2022-02-12T02:18:59.321Z"
   },
   {
    "duration": 5,
    "start_time": "2022-02-12T02:19:12.959Z"
   },
   {
    "duration": 310,
    "start_time": "2022-02-12T02:35:17.524Z"
   },
   {
    "duration": 491,
    "start_time": "2022-02-12T02:35:31.858Z"
   },
   {
    "duration": 312,
    "start_time": "2022-02-12T02:35:45.983Z"
   },
   {
    "duration": 305,
    "start_time": "2022-02-12T02:35:54.358Z"
   },
   {
    "duration": 304,
    "start_time": "2022-02-12T02:36:01.876Z"
   },
   {
    "duration": 298,
    "start_time": "2022-02-12T02:36:24.260Z"
   },
   {
    "duration": 679,
    "start_time": "2022-02-12T02:38:31.382Z"
   },
   {
    "duration": 389,
    "start_time": "2022-02-12T02:38:36.847Z"
   },
   {
    "duration": 295,
    "start_time": "2022-02-12T02:40:18.795Z"
   },
   {
    "duration": 140,
    "start_time": "2022-02-12T02:49:09.851Z"
   },
   {
    "duration": 335,
    "start_time": "2022-02-12T02:54:00.169Z"
   },
   {
    "duration": 366,
    "start_time": "2022-02-12T02:54:08.334Z"
   },
   {
    "duration": 295,
    "start_time": "2022-02-12T02:54:13.379Z"
   },
   {
    "duration": 142,
    "start_time": "2022-02-12T02:54:20.688Z"
   },
   {
    "duration": 410,
    "start_time": "2022-02-12T02:54:27.703Z"
   },
   {
    "duration": 348,
    "start_time": "2022-02-12T02:54:33.846Z"
   },
   {
    "duration": 302,
    "start_time": "2022-02-12T02:54:41.495Z"
   },
   {
    "duration": 138,
    "start_time": "2022-02-12T02:54:48.636Z"
   },
   {
    "duration": 339,
    "start_time": "2022-02-12T02:54:52.404Z"
   },
   {
    "duration": 382,
    "start_time": "2022-02-12T02:55:04.869Z"
   },
   {
    "duration": 382,
    "start_time": "2022-02-12T02:55:22.208Z"
   },
   {
    "duration": 7,
    "start_time": "2022-02-12T02:59:28.213Z"
   },
   {
    "duration": 6,
    "start_time": "2022-02-12T02:59:56.372Z"
   },
   {
    "duration": 322,
    "start_time": "2022-02-12T03:00:28.744Z"
   },
   {
    "duration": 244,
    "start_time": "2022-02-12T03:21:52.128Z"
   },
   {
    "duration": 250,
    "start_time": "2022-02-12T03:22:12.661Z"
   },
   {
    "duration": 241,
    "start_time": "2022-02-12T03:22:20.192Z"
   },
   {
    "duration": 247,
    "start_time": "2022-02-12T03:22:24.120Z"
   },
   {
    "duration": 243,
    "start_time": "2022-02-12T03:22:31.894Z"
   },
   {
    "duration": 248,
    "start_time": "2022-02-12T03:22:36.994Z"
   },
   {
    "duration": 245,
    "start_time": "2022-02-12T03:22:56.728Z"
   },
   {
    "duration": 253,
    "start_time": "2022-02-12T03:23:04.611Z"
   },
   {
    "duration": 246,
    "start_time": "2022-02-12T03:23:14.507Z"
   },
   {
    "duration": 16,
    "start_time": "2022-02-12T03:24:16.353Z"
   },
   {
    "duration": 15,
    "start_time": "2022-02-12T03:24:18.459Z"
   },
   {
    "duration": 130,
    "start_time": "2022-02-12T03:33:43.253Z"
   },
   {
    "duration": 315,
    "start_time": "2022-02-12T03:51:36.721Z"
   },
   {
    "duration": 15,
    "start_time": "2022-02-12T03:51:40.851Z"
   },
   {
    "duration": 1146,
    "start_time": "2022-02-12T03:53:11.155Z"
   },
   {
    "duration": 19,
    "start_time": "2022-02-12T03:53:12.303Z"
   },
   {
    "duration": 26,
    "start_time": "2022-02-12T03:53:12.324Z"
   },
   {
    "duration": 23,
    "start_time": "2022-02-12T03:53:12.352Z"
   },
   {
    "duration": 16,
    "start_time": "2022-02-12T03:53:12.376Z"
   },
   {
    "duration": 11,
    "start_time": "2022-02-12T03:53:12.394Z"
   },
   {
    "duration": 32,
    "start_time": "2022-02-12T03:53:12.406Z"
   },
   {
    "duration": 25,
    "start_time": "2022-02-12T03:53:12.440Z"
   },
   {
    "duration": 9,
    "start_time": "2022-02-12T03:53:12.466Z"
   },
   {
    "duration": 22,
    "start_time": "2022-02-12T03:53:12.476Z"
   },
   {
    "duration": 14,
    "start_time": "2022-02-12T03:53:12.499Z"
   },
   {
    "duration": 14,
    "start_time": "2022-02-12T03:53:12.514Z"
   },
   {
    "duration": 24,
    "start_time": "2022-02-12T03:53:12.530Z"
   },
   {
    "duration": 19,
    "start_time": "2022-02-12T03:53:12.555Z"
   },
   {
    "duration": 6,
    "start_time": "2022-02-12T03:53:12.576Z"
   },
   {
    "duration": 8,
    "start_time": "2022-02-12T03:53:12.584Z"
   },
   {
    "duration": 21,
    "start_time": "2022-02-12T03:53:12.593Z"
   },
   {
    "duration": 170,
    "start_time": "2022-02-12T03:53:12.616Z"
   },
   {
    "duration": 6,
    "start_time": "2022-02-12T03:53:12.788Z"
   },
   {
    "duration": 20,
    "start_time": "2022-02-12T03:53:12.796Z"
   },
   {
    "duration": 829,
    "start_time": "2022-02-12T03:53:12.817Z"
   },
   {
    "duration": 8,
    "start_time": "2022-02-12T03:53:13.648Z"
   },
   {
    "duration": 84,
    "start_time": "2022-02-12T03:53:13.672Z"
   },
   {
    "duration": 137,
    "start_time": "2022-02-12T03:53:13.758Z"
   },
   {
    "duration": 164,
    "start_time": "2022-02-12T03:53:13.897Z"
   },
   {
    "duration": 14,
    "start_time": "2022-02-12T03:53:14.062Z"
   },
   {
    "duration": 138,
    "start_time": "2022-02-12T03:53:14.078Z"
   },
   {
    "duration": 14,
    "start_time": "2022-02-12T03:53:14.217Z"
   },
   {
    "duration": 237,
    "start_time": "2022-02-12T03:53:14.233Z"
   },
   {
    "duration": 311,
    "start_time": "2022-02-12T03:53:14.472Z"
   },
   {
    "duration": 4,
    "start_time": "2022-02-12T03:53:14.785Z"
   },
   {
    "duration": 300,
    "start_time": "2022-02-12T03:53:14.791Z"
   },
   {
    "duration": 4,
    "start_time": "2022-02-12T03:53:15.093Z"
   },
   {
    "duration": 518,
    "start_time": "2022-02-12T03:53:15.098Z"
   },
   {
    "duration": 138,
    "start_time": "2022-02-12T03:53:15.618Z"
   },
   {
    "duration": 3,
    "start_time": "2022-02-12T03:53:15.757Z"
   },
   {
    "duration": 350,
    "start_time": "2022-02-12T03:53:15.761Z"
   },
   {
    "duration": 445,
    "start_time": "2022-02-12T03:53:16.113Z"
   },
   {
    "duration": 306,
    "start_time": "2022-02-12T03:53:16.560Z"
   },
   {
    "duration": 156,
    "start_time": "2022-02-12T03:53:16.871Z"
   },
   {
    "duration": 340,
    "start_time": "2022-02-12T03:53:17.028Z"
   },
   {
    "duration": 355,
    "start_time": "2022-02-12T03:53:17.371Z"
   },
   {
    "duration": 306,
    "start_time": "2022-02-12T03:53:17.728Z"
   },
   {
    "duration": 140,
    "start_time": "2022-02-12T03:53:18.036Z"
   },
   {
    "duration": 406,
    "start_time": "2022-02-12T03:53:18.178Z"
   },
   {
    "duration": 368,
    "start_time": "2022-02-12T03:53:18.586Z"
   },
   {
    "duration": 303,
    "start_time": "2022-02-12T03:53:18.956Z"
   },
   {
    "duration": 25,
    "start_time": "2022-02-12T03:53:19.261Z"
   },
   {
    "duration": 13,
    "start_time": "2022-02-12T03:53:19.288Z"
   },
   {
    "duration": 1094,
    "start_time": "2022-02-12T07:35:23.639Z"
   },
   {
    "duration": 1830,
    "start_time": "2022-02-12T07:35:32.428Z"
   },
   {
    "duration": 44,
    "start_time": "2022-02-12T07:35:34.262Z"
   },
   {
    "duration": 55,
    "start_time": "2022-02-12T07:35:34.325Z"
   },
   {
    "duration": 46,
    "start_time": "2022-02-12T07:35:34.383Z"
   },
   {
    "duration": 22,
    "start_time": "2022-02-12T07:35:34.432Z"
   },
   {
    "duration": 18,
    "start_time": "2022-02-12T07:35:34.456Z"
   },
   {
    "duration": 54,
    "start_time": "2022-02-12T07:35:34.477Z"
   },
   {
    "duration": 28,
    "start_time": "2022-02-12T07:35:34.535Z"
   },
   {
    "duration": 17,
    "start_time": "2022-02-12T07:35:34.566Z"
   },
   {
    "duration": 40,
    "start_time": "2022-02-12T07:35:34.585Z"
   },
   {
    "duration": 13,
    "start_time": "2022-02-12T07:35:34.627Z"
   },
   {
    "duration": 7,
    "start_time": "2022-02-12T07:35:34.643Z"
   },
   {
    "duration": 7,
    "start_time": "2022-02-12T07:35:34.653Z"
   },
   {
    "duration": 63,
    "start_time": "2022-02-12T07:35:34.663Z"
   },
   {
    "duration": 9,
    "start_time": "2022-02-12T07:35:34.729Z"
   },
   {
    "duration": 7,
    "start_time": "2022-02-12T07:35:34.740Z"
   },
   {
    "duration": 14,
    "start_time": "2022-02-12T07:35:34.750Z"
   },
   {
    "duration": 343,
    "start_time": "2022-02-12T07:35:34.766Z"
   },
   {
    "duration": 20,
    "start_time": "2022-02-12T07:35:35.111Z"
   },
   {
    "duration": 11,
    "start_time": "2022-02-12T07:35:35.134Z"
   },
   {
    "duration": 1679,
    "start_time": "2022-02-12T07:35:35.147Z"
   },
   {
    "duration": 21,
    "start_time": "2022-02-12T07:35:36.830Z"
   },
   {
    "duration": 167,
    "start_time": "2022-02-12T07:35:36.861Z"
   },
   {
    "duration": 372,
    "start_time": "2022-02-12T07:35:37.033Z"
   },
   {
    "duration": 289,
    "start_time": "2022-02-12T07:35:37.408Z"
   },
   {
    "duration": 31,
    "start_time": "2022-02-12T07:35:37.699Z"
   },
   {
    "duration": 245,
    "start_time": "2022-02-12T07:35:37.732Z"
   },
   {
    "duration": 23,
    "start_time": "2022-02-12T07:35:37.979Z"
   },
   {
    "duration": 412,
    "start_time": "2022-02-12T07:35:38.023Z"
   },
   {
    "duration": 408,
    "start_time": "2022-02-12T07:35:38.438Z"
   },
   {
    "duration": 6,
    "start_time": "2022-02-12T07:35:38.849Z"
   },
   {
    "duration": 466,
    "start_time": "2022-02-12T07:35:38.858Z"
   },
   {
    "duration": 7,
    "start_time": "2022-02-12T07:35:39.326Z"
   },
   {
    "duration": 992,
    "start_time": "2022-02-12T07:35:39.335Z"
   },
   {
    "duration": 261,
    "start_time": "2022-02-12T07:35:40.329Z"
   },
   {
    "duration": 3,
    "start_time": "2022-02-12T07:35:40.592Z"
   },
   {
    "duration": 730,
    "start_time": "2022-02-12T07:35:40.597Z"
   },
   {
    "duration": 753,
    "start_time": "2022-02-12T07:35:41.329Z"
   },
   {
    "duration": 563,
    "start_time": "2022-02-12T07:35:42.084Z"
   },
   {
    "duration": 273,
    "start_time": "2022-02-12T07:35:42.650Z"
   },
   {
    "duration": 873,
    "start_time": "2022-02-12T07:35:42.926Z"
   },
   {
    "duration": 1038,
    "start_time": "2022-02-12T07:35:43.803Z"
   },
   {
    "duration": 963,
    "start_time": "2022-02-12T07:35:44.844Z"
   },
   {
    "duration": 331,
    "start_time": "2022-02-12T07:35:45.811Z"
   },
   {
    "duration": 696,
    "start_time": "2022-02-12T07:35:46.144Z"
   },
   {
    "duration": 701,
    "start_time": "2022-02-12T07:35:46.843Z"
   },
   {
    "duration": 565,
    "start_time": "2022-02-12T07:35:47.546Z"
   },
   {
    "duration": 32,
    "start_time": "2022-02-12T07:35:48.113Z"
   },
   {
    "duration": 20,
    "start_time": "2022-02-12T07:35:48.148Z"
   },
   {
    "duration": 8,
    "start_time": "2022-02-12T07:36:06.134Z"
   },
   {
    "duration": 549,
    "start_time": "2022-02-12T07:36:16.998Z"
   },
   {
    "duration": 11,
    "start_time": "2022-02-12T07:36:22.835Z"
   },
   {
    "duration": 9,
    "start_time": "2022-02-12T07:36:59.548Z"
   },
   {
    "duration": 17,
    "start_time": "2022-02-12T07:37:11.137Z"
   },
   {
    "duration": 447,
    "start_time": "2022-02-12T07:45:48.023Z"
   },
   {
    "duration": 27,
    "start_time": "2022-02-12T07:46:15.111Z"
   },
   {
    "duration": 1306,
    "start_time": "2022-02-12T18:42:06.784Z"
   },
   {
    "duration": 25,
    "start_time": "2022-02-12T18:42:08.093Z"
   },
   {
    "duration": 34,
    "start_time": "2022-02-12T18:42:08.120Z"
   },
   {
    "duration": 19,
    "start_time": "2022-02-12T18:42:08.156Z"
   },
   {
    "duration": 43,
    "start_time": "2022-02-12T18:42:08.177Z"
   },
   {
    "duration": 24,
    "start_time": "2022-02-12T18:42:08.222Z"
   },
   {
    "duration": 37,
    "start_time": "2022-02-12T18:42:08.248Z"
   },
   {
    "duration": 27,
    "start_time": "2022-02-12T18:42:08.289Z"
   },
   {
    "duration": 13,
    "start_time": "2022-02-12T18:42:08.318Z"
   },
   {
    "duration": 9,
    "start_time": "2022-02-12T18:42:08.332Z"
   },
   {
    "duration": 20,
    "start_time": "2022-02-12T18:42:08.343Z"
   },
   {
    "duration": 10,
    "start_time": "2022-02-12T18:42:08.365Z"
   },
   {
    "duration": 37,
    "start_time": "2022-02-12T18:42:08.377Z"
   },
   {
    "duration": 33,
    "start_time": "2022-02-12T18:42:08.416Z"
   },
   {
    "duration": 42,
    "start_time": "2022-02-12T18:42:08.452Z"
   },
   {
    "duration": 18,
    "start_time": "2022-02-12T18:42:08.496Z"
   },
   {
    "duration": 12,
    "start_time": "2022-02-12T18:42:08.516Z"
   },
   {
    "duration": 226,
    "start_time": "2022-02-12T18:42:08.530Z"
   },
   {
    "duration": 8,
    "start_time": "2022-02-12T18:42:08.758Z"
   },
   {
    "duration": 12,
    "start_time": "2022-02-12T18:42:08.767Z"
   },
   {
    "duration": 1106,
    "start_time": "2022-02-12T18:42:08.781Z"
   },
   {
    "duration": 25,
    "start_time": "2022-02-12T18:42:09.890Z"
   },
   {
    "duration": 98,
    "start_time": "2022-02-12T18:42:09.921Z"
   },
   {
    "duration": 186,
    "start_time": "2022-02-12T18:42:10.021Z"
   },
   {
    "duration": 214,
    "start_time": "2022-02-12T18:42:10.209Z"
   },
   {
    "duration": 19,
    "start_time": "2022-02-12T18:42:10.425Z"
   },
   {
    "duration": 188,
    "start_time": "2022-02-12T18:42:10.446Z"
   },
   {
    "duration": 19,
    "start_time": "2022-02-12T18:42:10.636Z"
   },
   {
    "duration": 322,
    "start_time": "2022-02-12T18:42:10.657Z"
   },
   {
    "duration": 364,
    "start_time": "2022-02-12T18:42:10.981Z"
   },
   {
    "duration": 5,
    "start_time": "2022-02-12T18:42:11.347Z"
   },
   {
    "duration": 333,
    "start_time": "2022-02-12T18:42:11.353Z"
   },
   {
    "duration": 5,
    "start_time": "2022-02-12T18:42:11.688Z"
   },
   {
    "duration": 643,
    "start_time": "2022-02-12T18:42:11.694Z"
   },
   {
    "duration": 209,
    "start_time": "2022-02-12T18:42:12.339Z"
   },
   {
    "duration": 3,
    "start_time": "2022-02-12T18:42:12.549Z"
   },
   {
    "duration": 557,
    "start_time": "2022-02-12T18:42:12.553Z"
   },
   {
    "duration": 518,
    "start_time": "2022-02-12T18:42:13.111Z"
   },
   {
    "duration": 391,
    "start_time": "2022-02-12T18:42:13.631Z"
   },
   {
    "duration": 183,
    "start_time": "2022-02-12T18:42:14.024Z"
   },
   {
    "duration": 415,
    "start_time": "2022-02-12T18:42:14.209Z"
   },
   {
    "duration": 443,
    "start_time": "2022-02-12T18:42:14.626Z"
   },
   {
    "duration": 383,
    "start_time": "2022-02-12T18:42:15.070Z"
   },
   {
    "duration": 172,
    "start_time": "2022-02-12T18:42:15.455Z"
   },
   {
    "duration": 484,
    "start_time": "2022-02-12T18:42:15.629Z"
   },
   {
    "duration": 561,
    "start_time": "2022-02-12T18:42:16.115Z"
   },
   {
    "duration": 372,
    "start_time": "2022-02-12T18:42:16.678Z"
   },
   {
    "duration": 19,
    "start_time": "2022-02-12T18:42:17.052Z"
   },
   {
    "duration": 36,
    "start_time": "2022-02-12T18:42:17.073Z"
   },
   {
    "duration": 25,
    "start_time": "2022-02-13T05:34:53.221Z"
   },
   {
    "duration": 24,
    "start_time": "2022-02-13T05:35:11.800Z"
   },
   {
    "duration": 24,
    "start_time": "2022-02-13T05:35:48.044Z"
   },
   {
    "duration": 28,
    "start_time": "2022-02-13T05:36:36.492Z"
   },
   {
    "duration": 23,
    "start_time": "2022-02-13T05:37:16.166Z"
   },
   {
    "duration": 282,
    "start_time": "2022-02-13T05:37:20.714Z"
   },
   {
    "duration": 125,
    "start_time": "2022-02-13T05:37:22.779Z"
   },
   {
    "duration": 250,
    "start_time": "2022-02-13T05:37:34.534Z"
   },
   {
    "duration": 447,
    "start_time": "2022-02-13T05:39:08.523Z"
   },
   {
    "duration": 516,
    "start_time": "2022-02-13T05:39:21.259Z"
   },
   {
    "duration": 455,
    "start_time": "2022-02-13T05:41:28.548Z"
   },
   {
    "duration": 786,
    "start_time": "2022-02-13T05:44:22.243Z"
   },
   {
    "duration": 251,
    "start_time": "2022-02-13T05:46:56.146Z"
   },
   {
    "duration": 616,
    "start_time": "2022-02-13T05:47:30.236Z"
   },
   {
    "duration": 623,
    "start_time": "2022-02-13T05:47:47.234Z"
   },
   {
    "duration": 568,
    "start_time": "2022-02-13T05:48:44.588Z"
   },
   {
    "duration": 337,
    "start_time": "2022-02-13T05:49:09.677Z"
   },
   {
    "duration": 633,
    "start_time": "2022-02-13T05:49:51.072Z"
   },
   {
    "duration": 784,
    "start_time": "2022-02-13T05:50:01.606Z"
   },
   {
    "duration": 571,
    "start_time": "2022-02-13T05:50:44.339Z"
   },
   {
    "duration": 245,
    "start_time": "2022-02-13T05:50:59.227Z"
   },
   {
    "duration": 601,
    "start_time": "2022-02-13T05:51:26.273Z"
   },
   {
    "duration": 774,
    "start_time": "2022-02-13T05:51:39.509Z"
   },
   {
    "duration": 566,
    "start_time": "2022-02-13T05:52:01.639Z"
   },
   {
    "duration": 160,
    "start_time": "2022-02-13T05:54:01.118Z"
   },
   {
    "duration": 145,
    "start_time": "2022-02-13T05:54:26.861Z"
   },
   {
    "duration": 142,
    "start_time": "2022-02-13T05:54:53.671Z"
   },
   {
    "duration": 418,
    "start_time": "2022-02-13T05:56:49.905Z"
   },
   {
    "duration": 133,
    "start_time": "2022-02-13T05:57:03.567Z"
   },
   {
    "duration": 106,
    "start_time": "2022-02-13T05:57:22.238Z"
   },
   {
    "duration": 134,
    "start_time": "2022-02-13T05:57:26.239Z"
   },
   {
    "duration": 132,
    "start_time": "2022-02-13T05:57:34.512Z"
   },
   {
    "duration": 143,
    "start_time": "2022-02-13T06:01:57.816Z"
   },
   {
    "duration": 163,
    "start_time": "2022-02-13T06:02:50.343Z"
   },
   {
    "duration": 152,
    "start_time": "2022-02-13T06:03:13.619Z"
   },
   {
    "duration": 387,
    "start_time": "2022-02-13T06:03:23.131Z"
   },
   {
    "duration": 160,
    "start_time": "2022-02-13T06:03:28.212Z"
   },
   {
    "duration": 263,
    "start_time": "2022-02-13T06:05:15.546Z"
   },
   {
    "duration": 503,
    "start_time": "2022-02-13T06:05:49.646Z"
   },
   {
    "duration": 488,
    "start_time": "2022-02-13T06:05:54.326Z"
   },
   {
    "duration": 170,
    "start_time": "2022-02-13T06:06:01.514Z"
   },
   {
    "duration": 171,
    "start_time": "2022-02-13T06:06:39.077Z"
   },
   {
    "duration": 174,
    "start_time": "2022-02-13T06:06:44.994Z"
   },
   {
    "duration": 171,
    "start_time": "2022-02-13T06:08:02.058Z"
   },
   {
    "duration": 163,
    "start_time": "2022-02-13T06:08:05.673Z"
   },
   {
    "duration": 232,
    "start_time": "2022-02-13T06:08:10.781Z"
   },
   {
    "duration": 155,
    "start_time": "2022-02-13T06:10:09.137Z"
   },
   {
    "duration": 145,
    "start_time": "2022-02-13T06:10:15.765Z"
   },
   {
    "duration": 96,
    "start_time": "2022-02-13T06:10:46.342Z"
   },
   {
    "duration": 165,
    "start_time": "2022-02-13T06:10:52.232Z"
   },
   {
    "duration": 159,
    "start_time": "2022-02-13T06:10:57.130Z"
   },
   {
    "duration": 163,
    "start_time": "2022-02-13T06:11:00.666Z"
   },
   {
    "duration": 7,
    "start_time": "2022-02-13T06:24:30.492Z"
   },
   {
    "duration": 6,
    "start_time": "2022-02-13T06:24:39.850Z"
   },
   {
    "duration": 6,
    "start_time": "2022-02-13T06:24:55.345Z"
   },
   {
    "duration": 330,
    "start_time": "2022-02-13T06:25:36.207Z"
   },
   {
    "duration": 925,
    "start_time": "2022-02-13T06:25:44.512Z"
   },
   {
    "duration": 442,
    "start_time": "2022-02-13T06:26:03.743Z"
   },
   {
    "duration": 432,
    "start_time": "2022-02-13T06:26:13.546Z"
   },
   {
    "duration": 818,
    "start_time": "2022-02-13T06:26:37.354Z"
   },
   {
    "duration": 158,
    "start_time": "2022-02-13T06:27:27.216Z"
   },
   {
    "duration": 151,
    "start_time": "2022-02-13T06:27:34.581Z"
   },
   {
    "duration": 162,
    "start_time": "2022-02-13T06:28:07.225Z"
   },
   {
    "duration": 162,
    "start_time": "2022-02-13T06:28:35.756Z"
   },
   {
    "duration": 155,
    "start_time": "2022-02-13T06:28:47.216Z"
   },
   {
    "duration": 152,
    "start_time": "2022-02-13T06:28:58.835Z"
   },
   {
    "duration": 185,
    "start_time": "2022-02-13T06:29:04.654Z"
   },
   {
    "duration": 157,
    "start_time": "2022-02-13T06:29:10.239Z"
   },
   {
    "duration": 910,
    "start_time": "2022-02-13T06:52:48.816Z"
   },
   {
    "duration": 1158,
    "start_time": "2022-02-13T06:53:07.984Z"
   },
   {
    "duration": 819,
    "start_time": "2022-02-13T06:53:37.784Z"
   },
   {
    "duration": 841,
    "start_time": "2022-02-13T06:53:58.881Z"
   },
   {
    "duration": 640,
    "start_time": "2022-02-13T06:54:44.708Z"
   },
   {
    "duration": 581,
    "start_time": "2022-02-13T06:55:00.849Z"
   },
   {
    "duration": 559,
    "start_time": "2022-02-13T06:55:16.205Z"
   },
   {
    "duration": 754,
    "start_time": "2022-02-13T06:55:23.193Z"
   },
   {
    "duration": 647,
    "start_time": "2022-02-13T06:55:40.393Z"
   },
   {
    "duration": 646,
    "start_time": "2022-02-13T06:55:44.847Z"
   },
   {
    "duration": 14,
    "start_time": "2022-02-13T06:55:56.140Z"
   },
   {
    "duration": 646,
    "start_time": "2022-02-13T06:56:01.140Z"
   },
   {
    "duration": 162,
    "start_time": "2022-02-13T06:56:45.372Z"
   },
   {
    "duration": 156,
    "start_time": "2022-02-13T06:57:10.248Z"
   },
   {
    "duration": 15,
    "start_time": "2022-02-13T06:57:30.712Z"
   },
   {
    "duration": 14,
    "start_time": "2022-02-13T06:57:35.972Z"
   },
   {
    "duration": 14,
    "start_time": "2022-02-13T06:58:04.580Z"
   },
   {
    "duration": 14,
    "start_time": "2022-02-13T06:58:07.678Z"
   },
   {
    "duration": 16,
    "start_time": "2022-02-13T06:58:30.252Z"
   },
   {
    "duration": 16,
    "start_time": "2022-02-13T06:58:41.969Z"
   },
   {
    "duration": 257,
    "start_time": "2022-02-13T06:58:51.565Z"
   },
   {
    "duration": 20,
    "start_time": "2022-02-13T06:58:56.759Z"
   },
   {
    "duration": 17,
    "start_time": "2022-02-13T06:59:15.036Z"
   },
   {
    "duration": 17,
    "start_time": "2022-02-13T06:59:35.094Z"
   },
   {
    "duration": 12,
    "start_time": "2022-02-13T07:00:29.039Z"
   },
   {
    "duration": 259,
    "start_time": "2022-02-13T07:02:32.057Z"
   },
   {
    "duration": 7,
    "start_time": "2022-02-13T07:02:35.419Z"
   },
   {
    "duration": 9,
    "start_time": "2022-02-13T07:04:32.207Z"
   },
   {
    "duration": 18,
    "start_time": "2022-02-13T07:04:54.360Z"
   },
   {
    "duration": 14,
    "start_time": "2022-02-13T07:05:18.015Z"
   },
   {
    "duration": 708,
    "start_time": "2022-02-13T07:12:25.674Z"
   },
   {
    "duration": 727,
    "start_time": "2022-02-13T07:12:35.332Z"
   },
   {
    "duration": 576,
    "start_time": "2022-02-13T07:12:42.578Z"
   },
   {
    "duration": 636,
    "start_time": "2022-02-13T07:12:49.691Z"
   },
   {
    "duration": 634,
    "start_time": "2022-02-13T07:13:10.653Z"
   },
   {
    "duration": 607,
    "start_time": "2022-02-13T07:13:37.720Z"
   },
   {
    "duration": 835,
    "start_time": "2022-02-13T07:13:47.336Z"
   },
   {
    "duration": 665,
    "start_time": "2022-02-13T07:13:53.949Z"
   },
   {
    "duration": 552,
    "start_time": "2022-02-13T07:13:58.669Z"
   },
   {
    "duration": 626,
    "start_time": "2022-02-13T07:14:23.011Z"
   },
   {
    "duration": 744,
    "start_time": "2022-02-13T07:14:42.725Z"
   },
   {
    "duration": 533,
    "start_time": "2022-02-13T07:40:02.814Z"
   },
   {
    "duration": 805,
    "start_time": "2022-02-13T07:40:34.232Z"
   },
   {
    "duration": 19,
    "start_time": "2022-02-13T07:40:51.338Z"
   },
   {
    "duration": 422,
    "start_time": "2022-02-13T07:51:59.271Z"
   },
   {
    "duration": 258,
    "start_time": "2022-02-13T07:53:06.438Z"
   },
   {
    "duration": 306,
    "start_time": "2022-02-13T07:53:50.903Z"
   },
   {
    "duration": 271,
    "start_time": "2022-02-13T07:54:15.147Z"
   },
   {
    "duration": 127,
    "start_time": "2022-02-13T07:54:18.099Z"
   },
   {
    "duration": 134,
    "start_time": "2022-02-13T07:54:26.325Z"
   },
   {
    "duration": 138,
    "start_time": "2022-02-13T07:55:18.775Z"
   },
   {
    "duration": 159,
    "start_time": "2022-02-13T07:55:30.526Z"
   },
   {
    "duration": 148,
    "start_time": "2022-02-13T07:55:40.623Z"
   },
   {
    "duration": 157,
    "start_time": "2022-02-13T07:55:44.559Z"
   },
   {
    "duration": 317,
    "start_time": "2022-02-13T07:57:27.864Z"
   },
   {
    "duration": 144,
    "start_time": "2022-02-13T07:57:31.914Z"
   },
   {
    "duration": 151,
    "start_time": "2022-02-13T07:58:10.267Z"
   },
   {
    "duration": 152,
    "start_time": "2022-02-13T07:58:22.103Z"
   },
   {
    "duration": 144,
    "start_time": "2022-02-13T07:58:32.578Z"
   },
   {
    "duration": 151,
    "start_time": "2022-02-13T07:58:47.546Z"
   },
   {
    "duration": 145,
    "start_time": "2022-02-13T07:58:59.710Z"
   },
   {
    "duration": 203,
    "start_time": "2022-02-13T20:06:08.416Z"
   },
   {
    "duration": 1079,
    "start_time": "2022-02-13T20:06:15.503Z"
   },
   {
    "duration": 21,
    "start_time": "2022-02-13T20:06:16.584Z"
   },
   {
    "duration": 34,
    "start_time": "2022-02-13T20:06:16.607Z"
   },
   {
    "duration": 14,
    "start_time": "2022-02-13T20:06:16.643Z"
   },
   {
    "duration": 12,
    "start_time": "2022-02-13T20:06:16.659Z"
   },
   {
    "duration": 11,
    "start_time": "2022-02-13T20:06:16.673Z"
   },
   {
    "duration": 17,
    "start_time": "2022-02-13T20:06:16.685Z"
   },
   {
    "duration": 40,
    "start_time": "2022-02-13T20:06:16.704Z"
   },
   {
    "duration": 11,
    "start_time": "2022-02-13T20:06:16.745Z"
   },
   {
    "duration": 6,
    "start_time": "2022-02-13T20:06:16.758Z"
   },
   {
    "duration": 7,
    "start_time": "2022-02-13T20:06:16.766Z"
   },
   {
    "duration": 9,
    "start_time": "2022-02-13T20:06:16.775Z"
   },
   {
    "duration": 8,
    "start_time": "2022-02-13T20:06:16.785Z"
   },
   {
    "duration": 15,
    "start_time": "2022-02-13T20:06:16.830Z"
   },
   {
    "duration": 17,
    "start_time": "2022-02-13T20:06:16.847Z"
   },
   {
    "duration": 8,
    "start_time": "2022-02-13T20:06:16.866Z"
   },
   {
    "duration": 15,
    "start_time": "2022-02-13T20:06:16.877Z"
   },
   {
    "duration": 298,
    "start_time": "2022-02-13T20:06:16.894Z"
   },
   {
    "duration": 405,
    "start_time": "2022-02-13T20:06:18.836Z"
   }
  ],
  "kernelspec": {
   "display_name": "Python 3",
   "language": "python",
   "name": "python3"
  },
  "language_info": {
   "codemirror_mode": {
    "name": "ipython",
    "version": 3
   },
   "file_extension": ".py",
   "mimetype": "text/x-python",
   "name": "python",
   "nbconvert_exporter": "python",
   "pygments_lexer": "ipython3",
   "version": "3.7.8"
  },
  "toc": {
   "base_numbering": 1,
   "nav_menu": {},
   "number_sections": true,
   "sideBar": true,
   "skip_h1_title": true,
   "title_cell": "Table of Contents",
   "title_sidebar": "Contents",
   "toc_cell": false,
   "toc_position": {},
   "toc_section_display": true,
   "toc_window_display": true
  }
 },
 "nbformat": 4,
 "nbformat_minor": 2
}
